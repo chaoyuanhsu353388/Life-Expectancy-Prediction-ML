{
  "nbformat": 4,
  "nbformat_minor": 0,
  "metadata": {
    "colab": {
      "provenance": []
    },
    "kernelspec": {
      "name": "python3",
      "display_name": "Python 3"
    },
    "language_info": {
      "name": "python"
    }
  },
  "cells": [
    {
      "cell_type": "markdown",
      "source": [
        "##DATA PREPARATION"
      ],
      "metadata": {
        "id": "l90ZxaAWf3ud"
      }
    },
    {
      "cell_type": "code",
      "execution_count": null,
      "metadata": {
        "id": "8RmRhypmo_NL"
      },
      "outputs": [],
      "source": [
        "# Loading the functions and libraries\n",
        "from pandas import  read_csv, DataFrame,Series,get_dummies\n",
        "from sklearn.preprocessing import StandardScaler\n",
        "from sklearn.model_selection import GridSearchCV\n",
        "from sklearn import linear_model\n",
        "from sklearn.linear_model import SGDRegressor\n",
        "from plotly import graph_objs, figure_factory"
      ]
    },
    {
      "cell_type": "code",
      "source": [
        "# Loading the dataset\n",
        "data = read_csv(\"/content/Life Expectancy Data.csv\")\n",
        "data.head()"
      ],
      "metadata": {
        "colab": {
          "base_uri": "https://localhost:8080/",
          "height": 278
        },
        "id": "rab0_2IOgLlQ",
        "outputId": "14b5baa3-90d2-4f54-c825-0ce2a010f667"
      },
      "execution_count": null,
      "outputs": [
        {
          "output_type": "execute_result",
          "data": {
            "text/plain": [
              "   Year      Status  Life expectancy   Adult Mortality  infant deaths  \\\n",
              "0  2015  Developing              65.0            263.0             62   \n",
              "1  2014  Developing              59.9            271.0             64   \n",
              "2  2013  Developing              59.9            268.0             66   \n",
              "3  2012  Developing              59.5            272.0             69   \n",
              "4  2011  Developing              59.2            275.0             71   \n",
              "\n",
              "   Alcohol  percentage expenditure  Hepatitis B  Measles    BMI   \\\n",
              "0     0.01               71.279624         65.0      1154   19.1   \n",
              "1     0.01               73.523582         62.0       492   18.6   \n",
              "2     0.01               73.219243         64.0       430   18.1   \n",
              "3     0.01               78.184215         67.0      2787   17.6   \n",
              "4     0.01                7.097109         68.0      3013   17.2   \n",
              "\n",
              "   under-five deaths   Polio  Total expenditure  Diphtheria    HIV/AIDS  \\\n",
              "0                  83    6.0               8.16         65.0        0.1   \n",
              "1                  86   58.0               8.18         62.0        0.1   \n",
              "2                  89   62.0               8.13         64.0        0.1   \n",
              "3                  93   67.0               8.52         67.0        0.1   \n",
              "4                  97   68.0               7.87         68.0        0.1   \n",
              "\n",
              "    thinness  1-19 years   thinness 5-9 years  \\\n",
              "0                   17.2                 17.3   \n",
              "1                   17.5                 17.5   \n",
              "2                   17.7                 17.7   \n",
              "3                   17.9                 18.0   \n",
              "4                   18.2                 18.2   \n",
              "\n",
              "   Income composition of resources  Schooling  \n",
              "0                            0.479       10.1  \n",
              "1                            0.476       10.0  \n",
              "2                            0.470        9.9  \n",
              "3                            0.463        9.8  \n",
              "4                            0.454        9.5  "
            ],
            "text/html": [
              "\n",
              "  <div id=\"df-10f9bd3a-50d9-4e91-9f70-ffea73072431\" class=\"colab-df-container\">\n",
              "    <div>\n",
              "<style scoped>\n",
              "    .dataframe tbody tr th:only-of-type {\n",
              "        vertical-align: middle;\n",
              "    }\n",
              "\n",
              "    .dataframe tbody tr th {\n",
              "        vertical-align: top;\n",
              "    }\n",
              "\n",
              "    .dataframe thead th {\n",
              "        text-align: right;\n",
              "    }\n",
              "</style>\n",
              "<table border=\"1\" class=\"dataframe\">\n",
              "  <thead>\n",
              "    <tr style=\"text-align: right;\">\n",
              "      <th></th>\n",
              "      <th>Year</th>\n",
              "      <th>Status</th>\n",
              "      <th>Life expectancy</th>\n",
              "      <th>Adult Mortality</th>\n",
              "      <th>infant deaths</th>\n",
              "      <th>Alcohol</th>\n",
              "      <th>percentage expenditure</th>\n",
              "      <th>Hepatitis B</th>\n",
              "      <th>Measles</th>\n",
              "      <th>BMI</th>\n",
              "      <th>under-five deaths</th>\n",
              "      <th>Polio</th>\n",
              "      <th>Total expenditure</th>\n",
              "      <th>Diphtheria</th>\n",
              "      <th>HIV/AIDS</th>\n",
              "      <th>thinness  1-19 years</th>\n",
              "      <th>thinness 5-9 years</th>\n",
              "      <th>Income composition of resources</th>\n",
              "      <th>Schooling</th>\n",
              "    </tr>\n",
              "  </thead>\n",
              "  <tbody>\n",
              "    <tr>\n",
              "      <th>0</th>\n",
              "      <td>2015</td>\n",
              "      <td>Developing</td>\n",
              "      <td>65.0</td>\n",
              "      <td>263.0</td>\n",
              "      <td>62</td>\n",
              "      <td>0.01</td>\n",
              "      <td>71.279624</td>\n",
              "      <td>65.0</td>\n",
              "      <td>1154</td>\n",
              "      <td>19.1</td>\n",
              "      <td>83</td>\n",
              "      <td>6.0</td>\n",
              "      <td>8.16</td>\n",
              "      <td>65.0</td>\n",
              "      <td>0.1</td>\n",
              "      <td>17.2</td>\n",
              "      <td>17.3</td>\n",
              "      <td>0.479</td>\n",
              "      <td>10.1</td>\n",
              "    </tr>\n",
              "    <tr>\n",
              "      <th>1</th>\n",
              "      <td>2014</td>\n",
              "      <td>Developing</td>\n",
              "      <td>59.9</td>\n",
              "      <td>271.0</td>\n",
              "      <td>64</td>\n",
              "      <td>0.01</td>\n",
              "      <td>73.523582</td>\n",
              "      <td>62.0</td>\n",
              "      <td>492</td>\n",
              "      <td>18.6</td>\n",
              "      <td>86</td>\n",
              "      <td>58.0</td>\n",
              "      <td>8.18</td>\n",
              "      <td>62.0</td>\n",
              "      <td>0.1</td>\n",
              "      <td>17.5</td>\n",
              "      <td>17.5</td>\n",
              "      <td>0.476</td>\n",
              "      <td>10.0</td>\n",
              "    </tr>\n",
              "    <tr>\n",
              "      <th>2</th>\n",
              "      <td>2013</td>\n",
              "      <td>Developing</td>\n",
              "      <td>59.9</td>\n",
              "      <td>268.0</td>\n",
              "      <td>66</td>\n",
              "      <td>0.01</td>\n",
              "      <td>73.219243</td>\n",
              "      <td>64.0</td>\n",
              "      <td>430</td>\n",
              "      <td>18.1</td>\n",
              "      <td>89</td>\n",
              "      <td>62.0</td>\n",
              "      <td>8.13</td>\n",
              "      <td>64.0</td>\n",
              "      <td>0.1</td>\n",
              "      <td>17.7</td>\n",
              "      <td>17.7</td>\n",
              "      <td>0.470</td>\n",
              "      <td>9.9</td>\n",
              "    </tr>\n",
              "    <tr>\n",
              "      <th>3</th>\n",
              "      <td>2012</td>\n",
              "      <td>Developing</td>\n",
              "      <td>59.5</td>\n",
              "      <td>272.0</td>\n",
              "      <td>69</td>\n",
              "      <td>0.01</td>\n",
              "      <td>78.184215</td>\n",
              "      <td>67.0</td>\n",
              "      <td>2787</td>\n",
              "      <td>17.6</td>\n",
              "      <td>93</td>\n",
              "      <td>67.0</td>\n",
              "      <td>8.52</td>\n",
              "      <td>67.0</td>\n",
              "      <td>0.1</td>\n",
              "      <td>17.9</td>\n",
              "      <td>18.0</td>\n",
              "      <td>0.463</td>\n",
              "      <td>9.8</td>\n",
              "    </tr>\n",
              "    <tr>\n",
              "      <th>4</th>\n",
              "      <td>2011</td>\n",
              "      <td>Developing</td>\n",
              "      <td>59.2</td>\n",
              "      <td>275.0</td>\n",
              "      <td>71</td>\n",
              "      <td>0.01</td>\n",
              "      <td>7.097109</td>\n",
              "      <td>68.0</td>\n",
              "      <td>3013</td>\n",
              "      <td>17.2</td>\n",
              "      <td>97</td>\n",
              "      <td>68.0</td>\n",
              "      <td>7.87</td>\n",
              "      <td>68.0</td>\n",
              "      <td>0.1</td>\n",
              "      <td>18.2</td>\n",
              "      <td>18.2</td>\n",
              "      <td>0.454</td>\n",
              "      <td>9.5</td>\n",
              "    </tr>\n",
              "  </tbody>\n",
              "</table>\n",
              "</div>\n",
              "    <div class=\"colab-df-buttons\">\n",
              "\n",
              "  <div class=\"colab-df-container\">\n",
              "    <button class=\"colab-df-convert\" onclick=\"convertToInteractive('df-10f9bd3a-50d9-4e91-9f70-ffea73072431')\"\n",
              "            title=\"Convert this dataframe to an interactive table.\"\n",
              "            style=\"display:none;\">\n",
              "\n",
              "  <svg xmlns=\"http://www.w3.org/2000/svg\" height=\"24px\" viewBox=\"0 -960 960 960\">\n",
              "    <path d=\"M120-120v-720h720v720H120Zm60-500h600v-160H180v160Zm220 220h160v-160H400v160Zm0 220h160v-160H400v160ZM180-400h160v-160H180v160Zm440 0h160v-160H620v160ZM180-180h160v-160H180v160Zm440 0h160v-160H620v160Z\"/>\n",
              "  </svg>\n",
              "    </button>\n",
              "\n",
              "  <style>\n",
              "    .colab-df-container {\n",
              "      display:flex;\n",
              "      gap: 12px;\n",
              "    }\n",
              "\n",
              "    .colab-df-convert {\n",
              "      background-color: #E8F0FE;\n",
              "      border: none;\n",
              "      border-radius: 50%;\n",
              "      cursor: pointer;\n",
              "      display: none;\n",
              "      fill: #1967D2;\n",
              "      height: 32px;\n",
              "      padding: 0 0 0 0;\n",
              "      width: 32px;\n",
              "    }\n",
              "\n",
              "    .colab-df-convert:hover {\n",
              "      background-color: #E2EBFA;\n",
              "      box-shadow: 0px 1px 2px rgba(60, 64, 67, 0.3), 0px 1px 3px 1px rgba(60, 64, 67, 0.15);\n",
              "      fill: #174EA6;\n",
              "    }\n",
              "\n",
              "    .colab-df-buttons div {\n",
              "      margin-bottom: 4px;\n",
              "    }\n",
              "\n",
              "    [theme=dark] .colab-df-convert {\n",
              "      background-color: #3B4455;\n",
              "      fill: #D2E3FC;\n",
              "    }\n",
              "\n",
              "    [theme=dark] .colab-df-convert:hover {\n",
              "      background-color: #434B5C;\n",
              "      box-shadow: 0px 1px 3px 1px rgba(0, 0, 0, 0.15);\n",
              "      filter: drop-shadow(0px 1px 2px rgba(0, 0, 0, 0.3));\n",
              "      fill: #FFFFFF;\n",
              "    }\n",
              "  </style>\n",
              "\n",
              "    <script>\n",
              "      const buttonEl =\n",
              "        document.querySelector('#df-10f9bd3a-50d9-4e91-9f70-ffea73072431 button.colab-df-convert');\n",
              "      buttonEl.style.display =\n",
              "        google.colab.kernel.accessAllowed ? 'block' : 'none';\n",
              "\n",
              "      async function convertToInteractive(key) {\n",
              "        const element = document.querySelector('#df-10f9bd3a-50d9-4e91-9f70-ffea73072431');\n",
              "        const dataTable =\n",
              "          await google.colab.kernel.invokeFunction('convertToInteractive',\n",
              "                                                    [key], {});\n",
              "        if (!dataTable) return;\n",
              "\n",
              "        const docLinkHtml = 'Like what you see? Visit the ' +\n",
              "          '<a target=\"_blank\" href=https://colab.research.google.com/notebooks/data_table.ipynb>data table notebook</a>'\n",
              "          + ' to learn more about interactive tables.';\n",
              "        element.innerHTML = '';\n",
              "        dataTable['output_type'] = 'display_data';\n",
              "        await google.colab.output.renderOutput(dataTable, element);\n",
              "        const docLink = document.createElement('div');\n",
              "        docLink.innerHTML = docLinkHtml;\n",
              "        element.appendChild(docLink);\n",
              "      }\n",
              "    </script>\n",
              "  </div>\n",
              "\n",
              "\n",
              "<div id=\"df-6e3d07db-c8c2-41fc-a319-460946a2ff4f\">\n",
              "  <button class=\"colab-df-quickchart\" onclick=\"quickchart('df-6e3d07db-c8c2-41fc-a319-460946a2ff4f')\"\n",
              "            title=\"Suggest charts\"\n",
              "            style=\"display:none;\">\n",
              "\n",
              "<svg xmlns=\"http://www.w3.org/2000/svg\" height=\"24px\"viewBox=\"0 0 24 24\"\n",
              "     width=\"24px\">\n",
              "    <g>\n",
              "        <path d=\"M19 3H5c-1.1 0-2 .9-2 2v14c0 1.1.9 2 2 2h14c1.1 0 2-.9 2-2V5c0-1.1-.9-2-2-2zM9 17H7v-7h2v7zm4 0h-2V7h2v10zm4 0h-2v-4h2v4z\"/>\n",
              "    </g>\n",
              "</svg>\n",
              "  </button>\n",
              "\n",
              "<style>\n",
              "  .colab-df-quickchart {\n",
              "      --bg-color: #E8F0FE;\n",
              "      --fill-color: #1967D2;\n",
              "      --hover-bg-color: #E2EBFA;\n",
              "      --hover-fill-color: #174EA6;\n",
              "      --disabled-fill-color: #AAA;\n",
              "      --disabled-bg-color: #DDD;\n",
              "  }\n",
              "\n",
              "  [theme=dark] .colab-df-quickchart {\n",
              "      --bg-color: #3B4455;\n",
              "      --fill-color: #D2E3FC;\n",
              "      --hover-bg-color: #434B5C;\n",
              "      --hover-fill-color: #FFFFFF;\n",
              "      --disabled-bg-color: #3B4455;\n",
              "      --disabled-fill-color: #666;\n",
              "  }\n",
              "\n",
              "  .colab-df-quickchart {\n",
              "    background-color: var(--bg-color);\n",
              "    border: none;\n",
              "    border-radius: 50%;\n",
              "    cursor: pointer;\n",
              "    display: none;\n",
              "    fill: var(--fill-color);\n",
              "    height: 32px;\n",
              "    padding: 0;\n",
              "    width: 32px;\n",
              "  }\n",
              "\n",
              "  .colab-df-quickchart:hover {\n",
              "    background-color: var(--hover-bg-color);\n",
              "    box-shadow: 0 1px 2px rgba(60, 64, 67, 0.3), 0 1px 3px 1px rgba(60, 64, 67, 0.15);\n",
              "    fill: var(--button-hover-fill-color);\n",
              "  }\n",
              "\n",
              "  .colab-df-quickchart-complete:disabled,\n",
              "  .colab-df-quickchart-complete:disabled:hover {\n",
              "    background-color: var(--disabled-bg-color);\n",
              "    fill: var(--disabled-fill-color);\n",
              "    box-shadow: none;\n",
              "  }\n",
              "\n",
              "  .colab-df-spinner {\n",
              "    border: 2px solid var(--fill-color);\n",
              "    border-color: transparent;\n",
              "    border-bottom-color: var(--fill-color);\n",
              "    animation:\n",
              "      spin 1s steps(1) infinite;\n",
              "  }\n",
              "\n",
              "  @keyframes spin {\n",
              "    0% {\n",
              "      border-color: transparent;\n",
              "      border-bottom-color: var(--fill-color);\n",
              "      border-left-color: var(--fill-color);\n",
              "    }\n",
              "    20% {\n",
              "      border-color: transparent;\n",
              "      border-left-color: var(--fill-color);\n",
              "      border-top-color: var(--fill-color);\n",
              "    }\n",
              "    30% {\n",
              "      border-color: transparent;\n",
              "      border-left-color: var(--fill-color);\n",
              "      border-top-color: var(--fill-color);\n",
              "      border-right-color: var(--fill-color);\n",
              "    }\n",
              "    40% {\n",
              "      border-color: transparent;\n",
              "      border-right-color: var(--fill-color);\n",
              "      border-top-color: var(--fill-color);\n",
              "    }\n",
              "    60% {\n",
              "      border-color: transparent;\n",
              "      border-right-color: var(--fill-color);\n",
              "    }\n",
              "    80% {\n",
              "      border-color: transparent;\n",
              "      border-right-color: var(--fill-color);\n",
              "      border-bottom-color: var(--fill-color);\n",
              "    }\n",
              "    90% {\n",
              "      border-color: transparent;\n",
              "      border-bottom-color: var(--fill-color);\n",
              "    }\n",
              "  }\n",
              "</style>\n",
              "\n",
              "  <script>\n",
              "    async function quickchart(key) {\n",
              "      const quickchartButtonEl =\n",
              "        document.querySelector('#' + key + ' button');\n",
              "      quickchartButtonEl.disabled = true;  // To prevent multiple clicks.\n",
              "      quickchartButtonEl.classList.add('colab-df-spinner');\n",
              "      try {\n",
              "        const charts = await google.colab.kernel.invokeFunction(\n",
              "            'suggestCharts', [key], {});\n",
              "      } catch (error) {\n",
              "        console.error('Error during call to suggestCharts:', error);\n",
              "      }\n",
              "      quickchartButtonEl.classList.remove('colab-df-spinner');\n",
              "      quickchartButtonEl.classList.add('colab-df-quickchart-complete');\n",
              "    }\n",
              "    (() => {\n",
              "      let quickchartButtonEl =\n",
              "        document.querySelector('#df-6e3d07db-c8c2-41fc-a319-460946a2ff4f button');\n",
              "      quickchartButtonEl.style.display =\n",
              "        google.colab.kernel.accessAllowed ? 'block' : 'none';\n",
              "    })();\n",
              "  </script>\n",
              "</div>\n",
              "    </div>\n",
              "  </div>\n"
            ],
            "application/vnd.google.colaboratory.intrinsic+json": {
              "type": "dataframe",
              "variable_name": "data",
              "summary": "{\n  \"name\": \"data\",\n  \"rows\": 2938,\n  \"fields\": [\n    {\n      \"column\": \"Year\",\n      \"properties\": {\n        \"dtype\": \"number\",\n        \"std\": 4,\n        \"min\": 2000,\n        \"max\": 2015,\n        \"num_unique_values\": 16,\n        \"samples\": [\n          2015,\n          2014,\n          2010\n        ],\n        \"semantic_type\": \"\",\n        \"description\": \"\"\n      }\n    },\n    {\n      \"column\": \"Status\",\n      \"properties\": {\n        \"dtype\": \"category\",\n        \"num_unique_values\": 2,\n        \"samples\": [\n          \"Developed\",\n          \"Developing\"\n        ],\n        \"semantic_type\": \"\",\n        \"description\": \"\"\n      }\n    },\n    {\n      \"column\": \"Life expectancy \",\n      \"properties\": {\n        \"dtype\": \"number\",\n        \"std\": 9.523867487824301,\n        \"min\": 36.3,\n        \"max\": 89.0,\n        \"num_unique_values\": 362,\n        \"samples\": [\n          55.5,\n          74.9\n        ],\n        \"semantic_type\": \"\",\n        \"description\": \"\"\n      }\n    },\n    {\n      \"column\": \"Adult Mortality\",\n      \"properties\": {\n        \"dtype\": \"number\",\n        \"std\": 124.29207900342186,\n        \"min\": 1.0,\n        \"max\": 723.0,\n        \"num_unique_values\": 425,\n        \"samples\": [\n          614.0,\n          141.0\n        ],\n        \"semantic_type\": \"\",\n        \"description\": \"\"\n      }\n    },\n    {\n      \"column\": \"infant deaths\",\n      \"properties\": {\n        \"dtype\": \"number\",\n        \"std\": 117,\n        \"min\": 0,\n        \"max\": 1800,\n        \"num_unique_values\": 209,\n        \"samples\": [\n          9,\n          483\n        ],\n        \"semantic_type\": \"\",\n        \"description\": \"\"\n      }\n    },\n    {\n      \"column\": \"Alcohol\",\n      \"properties\": {\n        \"dtype\": \"number\",\n        \"std\": 4.052412658755661,\n        \"min\": 0.01,\n        \"max\": 17.87,\n        \"num_unique_values\": 1076,\n        \"samples\": [\n          1.91,\n          9.25\n        ],\n        \"semantic_type\": \"\",\n        \"description\": \"\"\n      }\n    },\n    {\n      \"column\": \"percentage expenditure\",\n      \"properties\": {\n        \"dtype\": \"number\",\n        \"std\": 1987.9148580161914,\n        \"min\": 0.0,\n        \"max\": 19479.91161,\n        \"num_unique_values\": 2328,\n        \"samples\": [\n          5063.513104,\n          72.8001211\n        ],\n        \"semantic_type\": \"\",\n        \"description\": \"\"\n      }\n    },\n    {\n      \"column\": \"Hepatitis B\",\n      \"properties\": {\n        \"dtype\": \"number\",\n        \"std\": 25.0700155930181,\n        \"min\": 1.0,\n        \"max\": 99.0,\n        \"num_unique_values\": 87,\n        \"samples\": [\n          59.0,\n          65.0\n        ],\n        \"semantic_type\": \"\",\n        \"description\": \"\"\n      }\n    },\n    {\n      \"column\": \"Measles \",\n      \"properties\": {\n        \"dtype\": \"number\",\n        \"std\": 11467,\n        \"min\": 0,\n        \"max\": 212183,\n        \"num_unique_values\": 958,\n        \"samples\": [\n          2641,\n          5189\n        ],\n        \"semantic_type\": \"\",\n        \"description\": \"\"\n      }\n    },\n    {\n      \"column\": \" BMI \",\n      \"properties\": {\n        \"dtype\": \"number\",\n        \"std\": 20.04403350256208,\n        \"min\": 1.0,\n        \"max\": 87.3,\n        \"num_unique_values\": 608,\n        \"samples\": [\n          62.9,\n          14.2\n        ],\n        \"semantic_type\": \"\",\n        \"description\": \"\"\n      }\n    },\n    {\n      \"column\": \"under-five deaths \",\n      \"properties\": {\n        \"dtype\": \"number\",\n        \"std\": 160,\n        \"min\": 0,\n        \"max\": 2500,\n        \"num_unique_values\": 252,\n        \"samples\": [\n          46,\n          106\n        ],\n        \"semantic_type\": \"\",\n        \"description\": \"\"\n      }\n    },\n    {\n      \"column\": \"Polio\",\n      \"properties\": {\n        \"dtype\": \"number\",\n        \"std\": 23.428045949468498,\n        \"min\": 3.0,\n        \"max\": 99.0,\n        \"num_unique_values\": 73,\n        \"samples\": [\n          68.0,\n          43.0\n        ],\n        \"semantic_type\": \"\",\n        \"description\": \"\"\n      }\n    },\n    {\n      \"column\": \"Total expenditure\",\n      \"properties\": {\n        \"dtype\": \"number\",\n        \"std\": 2.4983196721556316,\n        \"min\": 0.37,\n        \"max\": 17.6,\n        \"num_unique_values\": 818,\n        \"samples\": [\n          9.21,\n          4.33\n        ],\n        \"semantic_type\": \"\",\n        \"description\": \"\"\n      }\n    },\n    {\n      \"column\": \"Diphtheria \",\n      \"properties\": {\n        \"dtype\": \"number\",\n        \"std\": 23.716912068572594,\n        \"min\": 2.0,\n        \"max\": 99.0,\n        \"num_unique_values\": 81,\n        \"samples\": [\n          4.0,\n          65.0\n        ],\n        \"semantic_type\": \"\",\n        \"description\": \"\"\n      }\n    },\n    {\n      \"column\": \" HIV/AIDS\",\n      \"properties\": {\n        \"dtype\": \"number\",\n        \"std\": 5.077784531086549,\n        \"min\": 0.1,\n        \"max\": 50.6,\n        \"num_unique_values\": 200,\n        \"samples\": [\n          8.9,\n          0.6\n        ],\n        \"semantic_type\": \"\",\n        \"description\": \"\"\n      }\n    },\n    {\n      \"column\": \" thinness  1-19 years\",\n      \"properties\": {\n        \"dtype\": \"number\",\n        \"std\": 4.420194947144321,\n        \"min\": 0.1,\n        \"max\": 27.7,\n        \"num_unique_values\": 200,\n        \"samples\": [\n          18.0,\n          2.3\n        ],\n        \"semantic_type\": \"\",\n        \"description\": \"\"\n      }\n    },\n    {\n      \"column\": \" thinness 5-9 years\",\n      \"properties\": {\n        \"dtype\": \"number\",\n        \"std\": 4.508882086983003,\n        \"min\": 0.1,\n        \"max\": 28.6,\n        \"num_unique_values\": 207,\n        \"samples\": [\n          14.1,\n          2.5\n        ],\n        \"semantic_type\": \"\",\n        \"description\": \"\"\n      }\n    },\n    {\n      \"column\": \"Income composition of resources\",\n      \"properties\": {\n        \"dtype\": \"number\",\n        \"std\": 0.21090355515159298,\n        \"min\": 0.0,\n        \"max\": 0.948,\n        \"num_unique_values\": 625,\n        \"samples\": [\n          0.916,\n          0.443\n        ],\n        \"semantic_type\": \"\",\n        \"description\": \"\"\n      }\n    },\n    {\n      \"column\": \"Schooling\",\n      \"properties\": {\n        \"dtype\": \"number\",\n        \"std\": 3.3589197211023563,\n        \"min\": 0.0,\n        \"max\": 20.7,\n        \"num_unique_values\": 173,\n        \"samples\": [\n          18.5,\n          6.4\n        ],\n        \"semantic_type\": \"\",\n        \"description\": \"\"\n      }\n    }\n  ]\n}"
            }
          },
          "metadata": {},
          "execution_count": 50
        }
      ]
    },
    {
      "cell_type": "code",
      "source": [
        "print(data.shape)\n",
        "print(data.info())"
      ],
      "metadata": {
        "colab": {
          "base_uri": "https://localhost:8080/"
        },
        "id": "sCRFvK-IgUbU",
        "outputId": "a4a46ab0-61f6-493e-c72b-2eeb8ee156ef"
      },
      "execution_count": null,
      "outputs": [
        {
          "output_type": "stream",
          "name": "stdout",
          "text": [
            "(2938, 19)\n",
            "<class 'pandas.core.frame.DataFrame'>\n",
            "RangeIndex: 2938 entries, 0 to 2937\n",
            "Data columns (total 19 columns):\n",
            " #   Column                           Non-Null Count  Dtype  \n",
            "---  ------                           --------------  -----  \n",
            " 0   Year                             2938 non-null   int64  \n",
            " 1   Status                           2938 non-null   object \n",
            " 2   Life expectancy                  2928 non-null   float64\n",
            " 3   Adult Mortality                  2928 non-null   float64\n",
            " 4   infant deaths                    2938 non-null   int64  \n",
            " 5   Alcohol                          2744 non-null   float64\n",
            " 6   percentage expenditure           2938 non-null   float64\n",
            " 7   Hepatitis B                      2385 non-null   float64\n",
            " 8   Measles                          2938 non-null   int64  \n",
            " 9    BMI                             2904 non-null   float64\n",
            " 10  under-five deaths                2938 non-null   int64  \n",
            " 11  Polio                            2919 non-null   float64\n",
            " 12  Total expenditure                2712 non-null   float64\n",
            " 13  Diphtheria                       2919 non-null   float64\n",
            " 14   HIV/AIDS                        2938 non-null   float64\n",
            " 15   thinness  1-19 years            2904 non-null   float64\n",
            " 16   thinness 5-9 years              2904 non-null   float64\n",
            " 17  Income composition of resources  2771 non-null   float64\n",
            " 18  Schooling                        2775 non-null   float64\n",
            "dtypes: float64(14), int64(4), object(1)\n",
            "memory usage: 436.2+ KB\n",
            "None\n"
          ]
        }
      ]
    },
    {
      "cell_type": "code",
      "source": [
        "# Filling the missing values\n",
        "mean= data['Hepatitis B'].mean()  # Getting the mean\n",
        "mean\n",
        "data['Hepatitis B']=data['Hepatitis B'].fillna(mean)\n",
        "\n",
        "mean= data['Alcohol'].mean()\n",
        "mean\n",
        "data['Alcohol']=data['Alcohol'].fillna(mean)\n",
        "\n",
        "mean= data[' BMI '].mean()\n",
        "mean\n",
        "data[' BMI ']=data[' BMI '].fillna(mean)\n",
        "\n",
        "mean= data['Polio'].mean()\n",
        "mean\n",
        "data['Polio']=data['Polio'].fillna(mean)\n",
        "\n",
        "mean= data['Total expenditure'].mean()\n",
        "mean\n",
        "data['Total expenditure']=data['Total expenditure'].fillna(mean)\n",
        "\n",
        "mean= data['Diphtheria '].mean()\n",
        "mean\n",
        "data['Diphtheria ']=data['Diphtheria '].fillna(mean)\n",
        "\n",
        "mean= data[' thinness  1-19 years'].mean()\n",
        "mean\n",
        "data[' thinness  1-19 years']=data[' thinness  1-19 years'].fillna(mean)\n",
        "\n",
        "mean= data[' thinness 5-9 years'].mean()\n",
        "mean\n",
        "data[' thinness 5-9 years']=data[' thinness 5-9 years'].fillna(mean)\n",
        "\n",
        "mean= data['Life expectancy '].mean()\n",
        "mean\n",
        "data['Life expectancy ']=data['Life expectancy '].fillna(mean)\n",
        "\n",
        "mean= data['Adult Mortality'].mean()\n",
        "mean\n",
        "data['Adult Mortality']=data['Adult Mortality'].fillna(mean)\n",
        "\n",
        "mean= data['Income composition of resources'].mean()\n",
        "mean\n",
        "data['Income composition of resources']=data['Income composition of resources'].fillna(mean)\n",
        "\n",
        "mean= data['Schooling'].mean()\n",
        "mean\n",
        "data['Schooling']=data['Schooling'].fillna(mean)"
      ],
      "metadata": {
        "id": "Ntmj00WZpex7"
      },
      "execution_count": null,
      "outputs": []
    },
    {
      "cell_type": "code",
      "source": [
        "data.info()"
      ],
      "metadata": {
        "colab": {
          "base_uri": "https://localhost:8080/"
        },
        "id": "-JEvs0EopmSK",
        "outputId": "1fa86c91-f2cf-4965-e0a2-db808b73263c"
      },
      "execution_count": null,
      "outputs": [
        {
          "output_type": "stream",
          "name": "stdout",
          "text": [
            "<class 'pandas.core.frame.DataFrame'>\n",
            "RangeIndex: 2938 entries, 0 to 2937\n",
            "Data columns (total 19 columns):\n",
            " #   Column                           Non-Null Count  Dtype  \n",
            "---  ------                           --------------  -----  \n",
            " 0   Year                             2938 non-null   int64  \n",
            " 1   Status                           2938 non-null   object \n",
            " 2   Life expectancy                  2938 non-null   float64\n",
            " 3   Adult Mortality                  2938 non-null   float64\n",
            " 4   infant deaths                    2938 non-null   int64  \n",
            " 5   Alcohol                          2938 non-null   float64\n",
            " 6   percentage expenditure           2938 non-null   float64\n",
            " 7   Hepatitis B                      2938 non-null   float64\n",
            " 8   Measles                          2938 non-null   int64  \n",
            " 9    BMI                             2938 non-null   float64\n",
            " 10  under-five deaths                2938 non-null   int64  \n",
            " 11  Polio                            2938 non-null   float64\n",
            " 12  Total expenditure                2938 non-null   float64\n",
            " 13  Diphtheria                       2938 non-null   float64\n",
            " 14   HIV/AIDS                        2938 non-null   float64\n",
            " 15   thinness  1-19 years            2938 non-null   float64\n",
            " 16   thinness 5-9 years              2938 non-null   float64\n",
            " 17  Income composition of resources  2938 non-null   float64\n",
            " 18  Schooling                        2938 non-null   float64\n",
            "dtypes: float64(14), int64(4), object(1)\n",
            "memory usage: 436.2+ KB\n"
          ]
        }
      ]
    },
    {
      "cell_type": "code",
      "source": [
        "# Converting categorical variables into numeric values\n",
        "data['Status'].unique()"
      ],
      "metadata": {
        "id": "M-qF1gu4shyV",
        "colab": {
          "base_uri": "https://localhost:8080/"
        },
        "outputId": "7f493ec3-4a5e-4671-a8d6-3be58f253f8a"
      },
      "execution_count": null,
      "outputs": [
        {
          "output_type": "execute_result",
          "data": {
            "text/plain": [
              "array(['Developing', 'Developed'], dtype=object)"
            ]
          },
          "metadata": {},
          "execution_count": 54
        }
      ]
    },
    {
      "cell_type": "code",
      "source": [
        "data['Status'] = data['Status'].map({'Developing':0,'Developed':1})"
      ],
      "metadata": {
        "id": "4S1XOt_jinHQ"
      },
      "execution_count": null,
      "outputs": []
    },
    {
      "cell_type": "code",
      "source": [
        "data.info()"
      ],
      "metadata": {
        "colab": {
          "base_uri": "https://localhost:8080/"
        },
        "id": "IHBtKaipsmqm",
        "outputId": "808756ef-e302-4445-b78b-c9f27a7ec187"
      },
      "execution_count": null,
      "outputs": [
        {
          "output_type": "stream",
          "name": "stdout",
          "text": [
            "<class 'pandas.core.frame.DataFrame'>\n",
            "RangeIndex: 2938 entries, 0 to 2937\n",
            "Data columns (total 19 columns):\n",
            " #   Column                           Non-Null Count  Dtype  \n",
            "---  ------                           --------------  -----  \n",
            " 0   Year                             2938 non-null   int64  \n",
            " 1   Status                           2938 non-null   int64  \n",
            " 2   Life expectancy                  2938 non-null   float64\n",
            " 3   Adult Mortality                  2938 non-null   float64\n",
            " 4   infant deaths                    2938 non-null   int64  \n",
            " 5   Alcohol                          2938 non-null   float64\n",
            " 6   percentage expenditure           2938 non-null   float64\n",
            " 7   Hepatitis B                      2938 non-null   float64\n",
            " 8   Measles                          2938 non-null   int64  \n",
            " 9    BMI                             2938 non-null   float64\n",
            " 10  under-five deaths                2938 non-null   int64  \n",
            " 11  Polio                            2938 non-null   float64\n",
            " 12  Total expenditure                2938 non-null   float64\n",
            " 13  Diphtheria                       2938 non-null   float64\n",
            " 14   HIV/AIDS                        2938 non-null   float64\n",
            " 15   thinness  1-19 years            2938 non-null   float64\n",
            " 16   thinness 5-9 years              2938 non-null   float64\n",
            " 17  Income composition of resources  2938 non-null   float64\n",
            " 18  Schooling                        2938 non-null   float64\n",
            "dtypes: float64(14), int64(5)\n",
            "memory usage: 436.2 KB\n"
          ]
        }
      ]
    },
    {
      "cell_type": "code",
      "source": [
        "# Creating a heatmap with correlation matrix\n",
        "correlation  = data.corr()\n",
        "f = figure_factory.create_annotated_heatmap(correlation.values,list(correlation.columns),list(correlation.columns),correlation.round(2).values,showscale=True)\n",
        "f.show()"
      ],
      "metadata": {
        "colab": {
          "base_uri": "https://localhost:8080/",
          "height": 542
        },
        "id": "ySVoaBREsvmr",
        "outputId": "970a2436-28d3-498f-80e1-1fbbc0fe3a70"
      },
      "execution_count": null,
      "outputs": [
        {
          "output_type": "display_data",
          "data": {
            "text/html": [
              "<html>\n",
              "<head><meta charset=\"utf-8\" /></head>\n",
              "<body>\n",
              "    <div>            <script src=\"https://cdnjs.cloudflare.com/ajax/libs/mathjax/2.7.5/MathJax.js?config=TeX-AMS-MML_SVG\"></script><script type=\"text/javascript\">if (window.MathJax && window.MathJax.Hub && window.MathJax.Hub.Config) {window.MathJax.Hub.Config({SVG: {font: \"STIX-Web\"}});}</script>                <script type=\"text/javascript\">window.PlotlyConfig = {MathJaxConfig: 'local'};</script>\n",
              "        <script charset=\"utf-8\" src=\"https://cdn.plot.ly/plotly-2.24.1.min.js\"></script>                <div id=\"bdda4881-070d-4b94-909e-88729f45946b\" class=\"plotly-graph-div\" style=\"height:525px; width:100%;\"></div>            <script type=\"text/javascript\">                                    window.PLOTLYENV=window.PLOTLYENV || {};                                    if (document.getElementById(\"bdda4881-070d-4b94-909e-88729f45946b\")) {                    Plotly.newPlot(                        \"bdda4881-070d-4b94-909e-88729f45946b\",                        [{\"colorscale\":[[0.0,\"#0d0887\"],[0.1111111111111111,\"#46039f\"],[0.2222222222222222,\"#7201a8\"],[0.3333333333333333,\"#9c179e\"],[0.4444444444444444,\"#bd3786\"],[0.5555555555555556,\"#d8576b\"],[0.6666666666666666,\"#ed7953\"],[0.7777777777777778,\"#fb9f3a\"],[0.8888888888888888,\"#fdca26\"],[1.0,\"#f0f921\"]],\"reversescale\":false,\"showscale\":true,\"x\":[\"Year\",\"Status\",\"Life expectancy \",\"Adult Mortality\",\"infant deaths\",\"Alcohol\",\"percentage expenditure\",\"Hepatitis B\",\"Measles \",\" BMI \",\"under-five deaths \",\"Polio\",\"Total expenditure\",\"Diphtheria \",\" HIV\\u002fAIDS\",\" thinness  1-19 years\",\" thinness 5-9 years\",\"Income composition of resources\",\"Schooling\"],\"y\":[\"Year\",\"Status\",\"Life expectancy \",\"Adult Mortality\",\"infant deaths\",\"Alcohol\",\"percentage expenditure\",\"Hepatitis B\",\"Measles \",\" BMI \",\"under-five deaths \",\"Polio\",\"Total expenditure\",\"Diphtheria \",\" HIV\\u002fAIDS\",\" thinness  1-19 years\",\" thinness 5-9 years\",\"Income composition of resources\",\"Schooling\"],\"z\":[[1.0,-0.0018642827639236417,0.16962259094530666,-0.0788607708151725,-0.037414925796481716,-0.048167593570264775,0.03139997806205815,0.08939826515315984,-0.08249297515786005,0.10832670405171561,-0.04293698606198453,0.09381958492989508,0.08186014271027289,0.13385336830104905,-0.13974136232228201,-0.04759213330640331,-0.0506267029162647,0.23633317217228142,0.2034711925265079],[-0.0018642827639236417,1.0,0.48196233762377677,-0.3151707124602973,-0.11225157655273633,0.5793714188099247,0.45426097181101815,0.09564163942711536,-0.07695506635033025,0.3108725767690053,-0.1151950865531092,0.2200984610757804,0.2899850477078365,0.21676347333966092,-0.14859005920413956,-0.3679339758350084,-0.3662971436899052,0.4573017357298464,0.4914436580370806],[0.16962259094530666,0.48196233762377677,1.0,-0.6963593137699748,-0.1965350030769957,0.391598339384289,0.38179117320643036,0.203771437400268,-0.15757381859716893,0.5592553046406479,-0.22250302192435084,0.4615737754457901,0.2079806245186787,0.47541838493660693,-0.5564568165997131,-0.4721618794367612,-0.4666292081443004,0.6924828049608575,0.7150663398620047],[-0.0788607708151725,-0.3151707124602973,-0.6963593137699748,1.0,0.07874712727405284,-0.1904078112266255,-0.24281352735410544,-0.13859090851341713,0.031174040791847796,-0.3814494132408952,0.0941350874702371,-0.27269357666185173,-0.11087453615421053,-0.2730138853915508,0.5237269198146711,0.29986267324870935,0.30536641205782666,-0.4400620477559986,-0.4351084523809734],[-0.037414925796481716,-0.11225157655273633,-0.1965350030769957,0.07874712727405284,1.0,-0.11381226815674227,-0.08561222162959511,-0.17878339095929244,0.5011283418160044,-0.22721996845260362,0.996628882039801,-0.17067376093235442,-0.1265641175914812,-0.1751563091492285,0.025231318436954683,0.4655901530391217,0.47122794761584147,-0.14366278028727386,-0.19175730564401394],[-0.048167593570264775,0.5793714188099247,0.391598339384289,-0.1904078112266255,-0.11381226815674227,1.0,0.33963429403141965,0.07544714649176221,-0.051054985646677195,0.31807029859865854,-0.11077712838219742,0.21374404403076955,0.29489811515374265,0.2152419398438807,-0.0486497064590801,-0.41694557114267655,-0.40588067925366006,0.41609922548008865,0.4975462804630475],[0.03139997806205815,0.45426097181101815,0.38179117320643036,-0.24281352735410544,-0.08561222162959511,0.33963429403141965,1.0,0.011679322385167772,-0.0565956769410405,0.22853723071691842,-0.08785230551495221,0.1472034299599627,0.17341415076445563,0.14356977624305337,-0.09785681892238582,-0.2511899992468796,-0.2527248635306042,0.380373551186902,0.38810497538225214],[0.08939826515315984,0.09564163942711536,0.203771437400268,-0.13859090851341713,-0.17878339095929244,0.07544714649176221,0.011679322385167772,1.0,-0.09031693718355345,0.1349285118047405,-0.18441262052077123,0.4085192335515031,0.05008430254088965,0.4999576706118895,-0.10240544327174073,-0.1051436064219703,-0.10833424460840463,0.15099204432756358,0.17175483249877768],[-0.08249297515786005,-0.07695506635033025,-0.15757381859716893,0.031174040791847796,0.5011283418160044,-0.051054985646677195,-0.0565956769410405,-0.09031693718355345,1.0,-0.17592529079421226,0.5078087068586805,-0.13614627574277988,-0.10456871636066804,-0.14186137111087105,0.03089871787284502,0.22474216982436418,0.22100716044216695,-0.11576407408509533,-0.12260854479701505],[0.10832670405171561,0.3108725767690053,0.5592553046406479,-0.3814494132408952,-0.22721996845260362,0.31807029859865854,0.22853723071691842,0.1349285118047405,-0.17592529079421226,1.0,-0.23758588467176628,0.2821559212623096,0.2318144030914855,0.28105881280872264,-0.2435475849765684,-0.5320247499616293,-0.5389105726503013,0.4798373685300695,0.5081054772767056],[-0.04293698606198453,-0.1151950865531092,-0.22250302192435084,0.0941350874702371,0.996628882039801,-0.11077712838219742,-0.08785230551495221,-0.18441262052077123,0.5078087068586805,-0.23758588467176628,1.0,-0.18870310826851186,-0.12826938658063314,-0.19565055312027668,0.03806151235725247,0.46762640161013913,0.472098621612799,-0.1615334126845432,-0.20711141924384913],[0.09381958492989508,0.2200984610757804,0.4615737754457901,-0.27269357666185173,-0.17067376093235442,0.21374404403076955,0.1472034299599627,0.4085192335515031,-0.13614627574277988,0.2821559212623096,-0.18870310826851186,1.0,0.1301294939525096,0.6735533206902241,-0.1594886378558392,-0.2199375614227823,-0.2207101031426485,0.3553976382348242,0.38583163057679654],[0.08186014271027289,0.2899850477078365,0.2079806245186787,-0.11087453615421053,-0.1265641175914812,0.29489811515374265,0.17341415076445563,0.05008430254088965,-0.10456871636066804,0.2318144030914855,-0.12826938658063314,0.1301294939525096,1.0,0.14559660480819817,-0.0013827196447462713,-0.2687237583813958,-0.27523999901827284,0.14909472627117584,0.21831013298043542],[0.13385336830104905,0.21676347333966092,0.47541838493660693,-0.2730138853915508,-0.1751563091492285,0.2152419398438807,0.14356977624305337,0.4999576706118895,-0.14186137111087105,0.28105881280872264,-0.19565055312027668,0.6735533206902241,0.14559660480819817,1.0,-0.16478683506391056,-0.22781986192449236,-0.22110530653711682,0.371729147052817,0.38994379729706913],[-0.13974136232228201,-0.14859005920413956,-0.5564568165997131,0.5237269198146711,0.025231318436954683,-0.0486497064590801,-0.09785681892238582,-0.10240544327174073,0.03089871787284502,-0.2435475849765684,0.03806151235725247,-0.1594886378558392,-0.0013827196447462713,-0.16478683506391056,1.0,0.20392213031374234,0.20713955576112536,-0.2474535337145792,-0.218619750415111],[-0.04759213330640331,-0.3679339758350084,-0.4721618794367612,0.29986267324870935,0.4655901530391217,-0.41694557114267655,-0.2511899992468796,-0.1051436064219703,0.22474216982436418,-0.5320247499616293,0.46762640161013913,-0.2199375614227823,-0.2687237583813958,-0.22781986192449236,0.20392213031374234,1.0,0.9391019921914646,-0.4066617328655129,-0.4461400871296839],[-0.0506267029162647,-0.3662971436899052,-0.4666292081443004,0.30536641205782666,0.47122794761584147,-0.40588067925366006,-0.2527248635306042,-0.10833424460840463,0.22100716044216695,-0.5389105726503013,0.472098621612799,-0.2207101031426485,-0.27523999901827284,-0.22110530653711682,0.20713955576112536,0.9391019921914646,1.0,-0.39577850143583243,-0.4357772275639118],[0.23633317217228142,0.4573017357298464,0.6924828049608575,-0.4400620477559986,-0.14366278028727386,0.41609922548008865,0.380373551186902,0.15099204432756358,-0.11576407408509533,0.4798373685300695,-0.1615334126845432,0.3553976382348242,0.14909472627117584,0.371729147052817,-0.2474535337145792,-0.4066617328655129,-0.39577850143583243,1.0,0.796207052955611],[0.2034711925265079,0.4914436580370806,0.7150663398620047,-0.4351084523809734,-0.19175730564401394,0.4975462804630475,0.38810497538225214,0.17175483249877768,-0.12260854479701505,0.5081054772767056,-0.20711141924384913,0.38583163057679654,0.21831013298043542,0.38994379729706913,-0.218619750415111,-0.4461400871296839,-0.4357772275639118,0.796207052955611,1.0]],\"type\":\"heatmap\"}],                        {\"annotations\":[{\"font\":{\"color\":\"#000000\"},\"showarrow\":false,\"text\":\"1.0\",\"x\":\"Year\",\"xref\":\"x\",\"y\":\"Year\",\"yref\":\"y\"},{\"font\":{\"color\":\"#FFFFFF\"},\"showarrow\":false,\"text\":\"-0.0\",\"x\":\"Status\",\"xref\":\"x\",\"y\":\"Year\",\"yref\":\"y\"},{\"font\":{\"color\":\"#000000\"},\"showarrow\":false,\"text\":\"0.17\",\"x\":\"Life expectancy \",\"xref\":\"x\",\"y\":\"Year\",\"yref\":\"y\"},{\"font\":{\"color\":\"#FFFFFF\"},\"showarrow\":false,\"text\":\"-0.08\",\"x\":\"Adult Mortality\",\"xref\":\"x\",\"y\":\"Year\",\"yref\":\"y\"},{\"font\":{\"color\":\"#FFFFFF\"},\"showarrow\":false,\"text\":\"-0.04\",\"x\":\"infant deaths\",\"xref\":\"x\",\"y\":\"Year\",\"yref\":\"y\"},{\"font\":{\"color\":\"#FFFFFF\"},\"showarrow\":false,\"text\":\"-0.05\",\"x\":\"Alcohol\",\"xref\":\"x\",\"y\":\"Year\",\"yref\":\"y\"},{\"font\":{\"color\":\"#FFFFFF\"},\"showarrow\":false,\"text\":\"0.03\",\"x\":\"percentage expenditure\",\"xref\":\"x\",\"y\":\"Year\",\"yref\":\"y\"},{\"font\":{\"color\":\"#FFFFFF\"},\"showarrow\":false,\"text\":\"0.09\",\"x\":\"Hepatitis B\",\"xref\":\"x\",\"y\":\"Year\",\"yref\":\"y\"},{\"font\":{\"color\":\"#FFFFFF\"},\"showarrow\":false,\"text\":\"-0.08\",\"x\":\"Measles \",\"xref\":\"x\",\"y\":\"Year\",\"yref\":\"y\"},{\"font\":{\"color\":\"#FFFFFF\"},\"showarrow\":false,\"text\":\"0.11\",\"x\":\" BMI \",\"xref\":\"x\",\"y\":\"Year\",\"yref\":\"y\"},{\"font\":{\"color\":\"#FFFFFF\"},\"showarrow\":false,\"text\":\"-0.04\",\"x\":\"under-five deaths \",\"xref\":\"x\",\"y\":\"Year\",\"yref\":\"y\"},{\"font\":{\"color\":\"#FFFFFF\"},\"showarrow\":false,\"text\":\"0.09\",\"x\":\"Polio\",\"xref\":\"x\",\"y\":\"Year\",\"yref\":\"y\"},{\"font\":{\"color\":\"#FFFFFF\"},\"showarrow\":false,\"text\":\"0.08\",\"x\":\"Total expenditure\",\"xref\":\"x\",\"y\":\"Year\",\"yref\":\"y\"},{\"font\":{\"color\":\"#FFFFFF\"},\"showarrow\":false,\"text\":\"0.13\",\"x\":\"Diphtheria \",\"xref\":\"x\",\"y\":\"Year\",\"yref\":\"y\"},{\"font\":{\"color\":\"#FFFFFF\"},\"showarrow\":false,\"text\":\"-0.14\",\"x\":\" HIV\\u002fAIDS\",\"xref\":\"x\",\"y\":\"Year\",\"yref\":\"y\"},{\"font\":{\"color\":\"#FFFFFF\"},\"showarrow\":false,\"text\":\"-0.05\",\"x\":\" thinness  1-19 years\",\"xref\":\"x\",\"y\":\"Year\",\"yref\":\"y\"},{\"font\":{\"color\":\"#FFFFFF\"},\"showarrow\":false,\"text\":\"-0.05\",\"x\":\" thinness 5-9 years\",\"xref\":\"x\",\"y\":\"Year\",\"yref\":\"y\"},{\"font\":{\"color\":\"#000000\"},\"showarrow\":false,\"text\":\"0.24\",\"x\":\"Income composition of resources\",\"xref\":\"x\",\"y\":\"Year\",\"yref\":\"y\"},{\"font\":{\"color\":\"#000000\"},\"showarrow\":false,\"text\":\"0.2\",\"x\":\"Schooling\",\"xref\":\"x\",\"y\":\"Year\",\"yref\":\"y\"},{\"font\":{\"color\":\"#FFFFFF\"},\"showarrow\":false,\"text\":\"-0.0\",\"x\":\"Year\",\"xref\":\"x\",\"y\":\"Status\",\"yref\":\"y\"},{\"font\":{\"color\":\"#000000\"},\"showarrow\":false,\"text\":\"1.0\",\"x\":\"Status\",\"xref\":\"x\",\"y\":\"Status\",\"yref\":\"y\"},{\"font\":{\"color\":\"#000000\"},\"showarrow\":false,\"text\":\"0.48\",\"x\":\"Life expectancy \",\"xref\":\"x\",\"y\":\"Status\",\"yref\":\"y\"},{\"font\":{\"color\":\"#FFFFFF\"},\"showarrow\":false,\"text\":\"-0.32\",\"x\":\"Adult Mortality\",\"xref\":\"x\",\"y\":\"Status\",\"yref\":\"y\"},{\"font\":{\"color\":\"#FFFFFF\"},\"showarrow\":false,\"text\":\"-0.11\",\"x\":\"infant deaths\",\"xref\":\"x\",\"y\":\"Status\",\"yref\":\"y\"},{\"font\":{\"color\":\"#000000\"},\"showarrow\":false,\"text\":\"0.58\",\"x\":\"Alcohol\",\"xref\":\"x\",\"y\":\"Status\",\"yref\":\"y\"},{\"font\":{\"color\":\"#000000\"},\"showarrow\":false,\"text\":\"0.45\",\"x\":\"percentage expenditure\",\"xref\":\"x\",\"y\":\"Status\",\"yref\":\"y\"},{\"font\":{\"color\":\"#FFFFFF\"},\"showarrow\":false,\"text\":\"0.1\",\"x\":\"Hepatitis B\",\"xref\":\"x\",\"y\":\"Status\",\"yref\":\"y\"},{\"font\":{\"color\":\"#FFFFFF\"},\"showarrow\":false,\"text\":\"-0.08\",\"x\":\"Measles \",\"xref\":\"x\",\"y\":\"Status\",\"yref\":\"y\"},{\"font\":{\"color\":\"#000000\"},\"showarrow\":false,\"text\":\"0.31\",\"x\":\" BMI \",\"xref\":\"x\",\"y\":\"Status\",\"yref\":\"y\"},{\"font\":{\"color\":\"#FFFFFF\"},\"showarrow\":false,\"text\":\"-0.12\",\"x\":\"under-five deaths \",\"xref\":\"x\",\"y\":\"Status\",\"yref\":\"y\"},{\"font\":{\"color\":\"#000000\"},\"showarrow\":false,\"text\":\"0.22\",\"x\":\"Polio\",\"xref\":\"x\",\"y\":\"Status\",\"yref\":\"y\"},{\"font\":{\"color\":\"#000000\"},\"showarrow\":false,\"text\":\"0.29\",\"x\":\"Total expenditure\",\"xref\":\"x\",\"y\":\"Status\",\"yref\":\"y\"},{\"font\":{\"color\":\"#000000\"},\"showarrow\":false,\"text\":\"0.22\",\"x\":\"Diphtheria \",\"xref\":\"x\",\"y\":\"Status\",\"yref\":\"y\"},{\"font\":{\"color\":\"#FFFFFF\"},\"showarrow\":false,\"text\":\"-0.15\",\"x\":\" HIV\\u002fAIDS\",\"xref\":\"x\",\"y\":\"Status\",\"yref\":\"y\"},{\"font\":{\"color\":\"#FFFFFF\"},\"showarrow\":false,\"text\":\"-0.37\",\"x\":\" thinness  1-19 years\",\"xref\":\"x\",\"y\":\"Status\",\"yref\":\"y\"},{\"font\":{\"color\":\"#FFFFFF\"},\"showarrow\":false,\"text\":\"-0.37\",\"x\":\" thinness 5-9 years\",\"xref\":\"x\",\"y\":\"Status\",\"yref\":\"y\"},{\"font\":{\"color\":\"#000000\"},\"showarrow\":false,\"text\":\"0.46\",\"x\":\"Income composition of resources\",\"xref\":\"x\",\"y\":\"Status\",\"yref\":\"y\"},{\"font\":{\"color\":\"#000000\"},\"showarrow\":false,\"text\":\"0.49\",\"x\":\"Schooling\",\"xref\":\"x\",\"y\":\"Status\",\"yref\":\"y\"},{\"font\":{\"color\":\"#000000\"},\"showarrow\":false,\"text\":\"0.17\",\"x\":\"Year\",\"xref\":\"x\",\"y\":\"Life expectancy \",\"yref\":\"y\"},{\"font\":{\"color\":\"#000000\"},\"showarrow\":false,\"text\":\"0.48\",\"x\":\"Status\",\"xref\":\"x\",\"y\":\"Life expectancy \",\"yref\":\"y\"},{\"font\":{\"color\":\"#000000\"},\"showarrow\":false,\"text\":\"1.0\",\"x\":\"Life expectancy \",\"xref\":\"x\",\"y\":\"Life expectancy \",\"yref\":\"y\"},{\"font\":{\"color\":\"#FFFFFF\"},\"showarrow\":false,\"text\":\"-0.7\",\"x\":\"Adult Mortality\",\"xref\":\"x\",\"y\":\"Life expectancy \",\"yref\":\"y\"},{\"font\":{\"color\":\"#FFFFFF\"},\"showarrow\":false,\"text\":\"-0.2\",\"x\":\"infant deaths\",\"xref\":\"x\",\"y\":\"Life expectancy \",\"yref\":\"y\"},{\"font\":{\"color\":\"#000000\"},\"showarrow\":false,\"text\":\"0.39\",\"x\":\"Alcohol\",\"xref\":\"x\",\"y\":\"Life expectancy \",\"yref\":\"y\"},{\"font\":{\"color\":\"#000000\"},\"showarrow\":false,\"text\":\"0.38\",\"x\":\"percentage expenditure\",\"xref\":\"x\",\"y\":\"Life expectancy \",\"yref\":\"y\"},{\"font\":{\"color\":\"#000000\"},\"showarrow\":false,\"text\":\"0.2\",\"x\":\"Hepatitis B\",\"xref\":\"x\",\"y\":\"Life expectancy \",\"yref\":\"y\"},{\"font\":{\"color\":\"#FFFFFF\"},\"showarrow\":false,\"text\":\"-0.16\",\"x\":\"Measles \",\"xref\":\"x\",\"y\":\"Life expectancy \",\"yref\":\"y\"},{\"font\":{\"color\":\"#000000\"},\"showarrow\":false,\"text\":\"0.56\",\"x\":\" BMI \",\"xref\":\"x\",\"y\":\"Life expectancy \",\"yref\":\"y\"},{\"font\":{\"color\":\"#FFFFFF\"},\"showarrow\":false,\"text\":\"-0.22\",\"x\":\"under-five deaths \",\"xref\":\"x\",\"y\":\"Life expectancy \",\"yref\":\"y\"},{\"font\":{\"color\":\"#000000\"},\"showarrow\":false,\"text\":\"0.46\",\"x\":\"Polio\",\"xref\":\"x\",\"y\":\"Life expectancy \",\"yref\":\"y\"},{\"font\":{\"color\":\"#000000\"},\"showarrow\":false,\"text\":\"0.21\",\"x\":\"Total expenditure\",\"xref\":\"x\",\"y\":\"Life expectancy \",\"yref\":\"y\"},{\"font\":{\"color\":\"#000000\"},\"showarrow\":false,\"text\":\"0.48\",\"x\":\"Diphtheria \",\"xref\":\"x\",\"y\":\"Life expectancy \",\"yref\":\"y\"},{\"font\":{\"color\":\"#FFFFFF\"},\"showarrow\":false,\"text\":\"-0.56\",\"x\":\" HIV\\u002fAIDS\",\"xref\":\"x\",\"y\":\"Life expectancy \",\"yref\":\"y\"},{\"font\":{\"color\":\"#FFFFFF\"},\"showarrow\":false,\"text\":\"-0.47\",\"x\":\" thinness  1-19 years\",\"xref\":\"x\",\"y\":\"Life expectancy \",\"yref\":\"y\"},{\"font\":{\"color\":\"#FFFFFF\"},\"showarrow\":false,\"text\":\"-0.47\",\"x\":\" thinness 5-9 years\",\"xref\":\"x\",\"y\":\"Life expectancy \",\"yref\":\"y\"},{\"font\":{\"color\":\"#000000\"},\"showarrow\":false,\"text\":\"0.69\",\"x\":\"Income composition of resources\",\"xref\":\"x\",\"y\":\"Life expectancy \",\"yref\":\"y\"},{\"font\":{\"color\":\"#000000\"},\"showarrow\":false,\"text\":\"0.72\",\"x\":\"Schooling\",\"xref\":\"x\",\"y\":\"Life expectancy \",\"yref\":\"y\"},{\"font\":{\"color\":\"#FFFFFF\"},\"showarrow\":false,\"text\":\"-0.08\",\"x\":\"Year\",\"xref\":\"x\",\"y\":\"Adult Mortality\",\"yref\":\"y\"},{\"font\":{\"color\":\"#FFFFFF\"},\"showarrow\":false,\"text\":\"-0.32\",\"x\":\"Status\",\"xref\":\"x\",\"y\":\"Adult Mortality\",\"yref\":\"y\"},{\"font\":{\"color\":\"#FFFFFF\"},\"showarrow\":false,\"text\":\"-0.7\",\"x\":\"Life expectancy \",\"xref\":\"x\",\"y\":\"Adult Mortality\",\"yref\":\"y\"},{\"font\":{\"color\":\"#000000\"},\"showarrow\":false,\"text\":\"1.0\",\"x\":\"Adult Mortality\",\"xref\":\"x\",\"y\":\"Adult Mortality\",\"yref\":\"y\"},{\"font\":{\"color\":\"#FFFFFF\"},\"showarrow\":false,\"text\":\"0.08\",\"x\":\"infant deaths\",\"xref\":\"x\",\"y\":\"Adult Mortality\",\"yref\":\"y\"},{\"font\":{\"color\":\"#FFFFFF\"},\"showarrow\":false,\"text\":\"-0.19\",\"x\":\"Alcohol\",\"xref\":\"x\",\"y\":\"Adult Mortality\",\"yref\":\"y\"},{\"font\":{\"color\":\"#FFFFFF\"},\"showarrow\":false,\"text\":\"-0.24\",\"x\":\"percentage expenditure\",\"xref\":\"x\",\"y\":\"Adult Mortality\",\"yref\":\"y\"},{\"font\":{\"color\":\"#FFFFFF\"},\"showarrow\":false,\"text\":\"-0.14\",\"x\":\"Hepatitis B\",\"xref\":\"x\",\"y\":\"Adult Mortality\",\"yref\":\"y\"},{\"font\":{\"color\":\"#FFFFFF\"},\"showarrow\":false,\"text\":\"0.03\",\"x\":\"Measles \",\"xref\":\"x\",\"y\":\"Adult Mortality\",\"yref\":\"y\"},{\"font\":{\"color\":\"#FFFFFF\"},\"showarrow\":false,\"text\":\"-0.38\",\"x\":\" BMI \",\"xref\":\"x\",\"y\":\"Adult Mortality\",\"yref\":\"y\"},{\"font\":{\"color\":\"#FFFFFF\"},\"showarrow\":false,\"text\":\"0.09\",\"x\":\"under-five deaths \",\"xref\":\"x\",\"y\":\"Adult Mortality\",\"yref\":\"y\"},{\"font\":{\"color\":\"#FFFFFF\"},\"showarrow\":false,\"text\":\"-0.27\",\"x\":\"Polio\",\"xref\":\"x\",\"y\":\"Adult Mortality\",\"yref\":\"y\"},{\"font\":{\"color\":\"#FFFFFF\"},\"showarrow\":false,\"text\":\"-0.11\",\"x\":\"Total expenditure\",\"xref\":\"x\",\"y\":\"Adult Mortality\",\"yref\":\"y\"},{\"font\":{\"color\":\"#FFFFFF\"},\"showarrow\":false,\"text\":\"-0.27\",\"x\":\"Diphtheria \",\"xref\":\"x\",\"y\":\"Adult Mortality\",\"yref\":\"y\"},{\"font\":{\"color\":\"#000000\"},\"showarrow\":false,\"text\":\"0.52\",\"x\":\" HIV\\u002fAIDS\",\"xref\":\"x\",\"y\":\"Adult Mortality\",\"yref\":\"y\"},{\"font\":{\"color\":\"#000000\"},\"showarrow\":false,\"text\":\"0.3\",\"x\":\" thinness  1-19 years\",\"xref\":\"x\",\"y\":\"Adult Mortality\",\"yref\":\"y\"},{\"font\":{\"color\":\"#000000\"},\"showarrow\":false,\"text\":\"0.31\",\"x\":\" thinness 5-9 years\",\"xref\":\"x\",\"y\":\"Adult Mortality\",\"yref\":\"y\"},{\"font\":{\"color\":\"#FFFFFF\"},\"showarrow\":false,\"text\":\"-0.44\",\"x\":\"Income composition of resources\",\"xref\":\"x\",\"y\":\"Adult Mortality\",\"yref\":\"y\"},{\"font\":{\"color\":\"#FFFFFF\"},\"showarrow\":false,\"text\":\"-0.44\",\"x\":\"Schooling\",\"xref\":\"x\",\"y\":\"Adult Mortality\",\"yref\":\"y\"},{\"font\":{\"color\":\"#FFFFFF\"},\"showarrow\":false,\"text\":\"-0.04\",\"x\":\"Year\",\"xref\":\"x\",\"y\":\"infant deaths\",\"yref\":\"y\"},{\"font\":{\"color\":\"#FFFFFF\"},\"showarrow\":false,\"text\":\"-0.11\",\"x\":\"Status\",\"xref\":\"x\",\"y\":\"infant deaths\",\"yref\":\"y\"},{\"font\":{\"color\":\"#FFFFFF\"},\"showarrow\":false,\"text\":\"-0.2\",\"x\":\"Life expectancy \",\"xref\":\"x\",\"y\":\"infant deaths\",\"yref\":\"y\"},{\"font\":{\"color\":\"#FFFFFF\"},\"showarrow\":false,\"text\":\"0.08\",\"x\":\"Adult Mortality\",\"xref\":\"x\",\"y\":\"infant deaths\",\"yref\":\"y\"},{\"font\":{\"color\":\"#000000\"},\"showarrow\":false,\"text\":\"1.0\",\"x\":\"infant deaths\",\"xref\":\"x\",\"y\":\"infant deaths\",\"yref\":\"y\"},{\"font\":{\"color\":\"#FFFFFF\"},\"showarrow\":false,\"text\":\"-0.11\",\"x\":\"Alcohol\",\"xref\":\"x\",\"y\":\"infant deaths\",\"yref\":\"y\"},{\"font\":{\"color\":\"#FFFFFF\"},\"showarrow\":false,\"text\":\"-0.09\",\"x\":\"percentage expenditure\",\"xref\":\"x\",\"y\":\"infant deaths\",\"yref\":\"y\"},{\"font\":{\"color\":\"#FFFFFF\"},\"showarrow\":false,\"text\":\"-0.18\",\"x\":\"Hepatitis B\",\"xref\":\"x\",\"y\":\"infant deaths\",\"yref\":\"y\"},{\"font\":{\"color\":\"#000000\"},\"showarrow\":false,\"text\":\"0.5\",\"x\":\"Measles \",\"xref\":\"x\",\"y\":\"infant deaths\",\"yref\":\"y\"},{\"font\":{\"color\":\"#FFFFFF\"},\"showarrow\":false,\"text\":\"-0.23\",\"x\":\" BMI \",\"xref\":\"x\",\"y\":\"infant deaths\",\"yref\":\"y\"},{\"font\":{\"color\":\"#000000\"},\"showarrow\":false,\"text\":\"1.0\",\"x\":\"under-five deaths \",\"xref\":\"x\",\"y\":\"infant deaths\",\"yref\":\"y\"},{\"font\":{\"color\":\"#FFFFFF\"},\"showarrow\":false,\"text\":\"-0.17\",\"x\":\"Polio\",\"xref\":\"x\",\"y\":\"infant deaths\",\"yref\":\"y\"},{\"font\":{\"color\":\"#FFFFFF\"},\"showarrow\":false,\"text\":\"-0.13\",\"x\":\"Total expenditure\",\"xref\":\"x\",\"y\":\"infant deaths\",\"yref\":\"y\"},{\"font\":{\"color\":\"#FFFFFF\"},\"showarrow\":false,\"text\":\"-0.18\",\"x\":\"Diphtheria \",\"xref\":\"x\",\"y\":\"infant deaths\",\"yref\":\"y\"},{\"font\":{\"color\":\"#FFFFFF\"},\"showarrow\":false,\"text\":\"0.03\",\"x\":\" HIV\\u002fAIDS\",\"xref\":\"x\",\"y\":\"infant deaths\",\"yref\":\"y\"},{\"font\":{\"color\":\"#000000\"},\"showarrow\":false,\"text\":\"0.47\",\"x\":\" thinness  1-19 years\",\"xref\":\"x\",\"y\":\"infant deaths\",\"yref\":\"y\"},{\"font\":{\"color\":\"#000000\"},\"showarrow\":false,\"text\":\"0.47\",\"x\":\" thinness 5-9 years\",\"xref\":\"x\",\"y\":\"infant deaths\",\"yref\":\"y\"},{\"font\":{\"color\":\"#FFFFFF\"},\"showarrow\":false,\"text\":\"-0.14\",\"x\":\"Income composition of resources\",\"xref\":\"x\",\"y\":\"infant deaths\",\"yref\":\"y\"},{\"font\":{\"color\":\"#FFFFFF\"},\"showarrow\":false,\"text\":\"-0.19\",\"x\":\"Schooling\",\"xref\":\"x\",\"y\":\"infant deaths\",\"yref\":\"y\"},{\"font\":{\"color\":\"#FFFFFF\"},\"showarrow\":false,\"text\":\"-0.05\",\"x\":\"Year\",\"xref\":\"x\",\"y\":\"Alcohol\",\"yref\":\"y\"},{\"font\":{\"color\":\"#000000\"},\"showarrow\":false,\"text\":\"0.58\",\"x\":\"Status\",\"xref\":\"x\",\"y\":\"Alcohol\",\"yref\":\"y\"},{\"font\":{\"color\":\"#000000\"},\"showarrow\":false,\"text\":\"0.39\",\"x\":\"Life expectancy \",\"xref\":\"x\",\"y\":\"Alcohol\",\"yref\":\"y\"},{\"font\":{\"color\":\"#FFFFFF\"},\"showarrow\":false,\"text\":\"-0.19\",\"x\":\"Adult Mortality\",\"xref\":\"x\",\"y\":\"Alcohol\",\"yref\":\"y\"},{\"font\":{\"color\":\"#FFFFFF\"},\"showarrow\":false,\"text\":\"-0.11\",\"x\":\"infant deaths\",\"xref\":\"x\",\"y\":\"Alcohol\",\"yref\":\"y\"},{\"font\":{\"color\":\"#000000\"},\"showarrow\":false,\"text\":\"1.0\",\"x\":\"Alcohol\",\"xref\":\"x\",\"y\":\"Alcohol\",\"yref\":\"y\"},{\"font\":{\"color\":\"#000000\"},\"showarrow\":false,\"text\":\"0.34\",\"x\":\"percentage expenditure\",\"xref\":\"x\",\"y\":\"Alcohol\",\"yref\":\"y\"},{\"font\":{\"color\":\"#FFFFFF\"},\"showarrow\":false,\"text\":\"0.08\",\"x\":\"Hepatitis B\",\"xref\":\"x\",\"y\":\"Alcohol\",\"yref\":\"y\"},{\"font\":{\"color\":\"#FFFFFF\"},\"showarrow\":false,\"text\":\"-0.05\",\"x\":\"Measles \",\"xref\":\"x\",\"y\":\"Alcohol\",\"yref\":\"y\"},{\"font\":{\"color\":\"#000000\"},\"showarrow\":false,\"text\":\"0.32\",\"x\":\" BMI \",\"xref\":\"x\",\"y\":\"Alcohol\",\"yref\":\"y\"},{\"font\":{\"color\":\"#FFFFFF\"},\"showarrow\":false,\"text\":\"-0.11\",\"x\":\"under-five deaths \",\"xref\":\"x\",\"y\":\"Alcohol\",\"yref\":\"y\"},{\"font\":{\"color\":\"#000000\"},\"showarrow\":false,\"text\":\"0.21\",\"x\":\"Polio\",\"xref\":\"x\",\"y\":\"Alcohol\",\"yref\":\"y\"},{\"font\":{\"color\":\"#000000\"},\"showarrow\":false,\"text\":\"0.29\",\"x\":\"Total expenditure\",\"xref\":\"x\",\"y\":\"Alcohol\",\"yref\":\"y\"},{\"font\":{\"color\":\"#000000\"},\"showarrow\":false,\"text\":\"0.22\",\"x\":\"Diphtheria \",\"xref\":\"x\",\"y\":\"Alcohol\",\"yref\":\"y\"},{\"font\":{\"color\":\"#FFFFFF\"},\"showarrow\":false,\"text\":\"-0.05\",\"x\":\" HIV\\u002fAIDS\",\"xref\":\"x\",\"y\":\"Alcohol\",\"yref\":\"y\"},{\"font\":{\"color\":\"#FFFFFF\"},\"showarrow\":false,\"text\":\"-0.42\",\"x\":\" thinness  1-19 years\",\"xref\":\"x\",\"y\":\"Alcohol\",\"yref\":\"y\"},{\"font\":{\"color\":\"#FFFFFF\"},\"showarrow\":false,\"text\":\"-0.41\",\"x\":\" thinness 5-9 years\",\"xref\":\"x\",\"y\":\"Alcohol\",\"yref\":\"y\"},{\"font\":{\"color\":\"#000000\"},\"showarrow\":false,\"text\":\"0.42\",\"x\":\"Income composition of resources\",\"xref\":\"x\",\"y\":\"Alcohol\",\"yref\":\"y\"},{\"font\":{\"color\":\"#000000\"},\"showarrow\":false,\"text\":\"0.5\",\"x\":\"Schooling\",\"xref\":\"x\",\"y\":\"Alcohol\",\"yref\":\"y\"},{\"font\":{\"color\":\"#FFFFFF\"},\"showarrow\":false,\"text\":\"0.03\",\"x\":\"Year\",\"xref\":\"x\",\"y\":\"percentage expenditure\",\"yref\":\"y\"},{\"font\":{\"color\":\"#000000\"},\"showarrow\":false,\"text\":\"0.45\",\"x\":\"Status\",\"xref\":\"x\",\"y\":\"percentage expenditure\",\"yref\":\"y\"},{\"font\":{\"color\":\"#000000\"},\"showarrow\":false,\"text\":\"0.38\",\"x\":\"Life expectancy \",\"xref\":\"x\",\"y\":\"percentage expenditure\",\"yref\":\"y\"},{\"font\":{\"color\":\"#FFFFFF\"},\"showarrow\":false,\"text\":\"-0.24\",\"x\":\"Adult Mortality\",\"xref\":\"x\",\"y\":\"percentage expenditure\",\"yref\":\"y\"},{\"font\":{\"color\":\"#FFFFFF\"},\"showarrow\":false,\"text\":\"-0.09\",\"x\":\"infant deaths\",\"xref\":\"x\",\"y\":\"percentage expenditure\",\"yref\":\"y\"},{\"font\":{\"color\":\"#000000\"},\"showarrow\":false,\"text\":\"0.34\",\"x\":\"Alcohol\",\"xref\":\"x\",\"y\":\"percentage expenditure\",\"yref\":\"y\"},{\"font\":{\"color\":\"#000000\"},\"showarrow\":false,\"text\":\"1.0\",\"x\":\"percentage expenditure\",\"xref\":\"x\",\"y\":\"percentage expenditure\",\"yref\":\"y\"},{\"font\":{\"color\":\"#FFFFFF\"},\"showarrow\":false,\"text\":\"0.01\",\"x\":\"Hepatitis B\",\"xref\":\"x\",\"y\":\"percentage expenditure\",\"yref\":\"y\"},{\"font\":{\"color\":\"#FFFFFF\"},\"showarrow\":false,\"text\":\"-0.06\",\"x\":\"Measles \",\"xref\":\"x\",\"y\":\"percentage expenditure\",\"yref\":\"y\"},{\"font\":{\"color\":\"#000000\"},\"showarrow\":false,\"text\":\"0.23\",\"x\":\" BMI \",\"xref\":\"x\",\"y\":\"percentage expenditure\",\"yref\":\"y\"},{\"font\":{\"color\":\"#FFFFFF\"},\"showarrow\":false,\"text\":\"-0.09\",\"x\":\"under-five deaths \",\"xref\":\"x\",\"y\":\"percentage expenditure\",\"yref\":\"y\"},{\"font\":{\"color\":\"#FFFFFF\"},\"showarrow\":false,\"text\":\"0.15\",\"x\":\"Polio\",\"xref\":\"x\",\"y\":\"percentage expenditure\",\"yref\":\"y\"},{\"font\":{\"color\":\"#000000\"},\"showarrow\":false,\"text\":\"0.17\",\"x\":\"Total expenditure\",\"xref\":\"x\",\"y\":\"percentage expenditure\",\"yref\":\"y\"},{\"font\":{\"color\":\"#FFFFFF\"},\"showarrow\":false,\"text\":\"0.14\",\"x\":\"Diphtheria \",\"xref\":\"x\",\"y\":\"percentage expenditure\",\"yref\":\"y\"},{\"font\":{\"color\":\"#FFFFFF\"},\"showarrow\":false,\"text\":\"-0.1\",\"x\":\" HIV\\u002fAIDS\",\"xref\":\"x\",\"y\":\"percentage expenditure\",\"yref\":\"y\"},{\"font\":{\"color\":\"#FFFFFF\"},\"showarrow\":false,\"text\":\"-0.25\",\"x\":\" thinness  1-19 years\",\"xref\":\"x\",\"y\":\"percentage expenditure\",\"yref\":\"y\"},{\"font\":{\"color\":\"#FFFFFF\"},\"showarrow\":false,\"text\":\"-0.25\",\"x\":\" thinness 5-9 years\",\"xref\":\"x\",\"y\":\"percentage expenditure\",\"yref\":\"y\"},{\"font\":{\"color\":\"#000000\"},\"showarrow\":false,\"text\":\"0.38\",\"x\":\"Income composition of resources\",\"xref\":\"x\",\"y\":\"percentage expenditure\",\"yref\":\"y\"},{\"font\":{\"color\":\"#000000\"},\"showarrow\":false,\"text\":\"0.39\",\"x\":\"Schooling\",\"xref\":\"x\",\"y\":\"percentage expenditure\",\"yref\":\"y\"},{\"font\":{\"color\":\"#FFFFFF\"},\"showarrow\":false,\"text\":\"0.09\",\"x\":\"Year\",\"xref\":\"x\",\"y\":\"Hepatitis B\",\"yref\":\"y\"},{\"font\":{\"color\":\"#FFFFFF\"},\"showarrow\":false,\"text\":\"0.1\",\"x\":\"Status\",\"xref\":\"x\",\"y\":\"Hepatitis B\",\"yref\":\"y\"},{\"font\":{\"color\":\"#000000\"},\"showarrow\":false,\"text\":\"0.2\",\"x\":\"Life expectancy \",\"xref\":\"x\",\"y\":\"Hepatitis B\",\"yref\":\"y\"},{\"font\":{\"color\":\"#FFFFFF\"},\"showarrow\":false,\"text\":\"-0.14\",\"x\":\"Adult Mortality\",\"xref\":\"x\",\"y\":\"Hepatitis B\",\"yref\":\"y\"},{\"font\":{\"color\":\"#FFFFFF\"},\"showarrow\":false,\"text\":\"-0.18\",\"x\":\"infant deaths\",\"xref\":\"x\",\"y\":\"Hepatitis B\",\"yref\":\"y\"},{\"font\":{\"color\":\"#FFFFFF\"},\"showarrow\":false,\"text\":\"0.08\",\"x\":\"Alcohol\",\"xref\":\"x\",\"y\":\"Hepatitis B\",\"yref\":\"y\"},{\"font\":{\"color\":\"#FFFFFF\"},\"showarrow\":false,\"text\":\"0.01\",\"x\":\"percentage expenditure\",\"xref\":\"x\",\"y\":\"Hepatitis B\",\"yref\":\"y\"},{\"font\":{\"color\":\"#000000\"},\"showarrow\":false,\"text\":\"1.0\",\"x\":\"Hepatitis B\",\"xref\":\"x\",\"y\":\"Hepatitis B\",\"yref\":\"y\"},{\"font\":{\"color\":\"#FFFFFF\"},\"showarrow\":false,\"text\":\"-0.09\",\"x\":\"Measles \",\"xref\":\"x\",\"y\":\"Hepatitis B\",\"yref\":\"y\"},{\"font\":{\"color\":\"#FFFFFF\"},\"showarrow\":false,\"text\":\"0.13\",\"x\":\" BMI \",\"xref\":\"x\",\"y\":\"Hepatitis B\",\"yref\":\"y\"},{\"font\":{\"color\":\"#FFFFFF\"},\"showarrow\":false,\"text\":\"-0.18\",\"x\":\"under-five deaths \",\"xref\":\"x\",\"y\":\"Hepatitis B\",\"yref\":\"y\"},{\"font\":{\"color\":\"#000000\"},\"showarrow\":false,\"text\":\"0.41\",\"x\":\"Polio\",\"xref\":\"x\",\"y\":\"Hepatitis B\",\"yref\":\"y\"},{\"font\":{\"color\":\"#FFFFFF\"},\"showarrow\":false,\"text\":\"0.05\",\"x\":\"Total expenditure\",\"xref\":\"x\",\"y\":\"Hepatitis B\",\"yref\":\"y\"},{\"font\":{\"color\":\"#000000\"},\"showarrow\":false,\"text\":\"0.5\",\"x\":\"Diphtheria \",\"xref\":\"x\",\"y\":\"Hepatitis B\",\"yref\":\"y\"},{\"font\":{\"color\":\"#FFFFFF\"},\"showarrow\":false,\"text\":\"-0.1\",\"x\":\" HIV\\u002fAIDS\",\"xref\":\"x\",\"y\":\"Hepatitis B\",\"yref\":\"y\"},{\"font\":{\"color\":\"#FFFFFF\"},\"showarrow\":false,\"text\":\"-0.11\",\"x\":\" thinness  1-19 years\",\"xref\":\"x\",\"y\":\"Hepatitis B\",\"yref\":\"y\"},{\"font\":{\"color\":\"#FFFFFF\"},\"showarrow\":false,\"text\":\"-0.11\",\"x\":\" thinness 5-9 years\",\"xref\":\"x\",\"y\":\"Hepatitis B\",\"yref\":\"y\"},{\"font\":{\"color\":\"#FFFFFF\"},\"showarrow\":false,\"text\":\"0.15\",\"x\":\"Income composition of resources\",\"xref\":\"x\",\"y\":\"Hepatitis B\",\"yref\":\"y\"},{\"font\":{\"color\":\"#000000\"},\"showarrow\":false,\"text\":\"0.17\",\"x\":\"Schooling\",\"xref\":\"x\",\"y\":\"Hepatitis B\",\"yref\":\"y\"},{\"font\":{\"color\":\"#FFFFFF\"},\"showarrow\":false,\"text\":\"-0.08\",\"x\":\"Year\",\"xref\":\"x\",\"y\":\"Measles \",\"yref\":\"y\"},{\"font\":{\"color\":\"#FFFFFF\"},\"showarrow\":false,\"text\":\"-0.08\",\"x\":\"Status\",\"xref\":\"x\",\"y\":\"Measles \",\"yref\":\"y\"},{\"font\":{\"color\":\"#FFFFFF\"},\"showarrow\":false,\"text\":\"-0.16\",\"x\":\"Life expectancy \",\"xref\":\"x\",\"y\":\"Measles \",\"yref\":\"y\"},{\"font\":{\"color\":\"#FFFFFF\"},\"showarrow\":false,\"text\":\"0.03\",\"x\":\"Adult Mortality\",\"xref\":\"x\",\"y\":\"Measles \",\"yref\":\"y\"},{\"font\":{\"color\":\"#000000\"},\"showarrow\":false,\"text\":\"0.5\",\"x\":\"infant deaths\",\"xref\":\"x\",\"y\":\"Measles \",\"yref\":\"y\"},{\"font\":{\"color\":\"#FFFFFF\"},\"showarrow\":false,\"text\":\"-0.05\",\"x\":\"Alcohol\",\"xref\":\"x\",\"y\":\"Measles \",\"yref\":\"y\"},{\"font\":{\"color\":\"#FFFFFF\"},\"showarrow\":false,\"text\":\"-0.06\",\"x\":\"percentage expenditure\",\"xref\":\"x\",\"y\":\"Measles \",\"yref\":\"y\"},{\"font\":{\"color\":\"#FFFFFF\"},\"showarrow\":false,\"text\":\"-0.09\",\"x\":\"Hepatitis B\",\"xref\":\"x\",\"y\":\"Measles \",\"yref\":\"y\"},{\"font\":{\"color\":\"#000000\"},\"showarrow\":false,\"text\":\"1.0\",\"x\":\"Measles \",\"xref\":\"x\",\"y\":\"Measles \",\"yref\":\"y\"},{\"font\":{\"color\":\"#FFFFFF\"},\"showarrow\":false,\"text\":\"-0.18\",\"x\":\" BMI \",\"xref\":\"x\",\"y\":\"Measles \",\"yref\":\"y\"},{\"font\":{\"color\":\"#000000\"},\"showarrow\":false,\"text\":\"0.51\",\"x\":\"under-five deaths \",\"xref\":\"x\",\"y\":\"Measles \",\"yref\":\"y\"},{\"font\":{\"color\":\"#FFFFFF\"},\"showarrow\":false,\"text\":\"-0.14\",\"x\":\"Polio\",\"xref\":\"x\",\"y\":\"Measles \",\"yref\":\"y\"},{\"font\":{\"color\":\"#FFFFFF\"},\"showarrow\":false,\"text\":\"-0.1\",\"x\":\"Total expenditure\",\"xref\":\"x\",\"y\":\"Measles \",\"yref\":\"y\"},{\"font\":{\"color\":\"#FFFFFF\"},\"showarrow\":false,\"text\":\"-0.14\",\"x\":\"Diphtheria \",\"xref\":\"x\",\"y\":\"Measles \",\"yref\":\"y\"},{\"font\":{\"color\":\"#FFFFFF\"},\"showarrow\":false,\"text\":\"0.03\",\"x\":\" HIV\\u002fAIDS\",\"xref\":\"x\",\"y\":\"Measles \",\"yref\":\"y\"},{\"font\":{\"color\":\"#000000\"},\"showarrow\":false,\"text\":\"0.22\",\"x\":\" thinness  1-19 years\",\"xref\":\"x\",\"y\":\"Measles \",\"yref\":\"y\"},{\"font\":{\"color\":\"#000000\"},\"showarrow\":false,\"text\":\"0.22\",\"x\":\" thinness 5-9 years\",\"xref\":\"x\",\"y\":\"Measles \",\"yref\":\"y\"},{\"font\":{\"color\":\"#FFFFFF\"},\"showarrow\":false,\"text\":\"-0.12\",\"x\":\"Income composition of resources\",\"xref\":\"x\",\"y\":\"Measles \",\"yref\":\"y\"},{\"font\":{\"color\":\"#FFFFFF\"},\"showarrow\":false,\"text\":\"-0.12\",\"x\":\"Schooling\",\"xref\":\"x\",\"y\":\"Measles \",\"yref\":\"y\"},{\"font\":{\"color\":\"#FFFFFF\"},\"showarrow\":false,\"text\":\"0.11\",\"x\":\"Year\",\"xref\":\"x\",\"y\":\" BMI \",\"yref\":\"y\"},{\"font\":{\"color\":\"#000000\"},\"showarrow\":false,\"text\":\"0.31\",\"x\":\"Status\",\"xref\":\"x\",\"y\":\" BMI \",\"yref\":\"y\"},{\"font\":{\"color\":\"#000000\"},\"showarrow\":false,\"text\":\"0.56\",\"x\":\"Life expectancy \",\"xref\":\"x\",\"y\":\" BMI \",\"yref\":\"y\"},{\"font\":{\"color\":\"#FFFFFF\"},\"showarrow\":false,\"text\":\"-0.38\",\"x\":\"Adult Mortality\",\"xref\":\"x\",\"y\":\" BMI \",\"yref\":\"y\"},{\"font\":{\"color\":\"#FFFFFF\"},\"showarrow\":false,\"text\":\"-0.23\",\"x\":\"infant deaths\",\"xref\":\"x\",\"y\":\" BMI \",\"yref\":\"y\"},{\"font\":{\"color\":\"#000000\"},\"showarrow\":false,\"text\":\"0.32\",\"x\":\"Alcohol\",\"xref\":\"x\",\"y\":\" BMI \",\"yref\":\"y\"},{\"font\":{\"color\":\"#000000\"},\"showarrow\":false,\"text\":\"0.23\",\"x\":\"percentage expenditure\",\"xref\":\"x\",\"y\":\" BMI \",\"yref\":\"y\"},{\"font\":{\"color\":\"#FFFFFF\"},\"showarrow\":false,\"text\":\"0.13\",\"x\":\"Hepatitis B\",\"xref\":\"x\",\"y\":\" BMI \",\"yref\":\"y\"},{\"font\":{\"color\":\"#FFFFFF\"},\"showarrow\":false,\"text\":\"-0.18\",\"x\":\"Measles \",\"xref\":\"x\",\"y\":\" BMI \",\"yref\":\"y\"},{\"font\":{\"color\":\"#000000\"},\"showarrow\":false,\"text\":\"1.0\",\"x\":\" BMI \",\"xref\":\"x\",\"y\":\" BMI \",\"yref\":\"y\"},{\"font\":{\"color\":\"#FFFFFF\"},\"showarrow\":false,\"text\":\"-0.24\",\"x\":\"under-five deaths \",\"xref\":\"x\",\"y\":\" BMI \",\"yref\":\"y\"},{\"font\":{\"color\":\"#000000\"},\"showarrow\":false,\"text\":\"0.28\",\"x\":\"Polio\",\"xref\":\"x\",\"y\":\" BMI \",\"yref\":\"y\"},{\"font\":{\"color\":\"#000000\"},\"showarrow\":false,\"text\":\"0.23\",\"x\":\"Total expenditure\",\"xref\":\"x\",\"y\":\" BMI \",\"yref\":\"y\"},{\"font\":{\"color\":\"#000000\"},\"showarrow\":false,\"text\":\"0.28\",\"x\":\"Diphtheria \",\"xref\":\"x\",\"y\":\" BMI \",\"yref\":\"y\"},{\"font\":{\"color\":\"#FFFFFF\"},\"showarrow\":false,\"text\":\"-0.24\",\"x\":\" HIV\\u002fAIDS\",\"xref\":\"x\",\"y\":\" BMI \",\"yref\":\"y\"},{\"font\":{\"color\":\"#FFFFFF\"},\"showarrow\":false,\"text\":\"-0.53\",\"x\":\" thinness  1-19 years\",\"xref\":\"x\",\"y\":\" BMI \",\"yref\":\"y\"},{\"font\":{\"color\":\"#FFFFFF\"},\"showarrow\":false,\"text\":\"-0.54\",\"x\":\" thinness 5-9 years\",\"xref\":\"x\",\"y\":\" BMI \",\"yref\":\"y\"},{\"font\":{\"color\":\"#000000\"},\"showarrow\":false,\"text\":\"0.48\",\"x\":\"Income composition of resources\",\"xref\":\"x\",\"y\":\" BMI \",\"yref\":\"y\"},{\"font\":{\"color\":\"#000000\"},\"showarrow\":false,\"text\":\"0.51\",\"x\":\"Schooling\",\"xref\":\"x\",\"y\":\" BMI \",\"yref\":\"y\"},{\"font\":{\"color\":\"#FFFFFF\"},\"showarrow\":false,\"text\":\"-0.04\",\"x\":\"Year\",\"xref\":\"x\",\"y\":\"under-five deaths \",\"yref\":\"y\"},{\"font\":{\"color\":\"#FFFFFF\"},\"showarrow\":false,\"text\":\"-0.12\",\"x\":\"Status\",\"xref\":\"x\",\"y\":\"under-five deaths \",\"yref\":\"y\"},{\"font\":{\"color\":\"#FFFFFF\"},\"showarrow\":false,\"text\":\"-0.22\",\"x\":\"Life expectancy \",\"xref\":\"x\",\"y\":\"under-five deaths \",\"yref\":\"y\"},{\"font\":{\"color\":\"#FFFFFF\"},\"showarrow\":false,\"text\":\"0.09\",\"x\":\"Adult Mortality\",\"xref\":\"x\",\"y\":\"under-five deaths \",\"yref\":\"y\"},{\"font\":{\"color\":\"#000000\"},\"showarrow\":false,\"text\":\"1.0\",\"x\":\"infant deaths\",\"xref\":\"x\",\"y\":\"under-five deaths \",\"yref\":\"y\"},{\"font\":{\"color\":\"#FFFFFF\"},\"showarrow\":false,\"text\":\"-0.11\",\"x\":\"Alcohol\",\"xref\":\"x\",\"y\":\"under-five deaths \",\"yref\":\"y\"},{\"font\":{\"color\":\"#FFFFFF\"},\"showarrow\":false,\"text\":\"-0.09\",\"x\":\"percentage expenditure\",\"xref\":\"x\",\"y\":\"under-five deaths \",\"yref\":\"y\"},{\"font\":{\"color\":\"#FFFFFF\"},\"showarrow\":false,\"text\":\"-0.18\",\"x\":\"Hepatitis B\",\"xref\":\"x\",\"y\":\"under-five deaths \",\"yref\":\"y\"},{\"font\":{\"color\":\"#000000\"},\"showarrow\":false,\"text\":\"0.51\",\"x\":\"Measles \",\"xref\":\"x\",\"y\":\"under-five deaths \",\"yref\":\"y\"},{\"font\":{\"color\":\"#FFFFFF\"},\"showarrow\":false,\"text\":\"-0.24\",\"x\":\" BMI \",\"xref\":\"x\",\"y\":\"under-five deaths \",\"yref\":\"y\"},{\"font\":{\"color\":\"#000000\"},\"showarrow\":false,\"text\":\"1.0\",\"x\":\"under-five deaths \",\"xref\":\"x\",\"y\":\"under-five deaths \",\"yref\":\"y\"},{\"font\":{\"color\":\"#FFFFFF\"},\"showarrow\":false,\"text\":\"-0.19\",\"x\":\"Polio\",\"xref\":\"x\",\"y\":\"under-five deaths \",\"yref\":\"y\"},{\"font\":{\"color\":\"#FFFFFF\"},\"showarrow\":false,\"text\":\"-0.13\",\"x\":\"Total expenditure\",\"xref\":\"x\",\"y\":\"under-five deaths \",\"yref\":\"y\"},{\"font\":{\"color\":\"#FFFFFF\"},\"showarrow\":false,\"text\":\"-0.2\",\"x\":\"Diphtheria \",\"xref\":\"x\",\"y\":\"under-five deaths \",\"yref\":\"y\"},{\"font\":{\"color\":\"#FFFFFF\"},\"showarrow\":false,\"text\":\"0.04\",\"x\":\" HIV\\u002fAIDS\",\"xref\":\"x\",\"y\":\"under-five deaths \",\"yref\":\"y\"},{\"font\":{\"color\":\"#000000\"},\"showarrow\":false,\"text\":\"0.47\",\"x\":\" thinness  1-19 years\",\"xref\":\"x\",\"y\":\"under-five deaths \",\"yref\":\"y\"},{\"font\":{\"color\":\"#000000\"},\"showarrow\":false,\"text\":\"0.47\",\"x\":\" thinness 5-9 years\",\"xref\":\"x\",\"y\":\"under-five deaths \",\"yref\":\"y\"},{\"font\":{\"color\":\"#FFFFFF\"},\"showarrow\":false,\"text\":\"-0.16\",\"x\":\"Income composition of resources\",\"xref\":\"x\",\"y\":\"under-five deaths \",\"yref\":\"y\"},{\"font\":{\"color\":\"#FFFFFF\"},\"showarrow\":false,\"text\":\"-0.21\",\"x\":\"Schooling\",\"xref\":\"x\",\"y\":\"under-five deaths \",\"yref\":\"y\"},{\"font\":{\"color\":\"#FFFFFF\"},\"showarrow\":false,\"text\":\"0.09\",\"x\":\"Year\",\"xref\":\"x\",\"y\":\"Polio\",\"yref\":\"y\"},{\"font\":{\"color\":\"#000000\"},\"showarrow\":false,\"text\":\"0.22\",\"x\":\"Status\",\"xref\":\"x\",\"y\":\"Polio\",\"yref\":\"y\"},{\"font\":{\"color\":\"#000000\"},\"showarrow\":false,\"text\":\"0.46\",\"x\":\"Life expectancy \",\"xref\":\"x\",\"y\":\"Polio\",\"yref\":\"y\"},{\"font\":{\"color\":\"#FFFFFF\"},\"showarrow\":false,\"text\":\"-0.27\",\"x\":\"Adult Mortality\",\"xref\":\"x\",\"y\":\"Polio\",\"yref\":\"y\"},{\"font\":{\"color\":\"#FFFFFF\"},\"showarrow\":false,\"text\":\"-0.17\",\"x\":\"infant deaths\",\"xref\":\"x\",\"y\":\"Polio\",\"yref\":\"y\"},{\"font\":{\"color\":\"#000000\"},\"showarrow\":false,\"text\":\"0.21\",\"x\":\"Alcohol\",\"xref\":\"x\",\"y\":\"Polio\",\"yref\":\"y\"},{\"font\":{\"color\":\"#FFFFFF\"},\"showarrow\":false,\"text\":\"0.15\",\"x\":\"percentage expenditure\",\"xref\":\"x\",\"y\":\"Polio\",\"yref\":\"y\"},{\"font\":{\"color\":\"#000000\"},\"showarrow\":false,\"text\":\"0.41\",\"x\":\"Hepatitis B\",\"xref\":\"x\",\"y\":\"Polio\",\"yref\":\"y\"},{\"font\":{\"color\":\"#FFFFFF\"},\"showarrow\":false,\"text\":\"-0.14\",\"x\":\"Measles \",\"xref\":\"x\",\"y\":\"Polio\",\"yref\":\"y\"},{\"font\":{\"color\":\"#000000\"},\"showarrow\":false,\"text\":\"0.28\",\"x\":\" BMI \",\"xref\":\"x\",\"y\":\"Polio\",\"yref\":\"y\"},{\"font\":{\"color\":\"#FFFFFF\"},\"showarrow\":false,\"text\":\"-0.19\",\"x\":\"under-five deaths \",\"xref\":\"x\",\"y\":\"Polio\",\"yref\":\"y\"},{\"font\":{\"color\":\"#000000\"},\"showarrow\":false,\"text\":\"1.0\",\"x\":\"Polio\",\"xref\":\"x\",\"y\":\"Polio\",\"yref\":\"y\"},{\"font\":{\"color\":\"#FFFFFF\"},\"showarrow\":false,\"text\":\"0.13\",\"x\":\"Total expenditure\",\"xref\":\"x\",\"y\":\"Polio\",\"yref\":\"y\"},{\"font\":{\"color\":\"#000000\"},\"showarrow\":false,\"text\":\"0.67\",\"x\":\"Diphtheria \",\"xref\":\"x\",\"y\":\"Polio\",\"yref\":\"y\"},{\"font\":{\"color\":\"#FFFFFF\"},\"showarrow\":false,\"text\":\"-0.16\",\"x\":\" HIV\\u002fAIDS\",\"xref\":\"x\",\"y\":\"Polio\",\"yref\":\"y\"},{\"font\":{\"color\":\"#FFFFFF\"},\"showarrow\":false,\"text\":\"-0.22\",\"x\":\" thinness  1-19 years\",\"xref\":\"x\",\"y\":\"Polio\",\"yref\":\"y\"},{\"font\":{\"color\":\"#FFFFFF\"},\"showarrow\":false,\"text\":\"-0.22\",\"x\":\" thinness 5-9 years\",\"xref\":\"x\",\"y\":\"Polio\",\"yref\":\"y\"},{\"font\":{\"color\":\"#000000\"},\"showarrow\":false,\"text\":\"0.36\",\"x\":\"Income composition of resources\",\"xref\":\"x\",\"y\":\"Polio\",\"yref\":\"y\"},{\"font\":{\"color\":\"#000000\"},\"showarrow\":false,\"text\":\"0.39\",\"x\":\"Schooling\",\"xref\":\"x\",\"y\":\"Polio\",\"yref\":\"y\"},{\"font\":{\"color\":\"#FFFFFF\"},\"showarrow\":false,\"text\":\"0.08\",\"x\":\"Year\",\"xref\":\"x\",\"y\":\"Total expenditure\",\"yref\":\"y\"},{\"font\":{\"color\":\"#000000\"},\"showarrow\":false,\"text\":\"0.29\",\"x\":\"Status\",\"xref\":\"x\",\"y\":\"Total expenditure\",\"yref\":\"y\"},{\"font\":{\"color\":\"#000000\"},\"showarrow\":false,\"text\":\"0.21\",\"x\":\"Life expectancy \",\"xref\":\"x\",\"y\":\"Total expenditure\",\"yref\":\"y\"},{\"font\":{\"color\":\"#FFFFFF\"},\"showarrow\":false,\"text\":\"-0.11\",\"x\":\"Adult Mortality\",\"xref\":\"x\",\"y\":\"Total expenditure\",\"yref\":\"y\"},{\"font\":{\"color\":\"#FFFFFF\"},\"showarrow\":false,\"text\":\"-0.13\",\"x\":\"infant deaths\",\"xref\":\"x\",\"y\":\"Total expenditure\",\"yref\":\"y\"},{\"font\":{\"color\":\"#000000\"},\"showarrow\":false,\"text\":\"0.29\",\"x\":\"Alcohol\",\"xref\":\"x\",\"y\":\"Total expenditure\",\"yref\":\"y\"},{\"font\":{\"color\":\"#000000\"},\"showarrow\":false,\"text\":\"0.17\",\"x\":\"percentage expenditure\",\"xref\":\"x\",\"y\":\"Total expenditure\",\"yref\":\"y\"},{\"font\":{\"color\":\"#FFFFFF\"},\"showarrow\":false,\"text\":\"0.05\",\"x\":\"Hepatitis B\",\"xref\":\"x\",\"y\":\"Total expenditure\",\"yref\":\"y\"},{\"font\":{\"color\":\"#FFFFFF\"},\"showarrow\":false,\"text\":\"-0.1\",\"x\":\"Measles \",\"xref\":\"x\",\"y\":\"Total expenditure\",\"yref\":\"y\"},{\"font\":{\"color\":\"#000000\"},\"showarrow\":false,\"text\":\"0.23\",\"x\":\" BMI \",\"xref\":\"x\",\"y\":\"Total expenditure\",\"yref\":\"y\"},{\"font\":{\"color\":\"#FFFFFF\"},\"showarrow\":false,\"text\":\"-0.13\",\"x\":\"under-five deaths \",\"xref\":\"x\",\"y\":\"Total expenditure\",\"yref\":\"y\"},{\"font\":{\"color\":\"#FFFFFF\"},\"showarrow\":false,\"text\":\"0.13\",\"x\":\"Polio\",\"xref\":\"x\",\"y\":\"Total expenditure\",\"yref\":\"y\"},{\"font\":{\"color\":\"#000000\"},\"showarrow\":false,\"text\":\"1.0\",\"x\":\"Total expenditure\",\"xref\":\"x\",\"y\":\"Total expenditure\",\"yref\":\"y\"},{\"font\":{\"color\":\"#FFFFFF\"},\"showarrow\":false,\"text\":\"0.15\",\"x\":\"Diphtheria \",\"xref\":\"x\",\"y\":\"Total expenditure\",\"yref\":\"y\"},{\"font\":{\"color\":\"#FFFFFF\"},\"showarrow\":false,\"text\":\"-0.0\",\"x\":\" HIV\\u002fAIDS\",\"xref\":\"x\",\"y\":\"Total expenditure\",\"yref\":\"y\"},{\"font\":{\"color\":\"#FFFFFF\"},\"showarrow\":false,\"text\":\"-0.27\",\"x\":\" thinness  1-19 years\",\"xref\":\"x\",\"y\":\"Total expenditure\",\"yref\":\"y\"},{\"font\":{\"color\":\"#FFFFFF\"},\"showarrow\":false,\"text\":\"-0.28\",\"x\":\" thinness 5-9 years\",\"xref\":\"x\",\"y\":\"Total expenditure\",\"yref\":\"y\"},{\"font\":{\"color\":\"#FFFFFF\"},\"showarrow\":false,\"text\":\"0.15\",\"x\":\"Income composition of resources\",\"xref\":\"x\",\"y\":\"Total expenditure\",\"yref\":\"y\"},{\"font\":{\"color\":\"#000000\"},\"showarrow\":false,\"text\":\"0.22\",\"x\":\"Schooling\",\"xref\":\"x\",\"y\":\"Total expenditure\",\"yref\":\"y\"},{\"font\":{\"color\":\"#FFFFFF\"},\"showarrow\":false,\"text\":\"0.13\",\"x\":\"Year\",\"xref\":\"x\",\"y\":\"Diphtheria \",\"yref\":\"y\"},{\"font\":{\"color\":\"#000000\"},\"showarrow\":false,\"text\":\"0.22\",\"x\":\"Status\",\"xref\":\"x\",\"y\":\"Diphtheria \",\"yref\":\"y\"},{\"font\":{\"color\":\"#000000\"},\"showarrow\":false,\"text\":\"0.48\",\"x\":\"Life expectancy \",\"xref\":\"x\",\"y\":\"Diphtheria \",\"yref\":\"y\"},{\"font\":{\"color\":\"#FFFFFF\"},\"showarrow\":false,\"text\":\"-0.27\",\"x\":\"Adult Mortality\",\"xref\":\"x\",\"y\":\"Diphtheria \",\"yref\":\"y\"},{\"font\":{\"color\":\"#FFFFFF\"},\"showarrow\":false,\"text\":\"-0.18\",\"x\":\"infant deaths\",\"xref\":\"x\",\"y\":\"Diphtheria \",\"yref\":\"y\"},{\"font\":{\"color\":\"#000000\"},\"showarrow\":false,\"text\":\"0.22\",\"x\":\"Alcohol\",\"xref\":\"x\",\"y\":\"Diphtheria \",\"yref\":\"y\"},{\"font\":{\"color\":\"#FFFFFF\"},\"showarrow\":false,\"text\":\"0.14\",\"x\":\"percentage expenditure\",\"xref\":\"x\",\"y\":\"Diphtheria \",\"yref\":\"y\"},{\"font\":{\"color\":\"#000000\"},\"showarrow\":false,\"text\":\"0.5\",\"x\":\"Hepatitis B\",\"xref\":\"x\",\"y\":\"Diphtheria \",\"yref\":\"y\"},{\"font\":{\"color\":\"#FFFFFF\"},\"showarrow\":false,\"text\":\"-0.14\",\"x\":\"Measles \",\"xref\":\"x\",\"y\":\"Diphtheria \",\"yref\":\"y\"},{\"font\":{\"color\":\"#000000\"},\"showarrow\":false,\"text\":\"0.28\",\"x\":\" BMI \",\"xref\":\"x\",\"y\":\"Diphtheria \",\"yref\":\"y\"},{\"font\":{\"color\":\"#FFFFFF\"},\"showarrow\":false,\"text\":\"-0.2\",\"x\":\"under-five deaths \",\"xref\":\"x\",\"y\":\"Diphtheria \",\"yref\":\"y\"},{\"font\":{\"color\":\"#000000\"},\"showarrow\":false,\"text\":\"0.67\",\"x\":\"Polio\",\"xref\":\"x\",\"y\":\"Diphtheria \",\"yref\":\"y\"},{\"font\":{\"color\":\"#FFFFFF\"},\"showarrow\":false,\"text\":\"0.15\",\"x\":\"Total expenditure\",\"xref\":\"x\",\"y\":\"Diphtheria \",\"yref\":\"y\"},{\"font\":{\"color\":\"#000000\"},\"showarrow\":false,\"text\":\"1.0\",\"x\":\"Diphtheria \",\"xref\":\"x\",\"y\":\"Diphtheria \",\"yref\":\"y\"},{\"font\":{\"color\":\"#FFFFFF\"},\"showarrow\":false,\"text\":\"-0.16\",\"x\":\" HIV\\u002fAIDS\",\"xref\":\"x\",\"y\":\"Diphtheria \",\"yref\":\"y\"},{\"font\":{\"color\":\"#FFFFFF\"},\"showarrow\":false,\"text\":\"-0.23\",\"x\":\" thinness  1-19 years\",\"xref\":\"x\",\"y\":\"Diphtheria \",\"yref\":\"y\"},{\"font\":{\"color\":\"#FFFFFF\"},\"showarrow\":false,\"text\":\"-0.22\",\"x\":\" thinness 5-9 years\",\"xref\":\"x\",\"y\":\"Diphtheria \",\"yref\":\"y\"},{\"font\":{\"color\":\"#000000\"},\"showarrow\":false,\"text\":\"0.37\",\"x\":\"Income composition of resources\",\"xref\":\"x\",\"y\":\"Diphtheria \",\"yref\":\"y\"},{\"font\":{\"color\":\"#000000\"},\"showarrow\":false,\"text\":\"0.39\",\"x\":\"Schooling\",\"xref\":\"x\",\"y\":\"Diphtheria \",\"yref\":\"y\"},{\"font\":{\"color\":\"#FFFFFF\"},\"showarrow\":false,\"text\":\"-0.14\",\"x\":\"Year\",\"xref\":\"x\",\"y\":\" HIV\\u002fAIDS\",\"yref\":\"y\"},{\"font\":{\"color\":\"#FFFFFF\"},\"showarrow\":false,\"text\":\"-0.15\",\"x\":\"Status\",\"xref\":\"x\",\"y\":\" HIV\\u002fAIDS\",\"yref\":\"y\"},{\"font\":{\"color\":\"#FFFFFF\"},\"showarrow\":false,\"text\":\"-0.56\",\"x\":\"Life expectancy \",\"xref\":\"x\",\"y\":\" HIV\\u002fAIDS\",\"yref\":\"y\"},{\"font\":{\"color\":\"#000000\"},\"showarrow\":false,\"text\":\"0.52\",\"x\":\"Adult Mortality\",\"xref\":\"x\",\"y\":\" HIV\\u002fAIDS\",\"yref\":\"y\"},{\"font\":{\"color\":\"#FFFFFF\"},\"showarrow\":false,\"text\":\"0.03\",\"x\":\"infant deaths\",\"xref\":\"x\",\"y\":\" HIV\\u002fAIDS\",\"yref\":\"y\"},{\"font\":{\"color\":\"#FFFFFF\"},\"showarrow\":false,\"text\":\"-0.05\",\"x\":\"Alcohol\",\"xref\":\"x\",\"y\":\" HIV\\u002fAIDS\",\"yref\":\"y\"},{\"font\":{\"color\":\"#FFFFFF\"},\"showarrow\":false,\"text\":\"-0.1\",\"x\":\"percentage expenditure\",\"xref\":\"x\",\"y\":\" HIV\\u002fAIDS\",\"yref\":\"y\"},{\"font\":{\"color\":\"#FFFFFF\"},\"showarrow\":false,\"text\":\"-0.1\",\"x\":\"Hepatitis B\",\"xref\":\"x\",\"y\":\" HIV\\u002fAIDS\",\"yref\":\"y\"},{\"font\":{\"color\":\"#FFFFFF\"},\"showarrow\":false,\"text\":\"0.03\",\"x\":\"Measles \",\"xref\":\"x\",\"y\":\" HIV\\u002fAIDS\",\"yref\":\"y\"},{\"font\":{\"color\":\"#FFFFFF\"},\"showarrow\":false,\"text\":\"-0.24\",\"x\":\" BMI \",\"xref\":\"x\",\"y\":\" HIV\\u002fAIDS\",\"yref\":\"y\"},{\"font\":{\"color\":\"#FFFFFF\"},\"showarrow\":false,\"text\":\"0.04\",\"x\":\"under-five deaths \",\"xref\":\"x\",\"y\":\" HIV\\u002fAIDS\",\"yref\":\"y\"},{\"font\":{\"color\":\"#FFFFFF\"},\"showarrow\":false,\"text\":\"-0.16\",\"x\":\"Polio\",\"xref\":\"x\",\"y\":\" HIV\\u002fAIDS\",\"yref\":\"y\"},{\"font\":{\"color\":\"#FFFFFF\"},\"showarrow\":false,\"text\":\"-0.0\",\"x\":\"Total expenditure\",\"xref\":\"x\",\"y\":\" HIV\\u002fAIDS\",\"yref\":\"y\"},{\"font\":{\"color\":\"#FFFFFF\"},\"showarrow\":false,\"text\":\"-0.16\",\"x\":\"Diphtheria \",\"xref\":\"x\",\"y\":\" HIV\\u002fAIDS\",\"yref\":\"y\"},{\"font\":{\"color\":\"#000000\"},\"showarrow\":false,\"text\":\"1.0\",\"x\":\" HIV\\u002fAIDS\",\"xref\":\"x\",\"y\":\" HIV\\u002fAIDS\",\"yref\":\"y\"},{\"font\":{\"color\":\"#000000\"},\"showarrow\":false,\"text\":\"0.2\",\"x\":\" thinness  1-19 years\",\"xref\":\"x\",\"y\":\" HIV\\u002fAIDS\",\"yref\":\"y\"},{\"font\":{\"color\":\"#000000\"},\"showarrow\":false,\"text\":\"0.21\",\"x\":\" thinness 5-9 years\",\"xref\":\"x\",\"y\":\" HIV\\u002fAIDS\",\"yref\":\"y\"},{\"font\":{\"color\":\"#FFFFFF\"},\"showarrow\":false,\"text\":\"-0.25\",\"x\":\"Income composition of resources\",\"xref\":\"x\",\"y\":\" HIV\\u002fAIDS\",\"yref\":\"y\"},{\"font\":{\"color\":\"#FFFFFF\"},\"showarrow\":false,\"text\":\"-0.22\",\"x\":\"Schooling\",\"xref\":\"x\",\"y\":\" HIV\\u002fAIDS\",\"yref\":\"y\"},{\"font\":{\"color\":\"#FFFFFF\"},\"showarrow\":false,\"text\":\"-0.05\",\"x\":\"Year\",\"xref\":\"x\",\"y\":\" thinness  1-19 years\",\"yref\":\"y\"},{\"font\":{\"color\":\"#FFFFFF\"},\"showarrow\":false,\"text\":\"-0.37\",\"x\":\"Status\",\"xref\":\"x\",\"y\":\" thinness  1-19 years\",\"yref\":\"y\"},{\"font\":{\"color\":\"#FFFFFF\"},\"showarrow\":false,\"text\":\"-0.47\",\"x\":\"Life expectancy \",\"xref\":\"x\",\"y\":\" thinness  1-19 years\",\"yref\":\"y\"},{\"font\":{\"color\":\"#000000\"},\"showarrow\":false,\"text\":\"0.3\",\"x\":\"Adult Mortality\",\"xref\":\"x\",\"y\":\" thinness  1-19 years\",\"yref\":\"y\"},{\"font\":{\"color\":\"#000000\"},\"showarrow\":false,\"text\":\"0.47\",\"x\":\"infant deaths\",\"xref\":\"x\",\"y\":\" thinness  1-19 years\",\"yref\":\"y\"},{\"font\":{\"color\":\"#FFFFFF\"},\"showarrow\":false,\"text\":\"-0.42\",\"x\":\"Alcohol\",\"xref\":\"x\",\"y\":\" thinness  1-19 years\",\"yref\":\"y\"},{\"font\":{\"color\":\"#FFFFFF\"},\"showarrow\":false,\"text\":\"-0.25\",\"x\":\"percentage expenditure\",\"xref\":\"x\",\"y\":\" thinness  1-19 years\",\"yref\":\"y\"},{\"font\":{\"color\":\"#FFFFFF\"},\"showarrow\":false,\"text\":\"-0.11\",\"x\":\"Hepatitis B\",\"xref\":\"x\",\"y\":\" thinness  1-19 years\",\"yref\":\"y\"},{\"font\":{\"color\":\"#000000\"},\"showarrow\":false,\"text\":\"0.22\",\"x\":\"Measles \",\"xref\":\"x\",\"y\":\" thinness  1-19 years\",\"yref\":\"y\"},{\"font\":{\"color\":\"#FFFFFF\"},\"showarrow\":false,\"text\":\"-0.53\",\"x\":\" BMI \",\"xref\":\"x\",\"y\":\" thinness  1-19 years\",\"yref\":\"y\"},{\"font\":{\"color\":\"#000000\"},\"showarrow\":false,\"text\":\"0.47\",\"x\":\"under-five deaths \",\"xref\":\"x\",\"y\":\" thinness  1-19 years\",\"yref\":\"y\"},{\"font\":{\"color\":\"#FFFFFF\"},\"showarrow\":false,\"text\":\"-0.22\",\"x\":\"Polio\",\"xref\":\"x\",\"y\":\" thinness  1-19 years\",\"yref\":\"y\"},{\"font\":{\"color\":\"#FFFFFF\"},\"showarrow\":false,\"text\":\"-0.27\",\"x\":\"Total expenditure\",\"xref\":\"x\",\"y\":\" thinness  1-19 years\",\"yref\":\"y\"},{\"font\":{\"color\":\"#FFFFFF\"},\"showarrow\":false,\"text\":\"-0.23\",\"x\":\"Diphtheria \",\"xref\":\"x\",\"y\":\" thinness  1-19 years\",\"yref\":\"y\"},{\"font\":{\"color\":\"#000000\"},\"showarrow\":false,\"text\":\"0.2\",\"x\":\" HIV\\u002fAIDS\",\"xref\":\"x\",\"y\":\" thinness  1-19 years\",\"yref\":\"y\"},{\"font\":{\"color\":\"#000000\"},\"showarrow\":false,\"text\":\"1.0\",\"x\":\" thinness  1-19 years\",\"xref\":\"x\",\"y\":\" thinness  1-19 years\",\"yref\":\"y\"},{\"font\":{\"color\":\"#000000\"},\"showarrow\":false,\"text\":\"0.94\",\"x\":\" thinness 5-9 years\",\"xref\":\"x\",\"y\":\" thinness  1-19 years\",\"yref\":\"y\"},{\"font\":{\"color\":\"#FFFFFF\"},\"showarrow\":false,\"text\":\"-0.41\",\"x\":\"Income composition of resources\",\"xref\":\"x\",\"y\":\" thinness  1-19 years\",\"yref\":\"y\"},{\"font\":{\"color\":\"#FFFFFF\"},\"showarrow\":false,\"text\":\"-0.45\",\"x\":\"Schooling\",\"xref\":\"x\",\"y\":\" thinness  1-19 years\",\"yref\":\"y\"},{\"font\":{\"color\":\"#FFFFFF\"},\"showarrow\":false,\"text\":\"-0.05\",\"x\":\"Year\",\"xref\":\"x\",\"y\":\" thinness 5-9 years\",\"yref\":\"y\"},{\"font\":{\"color\":\"#FFFFFF\"},\"showarrow\":false,\"text\":\"-0.37\",\"x\":\"Status\",\"xref\":\"x\",\"y\":\" thinness 5-9 years\",\"yref\":\"y\"},{\"font\":{\"color\":\"#FFFFFF\"},\"showarrow\":false,\"text\":\"-0.47\",\"x\":\"Life expectancy \",\"xref\":\"x\",\"y\":\" thinness 5-9 years\",\"yref\":\"y\"},{\"font\":{\"color\":\"#000000\"},\"showarrow\":false,\"text\":\"0.31\",\"x\":\"Adult Mortality\",\"xref\":\"x\",\"y\":\" thinness 5-9 years\",\"yref\":\"y\"},{\"font\":{\"color\":\"#000000\"},\"showarrow\":false,\"text\":\"0.47\",\"x\":\"infant deaths\",\"xref\":\"x\",\"y\":\" thinness 5-9 years\",\"yref\":\"y\"},{\"font\":{\"color\":\"#FFFFFF\"},\"showarrow\":false,\"text\":\"-0.41\",\"x\":\"Alcohol\",\"xref\":\"x\",\"y\":\" thinness 5-9 years\",\"yref\":\"y\"},{\"font\":{\"color\":\"#FFFFFF\"},\"showarrow\":false,\"text\":\"-0.25\",\"x\":\"percentage expenditure\",\"xref\":\"x\",\"y\":\" thinness 5-9 years\",\"yref\":\"y\"},{\"font\":{\"color\":\"#FFFFFF\"},\"showarrow\":false,\"text\":\"-0.11\",\"x\":\"Hepatitis B\",\"xref\":\"x\",\"y\":\" thinness 5-9 years\",\"yref\":\"y\"},{\"font\":{\"color\":\"#000000\"},\"showarrow\":false,\"text\":\"0.22\",\"x\":\"Measles \",\"xref\":\"x\",\"y\":\" thinness 5-9 years\",\"yref\":\"y\"},{\"font\":{\"color\":\"#FFFFFF\"},\"showarrow\":false,\"text\":\"-0.54\",\"x\":\" BMI \",\"xref\":\"x\",\"y\":\" thinness 5-9 years\",\"yref\":\"y\"},{\"font\":{\"color\":\"#000000\"},\"showarrow\":false,\"text\":\"0.47\",\"x\":\"under-five deaths \",\"xref\":\"x\",\"y\":\" thinness 5-9 years\",\"yref\":\"y\"},{\"font\":{\"color\":\"#FFFFFF\"},\"showarrow\":false,\"text\":\"-0.22\",\"x\":\"Polio\",\"xref\":\"x\",\"y\":\" thinness 5-9 years\",\"yref\":\"y\"},{\"font\":{\"color\":\"#FFFFFF\"},\"showarrow\":false,\"text\":\"-0.28\",\"x\":\"Total expenditure\",\"xref\":\"x\",\"y\":\" thinness 5-9 years\",\"yref\":\"y\"},{\"font\":{\"color\":\"#FFFFFF\"},\"showarrow\":false,\"text\":\"-0.22\",\"x\":\"Diphtheria \",\"xref\":\"x\",\"y\":\" thinness 5-9 years\",\"yref\":\"y\"},{\"font\":{\"color\":\"#000000\"},\"showarrow\":false,\"text\":\"0.21\",\"x\":\" HIV\\u002fAIDS\",\"xref\":\"x\",\"y\":\" thinness 5-9 years\",\"yref\":\"y\"},{\"font\":{\"color\":\"#000000\"},\"showarrow\":false,\"text\":\"0.94\",\"x\":\" thinness  1-19 years\",\"xref\":\"x\",\"y\":\" thinness 5-9 years\",\"yref\":\"y\"},{\"font\":{\"color\":\"#000000\"},\"showarrow\":false,\"text\":\"1.0\",\"x\":\" thinness 5-9 years\",\"xref\":\"x\",\"y\":\" thinness 5-9 years\",\"yref\":\"y\"},{\"font\":{\"color\":\"#FFFFFF\"},\"showarrow\":false,\"text\":\"-0.4\",\"x\":\"Income composition of resources\",\"xref\":\"x\",\"y\":\" thinness 5-9 years\",\"yref\":\"y\"},{\"font\":{\"color\":\"#FFFFFF\"},\"showarrow\":false,\"text\":\"-0.44\",\"x\":\"Schooling\",\"xref\":\"x\",\"y\":\" thinness 5-9 years\",\"yref\":\"y\"},{\"font\":{\"color\":\"#000000\"},\"showarrow\":false,\"text\":\"0.24\",\"x\":\"Year\",\"xref\":\"x\",\"y\":\"Income composition of resources\",\"yref\":\"y\"},{\"font\":{\"color\":\"#000000\"},\"showarrow\":false,\"text\":\"0.46\",\"x\":\"Status\",\"xref\":\"x\",\"y\":\"Income composition of resources\",\"yref\":\"y\"},{\"font\":{\"color\":\"#000000\"},\"showarrow\":false,\"text\":\"0.69\",\"x\":\"Life expectancy \",\"xref\":\"x\",\"y\":\"Income composition of resources\",\"yref\":\"y\"},{\"font\":{\"color\":\"#FFFFFF\"},\"showarrow\":false,\"text\":\"-0.44\",\"x\":\"Adult Mortality\",\"xref\":\"x\",\"y\":\"Income composition of resources\",\"yref\":\"y\"},{\"font\":{\"color\":\"#FFFFFF\"},\"showarrow\":false,\"text\":\"-0.14\",\"x\":\"infant deaths\",\"xref\":\"x\",\"y\":\"Income composition of resources\",\"yref\":\"y\"},{\"font\":{\"color\":\"#000000\"},\"showarrow\":false,\"text\":\"0.42\",\"x\":\"Alcohol\",\"xref\":\"x\",\"y\":\"Income composition of resources\",\"yref\":\"y\"},{\"font\":{\"color\":\"#000000\"},\"showarrow\":false,\"text\":\"0.38\",\"x\":\"percentage expenditure\",\"xref\":\"x\",\"y\":\"Income composition of resources\",\"yref\":\"y\"},{\"font\":{\"color\":\"#FFFFFF\"},\"showarrow\":false,\"text\":\"0.15\",\"x\":\"Hepatitis B\",\"xref\":\"x\",\"y\":\"Income composition of resources\",\"yref\":\"y\"},{\"font\":{\"color\":\"#FFFFFF\"},\"showarrow\":false,\"text\":\"-0.12\",\"x\":\"Measles \",\"xref\":\"x\",\"y\":\"Income composition of resources\",\"yref\":\"y\"},{\"font\":{\"color\":\"#000000\"},\"showarrow\":false,\"text\":\"0.48\",\"x\":\" BMI \",\"xref\":\"x\",\"y\":\"Income composition of resources\",\"yref\":\"y\"},{\"font\":{\"color\":\"#FFFFFF\"},\"showarrow\":false,\"text\":\"-0.16\",\"x\":\"under-five deaths \",\"xref\":\"x\",\"y\":\"Income composition of resources\",\"yref\":\"y\"},{\"font\":{\"color\":\"#000000\"},\"showarrow\":false,\"text\":\"0.36\",\"x\":\"Polio\",\"xref\":\"x\",\"y\":\"Income composition of resources\",\"yref\":\"y\"},{\"font\":{\"color\":\"#FFFFFF\"},\"showarrow\":false,\"text\":\"0.15\",\"x\":\"Total expenditure\",\"xref\":\"x\",\"y\":\"Income composition of resources\",\"yref\":\"y\"},{\"font\":{\"color\":\"#000000\"},\"showarrow\":false,\"text\":\"0.37\",\"x\":\"Diphtheria \",\"xref\":\"x\",\"y\":\"Income composition of resources\",\"yref\":\"y\"},{\"font\":{\"color\":\"#FFFFFF\"},\"showarrow\":false,\"text\":\"-0.25\",\"x\":\" HIV\\u002fAIDS\",\"xref\":\"x\",\"y\":\"Income composition of resources\",\"yref\":\"y\"},{\"font\":{\"color\":\"#FFFFFF\"},\"showarrow\":false,\"text\":\"-0.41\",\"x\":\" thinness  1-19 years\",\"xref\":\"x\",\"y\":\"Income composition of resources\",\"yref\":\"y\"},{\"font\":{\"color\":\"#FFFFFF\"},\"showarrow\":false,\"text\":\"-0.4\",\"x\":\" thinness 5-9 years\",\"xref\":\"x\",\"y\":\"Income composition of resources\",\"yref\":\"y\"},{\"font\":{\"color\":\"#000000\"},\"showarrow\":false,\"text\":\"1.0\",\"x\":\"Income composition of resources\",\"xref\":\"x\",\"y\":\"Income composition of resources\",\"yref\":\"y\"},{\"font\":{\"color\":\"#000000\"},\"showarrow\":false,\"text\":\"0.8\",\"x\":\"Schooling\",\"xref\":\"x\",\"y\":\"Income composition of resources\",\"yref\":\"y\"},{\"font\":{\"color\":\"#000000\"},\"showarrow\":false,\"text\":\"0.2\",\"x\":\"Year\",\"xref\":\"x\",\"y\":\"Schooling\",\"yref\":\"y\"},{\"font\":{\"color\":\"#000000\"},\"showarrow\":false,\"text\":\"0.49\",\"x\":\"Status\",\"xref\":\"x\",\"y\":\"Schooling\",\"yref\":\"y\"},{\"font\":{\"color\":\"#000000\"},\"showarrow\":false,\"text\":\"0.72\",\"x\":\"Life expectancy \",\"xref\":\"x\",\"y\":\"Schooling\",\"yref\":\"y\"},{\"font\":{\"color\":\"#FFFFFF\"},\"showarrow\":false,\"text\":\"-0.44\",\"x\":\"Adult Mortality\",\"xref\":\"x\",\"y\":\"Schooling\",\"yref\":\"y\"},{\"font\":{\"color\":\"#FFFFFF\"},\"showarrow\":false,\"text\":\"-0.19\",\"x\":\"infant deaths\",\"xref\":\"x\",\"y\":\"Schooling\",\"yref\":\"y\"},{\"font\":{\"color\":\"#000000\"},\"showarrow\":false,\"text\":\"0.5\",\"x\":\"Alcohol\",\"xref\":\"x\",\"y\":\"Schooling\",\"yref\":\"y\"},{\"font\":{\"color\":\"#000000\"},\"showarrow\":false,\"text\":\"0.39\",\"x\":\"percentage expenditure\",\"xref\":\"x\",\"y\":\"Schooling\",\"yref\":\"y\"},{\"font\":{\"color\":\"#000000\"},\"showarrow\":false,\"text\":\"0.17\",\"x\":\"Hepatitis B\",\"xref\":\"x\",\"y\":\"Schooling\",\"yref\":\"y\"},{\"font\":{\"color\":\"#FFFFFF\"},\"showarrow\":false,\"text\":\"-0.12\",\"x\":\"Measles \",\"xref\":\"x\",\"y\":\"Schooling\",\"yref\":\"y\"},{\"font\":{\"color\":\"#000000\"},\"showarrow\":false,\"text\":\"0.51\",\"x\":\" BMI \",\"xref\":\"x\",\"y\":\"Schooling\",\"yref\":\"y\"},{\"font\":{\"color\":\"#FFFFFF\"},\"showarrow\":false,\"text\":\"-0.21\",\"x\":\"under-five deaths \",\"xref\":\"x\",\"y\":\"Schooling\",\"yref\":\"y\"},{\"font\":{\"color\":\"#000000\"},\"showarrow\":false,\"text\":\"0.39\",\"x\":\"Polio\",\"xref\":\"x\",\"y\":\"Schooling\",\"yref\":\"y\"},{\"font\":{\"color\":\"#000000\"},\"showarrow\":false,\"text\":\"0.22\",\"x\":\"Total expenditure\",\"xref\":\"x\",\"y\":\"Schooling\",\"yref\":\"y\"},{\"font\":{\"color\":\"#000000\"},\"showarrow\":false,\"text\":\"0.39\",\"x\":\"Diphtheria \",\"xref\":\"x\",\"y\":\"Schooling\",\"yref\":\"y\"},{\"font\":{\"color\":\"#FFFFFF\"},\"showarrow\":false,\"text\":\"-0.22\",\"x\":\" HIV\\u002fAIDS\",\"xref\":\"x\",\"y\":\"Schooling\",\"yref\":\"y\"},{\"font\":{\"color\":\"#FFFFFF\"},\"showarrow\":false,\"text\":\"-0.45\",\"x\":\" thinness  1-19 years\",\"xref\":\"x\",\"y\":\"Schooling\",\"yref\":\"y\"},{\"font\":{\"color\":\"#FFFFFF\"},\"showarrow\":false,\"text\":\"-0.44\",\"x\":\" thinness 5-9 years\",\"xref\":\"x\",\"y\":\"Schooling\",\"yref\":\"y\"},{\"font\":{\"color\":\"#000000\"},\"showarrow\":false,\"text\":\"0.8\",\"x\":\"Income composition of resources\",\"xref\":\"x\",\"y\":\"Schooling\",\"yref\":\"y\"},{\"font\":{\"color\":\"#000000\"},\"showarrow\":false,\"text\":\"1.0\",\"x\":\"Schooling\",\"xref\":\"x\",\"y\":\"Schooling\",\"yref\":\"y\"}],\"xaxis\":{\"dtick\":1,\"gridcolor\":\"rgb(0, 0, 0)\",\"side\":\"top\",\"ticks\":\"\"},\"yaxis\":{\"dtick\":1,\"ticks\":\"\",\"ticksuffix\":\"  \"},\"template\":{\"data\":{\"histogram2dcontour\":[{\"type\":\"histogram2dcontour\",\"colorbar\":{\"outlinewidth\":0,\"ticks\":\"\"},\"colorscale\":[[0.0,\"#0d0887\"],[0.1111111111111111,\"#46039f\"],[0.2222222222222222,\"#7201a8\"],[0.3333333333333333,\"#9c179e\"],[0.4444444444444444,\"#bd3786\"],[0.5555555555555556,\"#d8576b\"],[0.6666666666666666,\"#ed7953\"],[0.7777777777777778,\"#fb9f3a\"],[0.8888888888888888,\"#fdca26\"],[1.0,\"#f0f921\"]]}],\"choropleth\":[{\"type\":\"choropleth\",\"colorbar\":{\"outlinewidth\":0,\"ticks\":\"\"}}],\"histogram2d\":[{\"type\":\"histogram2d\",\"colorbar\":{\"outlinewidth\":0,\"ticks\":\"\"},\"colorscale\":[[0.0,\"#0d0887\"],[0.1111111111111111,\"#46039f\"],[0.2222222222222222,\"#7201a8\"],[0.3333333333333333,\"#9c179e\"],[0.4444444444444444,\"#bd3786\"],[0.5555555555555556,\"#d8576b\"],[0.6666666666666666,\"#ed7953\"],[0.7777777777777778,\"#fb9f3a\"],[0.8888888888888888,\"#fdca26\"],[1.0,\"#f0f921\"]]}],\"heatmap\":[{\"type\":\"heatmap\",\"colorbar\":{\"outlinewidth\":0,\"ticks\":\"\"},\"colorscale\":[[0.0,\"#0d0887\"],[0.1111111111111111,\"#46039f\"],[0.2222222222222222,\"#7201a8\"],[0.3333333333333333,\"#9c179e\"],[0.4444444444444444,\"#bd3786\"],[0.5555555555555556,\"#d8576b\"],[0.6666666666666666,\"#ed7953\"],[0.7777777777777778,\"#fb9f3a\"],[0.8888888888888888,\"#fdca26\"],[1.0,\"#f0f921\"]]}],\"heatmapgl\":[{\"type\":\"heatmapgl\",\"colorbar\":{\"outlinewidth\":0,\"ticks\":\"\"},\"colorscale\":[[0.0,\"#0d0887\"],[0.1111111111111111,\"#46039f\"],[0.2222222222222222,\"#7201a8\"],[0.3333333333333333,\"#9c179e\"],[0.4444444444444444,\"#bd3786\"],[0.5555555555555556,\"#d8576b\"],[0.6666666666666666,\"#ed7953\"],[0.7777777777777778,\"#fb9f3a\"],[0.8888888888888888,\"#fdca26\"],[1.0,\"#f0f921\"]]}],\"contourcarpet\":[{\"type\":\"contourcarpet\",\"colorbar\":{\"outlinewidth\":0,\"ticks\":\"\"}}],\"contour\":[{\"type\":\"contour\",\"colorbar\":{\"outlinewidth\":0,\"ticks\":\"\"},\"colorscale\":[[0.0,\"#0d0887\"],[0.1111111111111111,\"#46039f\"],[0.2222222222222222,\"#7201a8\"],[0.3333333333333333,\"#9c179e\"],[0.4444444444444444,\"#bd3786\"],[0.5555555555555556,\"#d8576b\"],[0.6666666666666666,\"#ed7953\"],[0.7777777777777778,\"#fb9f3a\"],[0.8888888888888888,\"#fdca26\"],[1.0,\"#f0f921\"]]}],\"surface\":[{\"type\":\"surface\",\"colorbar\":{\"outlinewidth\":0,\"ticks\":\"\"},\"colorscale\":[[0.0,\"#0d0887\"],[0.1111111111111111,\"#46039f\"],[0.2222222222222222,\"#7201a8\"],[0.3333333333333333,\"#9c179e\"],[0.4444444444444444,\"#bd3786\"],[0.5555555555555556,\"#d8576b\"],[0.6666666666666666,\"#ed7953\"],[0.7777777777777778,\"#fb9f3a\"],[0.8888888888888888,\"#fdca26\"],[1.0,\"#f0f921\"]]}],\"mesh3d\":[{\"type\":\"mesh3d\",\"colorbar\":{\"outlinewidth\":0,\"ticks\":\"\"}}],\"scatter\":[{\"fillpattern\":{\"fillmode\":\"overlay\",\"size\":10,\"solidity\":0.2},\"type\":\"scatter\"}],\"parcoords\":[{\"type\":\"parcoords\",\"line\":{\"colorbar\":{\"outlinewidth\":0,\"ticks\":\"\"}}}],\"scatterpolargl\":[{\"type\":\"scatterpolargl\",\"marker\":{\"colorbar\":{\"outlinewidth\":0,\"ticks\":\"\"}}}],\"bar\":[{\"error_x\":{\"color\":\"#2a3f5f\"},\"error_y\":{\"color\":\"#2a3f5f\"},\"marker\":{\"line\":{\"color\":\"#E5ECF6\",\"width\":0.5},\"pattern\":{\"fillmode\":\"overlay\",\"size\":10,\"solidity\":0.2}},\"type\":\"bar\"}],\"scattergeo\":[{\"type\":\"scattergeo\",\"marker\":{\"colorbar\":{\"outlinewidth\":0,\"ticks\":\"\"}}}],\"scatterpolar\":[{\"type\":\"scatterpolar\",\"marker\":{\"colorbar\":{\"outlinewidth\":0,\"ticks\":\"\"}}}],\"histogram\":[{\"marker\":{\"pattern\":{\"fillmode\":\"overlay\",\"size\":10,\"solidity\":0.2}},\"type\":\"histogram\"}],\"scattergl\":[{\"type\":\"scattergl\",\"marker\":{\"colorbar\":{\"outlinewidth\":0,\"ticks\":\"\"}}}],\"scatter3d\":[{\"type\":\"scatter3d\",\"line\":{\"colorbar\":{\"outlinewidth\":0,\"ticks\":\"\"}},\"marker\":{\"colorbar\":{\"outlinewidth\":0,\"ticks\":\"\"}}}],\"scattermapbox\":[{\"type\":\"scattermapbox\",\"marker\":{\"colorbar\":{\"outlinewidth\":0,\"ticks\":\"\"}}}],\"scatterternary\":[{\"type\":\"scatterternary\",\"marker\":{\"colorbar\":{\"outlinewidth\":0,\"ticks\":\"\"}}}],\"scattercarpet\":[{\"type\":\"scattercarpet\",\"marker\":{\"colorbar\":{\"outlinewidth\":0,\"ticks\":\"\"}}}],\"carpet\":[{\"aaxis\":{\"endlinecolor\":\"#2a3f5f\",\"gridcolor\":\"white\",\"linecolor\":\"white\",\"minorgridcolor\":\"white\",\"startlinecolor\":\"#2a3f5f\"},\"baxis\":{\"endlinecolor\":\"#2a3f5f\",\"gridcolor\":\"white\",\"linecolor\":\"white\",\"minorgridcolor\":\"white\",\"startlinecolor\":\"#2a3f5f\"},\"type\":\"carpet\"}],\"table\":[{\"cells\":{\"fill\":{\"color\":\"#EBF0F8\"},\"line\":{\"color\":\"white\"}},\"header\":{\"fill\":{\"color\":\"#C8D4E3\"},\"line\":{\"color\":\"white\"}},\"type\":\"table\"}],\"barpolar\":[{\"marker\":{\"line\":{\"color\":\"#E5ECF6\",\"width\":0.5},\"pattern\":{\"fillmode\":\"overlay\",\"size\":10,\"solidity\":0.2}},\"type\":\"barpolar\"}],\"pie\":[{\"automargin\":true,\"type\":\"pie\"}]},\"layout\":{\"autotypenumbers\":\"strict\",\"colorway\":[\"#636efa\",\"#EF553B\",\"#00cc96\",\"#ab63fa\",\"#FFA15A\",\"#19d3f3\",\"#FF6692\",\"#B6E880\",\"#FF97FF\",\"#FECB52\"],\"font\":{\"color\":\"#2a3f5f\"},\"hovermode\":\"closest\",\"hoverlabel\":{\"align\":\"left\"},\"paper_bgcolor\":\"white\",\"plot_bgcolor\":\"#E5ECF6\",\"polar\":{\"bgcolor\":\"#E5ECF6\",\"angularaxis\":{\"gridcolor\":\"white\",\"linecolor\":\"white\",\"ticks\":\"\"},\"radialaxis\":{\"gridcolor\":\"white\",\"linecolor\":\"white\",\"ticks\":\"\"}},\"ternary\":{\"bgcolor\":\"#E5ECF6\",\"aaxis\":{\"gridcolor\":\"white\",\"linecolor\":\"white\",\"ticks\":\"\"},\"baxis\":{\"gridcolor\":\"white\",\"linecolor\":\"white\",\"ticks\":\"\"},\"caxis\":{\"gridcolor\":\"white\",\"linecolor\":\"white\",\"ticks\":\"\"}},\"coloraxis\":{\"colorbar\":{\"outlinewidth\":0,\"ticks\":\"\"}},\"colorscale\":{\"sequential\":[[0.0,\"#0d0887\"],[0.1111111111111111,\"#46039f\"],[0.2222222222222222,\"#7201a8\"],[0.3333333333333333,\"#9c179e\"],[0.4444444444444444,\"#bd3786\"],[0.5555555555555556,\"#d8576b\"],[0.6666666666666666,\"#ed7953\"],[0.7777777777777778,\"#fb9f3a\"],[0.8888888888888888,\"#fdca26\"],[1.0,\"#f0f921\"]],\"sequentialminus\":[[0.0,\"#0d0887\"],[0.1111111111111111,\"#46039f\"],[0.2222222222222222,\"#7201a8\"],[0.3333333333333333,\"#9c179e\"],[0.4444444444444444,\"#bd3786\"],[0.5555555555555556,\"#d8576b\"],[0.6666666666666666,\"#ed7953\"],[0.7777777777777778,\"#fb9f3a\"],[0.8888888888888888,\"#fdca26\"],[1.0,\"#f0f921\"]],\"diverging\":[[0,\"#8e0152\"],[0.1,\"#c51b7d\"],[0.2,\"#de77ae\"],[0.3,\"#f1b6da\"],[0.4,\"#fde0ef\"],[0.5,\"#f7f7f7\"],[0.6,\"#e6f5d0\"],[0.7,\"#b8e186\"],[0.8,\"#7fbc41\"],[0.9,\"#4d9221\"],[1,\"#276419\"]]},\"xaxis\":{\"gridcolor\":\"white\",\"linecolor\":\"white\",\"ticks\":\"\",\"title\":{\"standoff\":15},\"zerolinecolor\":\"white\",\"automargin\":true,\"zerolinewidth\":2},\"yaxis\":{\"gridcolor\":\"white\",\"linecolor\":\"white\",\"ticks\":\"\",\"title\":{\"standoff\":15},\"zerolinecolor\":\"white\",\"automargin\":true,\"zerolinewidth\":2},\"scene\":{\"xaxis\":{\"backgroundcolor\":\"#E5ECF6\",\"gridcolor\":\"white\",\"linecolor\":\"white\",\"showbackground\":true,\"ticks\":\"\",\"zerolinecolor\":\"white\",\"gridwidth\":2},\"yaxis\":{\"backgroundcolor\":\"#E5ECF6\",\"gridcolor\":\"white\",\"linecolor\":\"white\",\"showbackground\":true,\"ticks\":\"\",\"zerolinecolor\":\"white\",\"gridwidth\":2},\"zaxis\":{\"backgroundcolor\":\"#E5ECF6\",\"gridcolor\":\"white\",\"linecolor\":\"white\",\"showbackground\":true,\"ticks\":\"\",\"zerolinecolor\":\"white\",\"gridwidth\":2}},\"shapedefaults\":{\"line\":{\"color\":\"#2a3f5f\"}},\"annotationdefaults\":{\"arrowcolor\":\"#2a3f5f\",\"arrowhead\":0,\"arrowwidth\":1},\"geo\":{\"bgcolor\":\"white\",\"landcolor\":\"#E5ECF6\",\"subunitcolor\":\"white\",\"showland\":true,\"showlakes\":true,\"lakecolor\":\"white\"},\"title\":{\"x\":0.05},\"mapbox\":{\"style\":\"light\"}}}},                        {\"responsive\": true}                    ).then(function(){\n",
              "                            \n",
              "var gd = document.getElementById('bdda4881-070d-4b94-909e-88729f45946b');\n",
              "var x = new MutationObserver(function (mutations, observer) {{\n",
              "        var display = window.getComputedStyle(gd).display;\n",
              "        if (!display || display === 'none') {{\n",
              "            console.log([gd, 'removed!']);\n",
              "            Plotly.purge(gd);\n",
              "            observer.disconnect();\n",
              "        }}\n",
              "}});\n",
              "\n",
              "// Listen for the removal of the full notebook cells\n",
              "var notebookContainer = gd.closest('#notebook-container');\n",
              "if (notebookContainer) {{\n",
              "    x.observe(notebookContainer, {childList: true});\n",
              "}}\n",
              "\n",
              "// Listen for the clearing of the current output cell\n",
              "var outputEl = gd.closest('.output');\n",
              "if (outputEl) {{\n",
              "    x.observe(outputEl, {childList: true});\n",
              "}}\n",
              "\n",
              "                        })                };                            </script>        </div>\n",
              "</body>\n",
              "</html>"
            ]
          },
          "metadata": {}
        }
      ]
    },
    {
      "cell_type": "code",
      "source": [
        "# Dropping the columns having higher correlation\n",
        "data1 = data.drop(['Schooling','Income composition of resources'], axis = 1)\n",
        "data1.info()"
      ],
      "metadata": {
        "colab": {
          "base_uri": "https://localhost:8080/"
        },
        "id": "R2khWm6Vu2D2",
        "outputId": "a28c7dee-9c61-4c45-80d6-a7e883a5a510"
      },
      "execution_count": null,
      "outputs": [
        {
          "output_type": "stream",
          "name": "stdout",
          "text": [
            "<class 'pandas.core.frame.DataFrame'>\n",
            "RangeIndex: 2938 entries, 0 to 2937\n",
            "Data columns (total 17 columns):\n",
            " #   Column                  Non-Null Count  Dtype  \n",
            "---  ------                  --------------  -----  \n",
            " 0   Year                    2938 non-null   int64  \n",
            " 1   Status                  2938 non-null   int64  \n",
            " 2   Life expectancy         2938 non-null   float64\n",
            " 3   Adult Mortality         2938 non-null   float64\n",
            " 4   infant deaths           2938 non-null   int64  \n",
            " 5   Alcohol                 2938 non-null   float64\n",
            " 6   percentage expenditure  2938 non-null   float64\n",
            " 7   Hepatitis B             2938 non-null   float64\n",
            " 8   Measles                 2938 non-null   int64  \n",
            " 9    BMI                    2938 non-null   float64\n",
            " 10  under-five deaths       2938 non-null   int64  \n",
            " 11  Polio                   2938 non-null   float64\n",
            " 12  Total expenditure       2938 non-null   float64\n",
            " 13  Diphtheria              2938 non-null   float64\n",
            " 14   HIV/AIDS               2938 non-null   float64\n",
            " 15   thinness  1-19 years   2938 non-null   float64\n",
            " 16   thinness 5-9 years     2938 non-null   float64\n",
            "dtypes: float64(12), int64(5)\n",
            "memory usage: 390.3 KB\n"
          ]
        }
      ]
    },
    {
      "cell_type": "code",
      "source": [
        "# Dividing dataset into label and feature sets\n",
        "X = data1.drop(['Life expectancy '], axis = 1) # Features\n",
        "Y = data1['Life expectancy '] # Labels\n",
        "print(X.shape)\n",
        "print(Y.shape)"
      ],
      "metadata": {
        "colab": {
          "base_uri": "https://localhost:8080/"
        },
        "id": "3MZi106wvJtH",
        "outputId": "2a6c2cc3-53b6-41d0-a707-56606734250c"
      },
      "execution_count": null,
      "outputs": [
        {
          "output_type": "stream",
          "name": "stdout",
          "text": [
            "(2938, 16)\n",
            "(2938,)\n"
          ]
        }
      ]
    },
    {
      "cell_type": "code",
      "source": [
        "# Standardizing the dataset\n",
        "X_ = StandardScaler().fit_transform(X)"
      ],
      "metadata": {
        "id": "NB9Y7WP6v4Lf"
      },
      "execution_count": null,
      "outputs": []
    },
    {
      "cell_type": "markdown",
      "source": [
        "# Regularization with Penalties"
      ],
      "metadata": {
        "id": "2vk7EmLfkyUx"
      }
    },
    {
      "cell_type": "markdown",
      "source": [
        "## Using Lasso (L1) Penalty"
      ],
      "metadata": {
        "id": "sCgdVASflFLG"
      }
    },
    {
      "cell_type": "code",
      "source": [
        "LinearRegression1 = SGDRegressor(random_state = 1, penalty = 'l1') # building the model\n",
        "Hparameter1 = {'eta0': [.0001, .001, .01, .1, 1], 'max_iter':[10000, 15000, 20000, 30000],'alpha': [.001, .01, .1, 1,10, 100]}\n",
        "grid_search1 = GridSearchCV(estimator=LinearRegression1, param_grid=Hparameter1, scoring='r2', cv=5) # Tuning the parameters\n",
        "grid_search1.fit(X_, Y)"
      ],
      "metadata": {
        "colab": {
          "base_uri": "https://localhost:8080/",
          "height": 118
        },
        "id": "k43v7JFfwb2H",
        "outputId": "19f74120-3dff-4f70-d9ea-a1b8c73b06e1"
      },
      "execution_count": null,
      "outputs": [
        {
          "output_type": "execute_result",
          "data": {
            "text/plain": [
              "GridSearchCV(cv=5, estimator=SGDRegressor(penalty='l1', random_state=1),\n",
              "             param_grid={'alpha': [0.001, 0.01, 0.1, 1, 10, 100],\n",
              "                         'eta0': [0.0001, 0.001, 0.01, 0.1, 1],\n",
              "                         'max_iter': [10000, 15000, 20000, 30000]},\n",
              "             scoring='r2')"
            ],
            "text/html": [
              "<style>#sk-container-id-7 {color: black;background-color: white;}#sk-container-id-7 pre{padding: 0;}#sk-container-id-7 div.sk-toggleable {background-color: white;}#sk-container-id-7 label.sk-toggleable__label {cursor: pointer;display: block;width: 100%;margin-bottom: 0;padding: 0.3em;box-sizing: border-box;text-align: center;}#sk-container-id-7 label.sk-toggleable__label-arrow:before {content: \"▸\";float: left;margin-right: 0.25em;color: #696969;}#sk-container-id-7 label.sk-toggleable__label-arrow:hover:before {color: black;}#sk-container-id-7 div.sk-estimator:hover label.sk-toggleable__label-arrow:before {color: black;}#sk-container-id-7 div.sk-toggleable__content {max-height: 0;max-width: 0;overflow: hidden;text-align: left;background-color: #f0f8ff;}#sk-container-id-7 div.sk-toggleable__content pre {margin: 0.2em;color: black;border-radius: 0.25em;background-color: #f0f8ff;}#sk-container-id-7 input.sk-toggleable__control:checked~div.sk-toggleable__content {max-height: 200px;max-width: 100%;overflow: auto;}#sk-container-id-7 input.sk-toggleable__control:checked~label.sk-toggleable__label-arrow:before {content: \"▾\";}#sk-container-id-7 div.sk-estimator input.sk-toggleable__control:checked~label.sk-toggleable__label {background-color: #d4ebff;}#sk-container-id-7 div.sk-label input.sk-toggleable__control:checked~label.sk-toggleable__label {background-color: #d4ebff;}#sk-container-id-7 input.sk-hidden--visually {border: 0;clip: rect(1px 1px 1px 1px);clip: rect(1px, 1px, 1px, 1px);height: 1px;margin: -1px;overflow: hidden;padding: 0;position: absolute;width: 1px;}#sk-container-id-7 div.sk-estimator {font-family: monospace;background-color: #f0f8ff;border: 1px dotted black;border-radius: 0.25em;box-sizing: border-box;margin-bottom: 0.5em;}#sk-container-id-7 div.sk-estimator:hover {background-color: #d4ebff;}#sk-container-id-7 div.sk-parallel-item::after {content: \"\";width: 100%;border-bottom: 1px solid gray;flex-grow: 1;}#sk-container-id-7 div.sk-label:hover label.sk-toggleable__label {background-color: #d4ebff;}#sk-container-id-7 div.sk-serial::before {content: \"\";position: absolute;border-left: 1px solid gray;box-sizing: border-box;top: 0;bottom: 0;left: 50%;z-index: 0;}#sk-container-id-7 div.sk-serial {display: flex;flex-direction: column;align-items: center;background-color: white;padding-right: 0.2em;padding-left: 0.2em;position: relative;}#sk-container-id-7 div.sk-item {position: relative;z-index: 1;}#sk-container-id-7 div.sk-parallel {display: flex;align-items: stretch;justify-content: center;background-color: white;position: relative;}#sk-container-id-7 div.sk-item::before, #sk-container-id-7 div.sk-parallel-item::before {content: \"\";position: absolute;border-left: 1px solid gray;box-sizing: border-box;top: 0;bottom: 0;left: 50%;z-index: -1;}#sk-container-id-7 div.sk-parallel-item {display: flex;flex-direction: column;z-index: 1;position: relative;background-color: white;}#sk-container-id-7 div.sk-parallel-item:first-child::after {align-self: flex-end;width: 50%;}#sk-container-id-7 div.sk-parallel-item:last-child::after {align-self: flex-start;width: 50%;}#sk-container-id-7 div.sk-parallel-item:only-child::after {width: 0;}#sk-container-id-7 div.sk-dashed-wrapped {border: 1px dashed gray;margin: 0 0.4em 0.5em 0.4em;box-sizing: border-box;padding-bottom: 0.4em;background-color: white;}#sk-container-id-7 div.sk-label label {font-family: monospace;font-weight: bold;display: inline-block;line-height: 1.2em;}#sk-container-id-7 div.sk-label-container {text-align: center;}#sk-container-id-7 div.sk-container {/* jupyter's `normalize.less` sets `[hidden] { display: none; }` but bootstrap.min.css set `[hidden] { display: none !important; }` so we also need the `!important` here to be able to override the default hidden behavior on the sphinx rendered scikit-learn.org. See: https://github.com/scikit-learn/scikit-learn/issues/21755 */display: inline-block !important;position: relative;}#sk-container-id-7 div.sk-text-repr-fallback {display: none;}</style><div id=\"sk-container-id-7\" class=\"sk-top-container\"><div class=\"sk-text-repr-fallback\"><pre>GridSearchCV(cv=5, estimator=SGDRegressor(penalty=&#x27;l1&#x27;, random_state=1),\n",
              "             param_grid={&#x27;alpha&#x27;: [0.001, 0.01, 0.1, 1, 10, 100],\n",
              "                         &#x27;eta0&#x27;: [0.0001, 0.001, 0.01, 0.1, 1],\n",
              "                         &#x27;max_iter&#x27;: [10000, 15000, 20000, 30000]},\n",
              "             scoring=&#x27;r2&#x27;)</pre><b>In a Jupyter environment, please rerun this cell to show the HTML representation or trust the notebook. <br />On GitHub, the HTML representation is unable to render, please try loading this page with nbviewer.org.</b></div><div class=\"sk-container\" hidden><div class=\"sk-item sk-dashed-wrapped\"><div class=\"sk-label-container\"><div class=\"sk-label sk-toggleable\"><input class=\"sk-toggleable__control sk-hidden--visually\" id=\"sk-estimator-id-19\" type=\"checkbox\" ><label for=\"sk-estimator-id-19\" class=\"sk-toggleable__label sk-toggleable__label-arrow\">GridSearchCV</label><div class=\"sk-toggleable__content\"><pre>GridSearchCV(cv=5, estimator=SGDRegressor(penalty=&#x27;l1&#x27;, random_state=1),\n",
              "             param_grid={&#x27;alpha&#x27;: [0.001, 0.01, 0.1, 1, 10, 100],\n",
              "                         &#x27;eta0&#x27;: [0.0001, 0.001, 0.01, 0.1, 1],\n",
              "                         &#x27;max_iter&#x27;: [10000, 15000, 20000, 30000]},\n",
              "             scoring=&#x27;r2&#x27;)</pre></div></div></div><div class=\"sk-parallel\"><div class=\"sk-parallel-item\"><div class=\"sk-item\"><div class=\"sk-label-container\"><div class=\"sk-label sk-toggleable\"><input class=\"sk-toggleable__control sk-hidden--visually\" id=\"sk-estimator-id-20\" type=\"checkbox\" ><label for=\"sk-estimator-id-20\" class=\"sk-toggleable__label sk-toggleable__label-arrow\">estimator: SGDRegressor</label><div class=\"sk-toggleable__content\"><pre>SGDRegressor(penalty=&#x27;l1&#x27;, random_state=1)</pre></div></div></div><div class=\"sk-serial\"><div class=\"sk-item\"><div class=\"sk-estimator sk-toggleable\"><input class=\"sk-toggleable__control sk-hidden--visually\" id=\"sk-estimator-id-21\" type=\"checkbox\" ><label for=\"sk-estimator-id-21\" class=\"sk-toggleable__label sk-toggleable__label-arrow\">SGDRegressor</label><div class=\"sk-toggleable__content\"><pre>SGDRegressor(penalty=&#x27;l1&#x27;, random_state=1)</pre></div></div></div></div></div></div></div></div></div></div>"
            ]
          },
          "metadata": {},
          "execution_count": 71
        }
      ]
    },
    {
      "cell_type": "code",
      "source": [
        "best_parameters = grid_search1.best_params_\n",
        "print(\"Best parameters: \", best_parameters)\n",
        "best_result = grid_search1.best_score_\n",
        "print(\"Best result: \", best_result)\n",
        "best_model = grid_search1.best_estimator_\n",
        "print(\"Intercept β0: \", best_model.intercept_)\n",
        "#print(DataFrame(zip(X.columns, best_model.coef_), columns=['Features','Coefficients']))\n",
        "print(DataFrame(zip(X.columns, best_model.coef_), columns=['Features','Coefficients']).sort_values(by=['Coefficients'],ascending=False))"
      ],
      "metadata": {
        "colab": {
          "base_uri": "https://localhost:8080/"
        },
        "id": "Iu3prp5pl_z8",
        "outputId": "96eed699-3c67-4b6d-fe56-47d58a4fa679"
      },
      "execution_count": null,
      "outputs": [
        {
          "output_type": "stream",
          "name": "stdout",
          "text": [
            "Best parameters:  {'alpha': 0.1, 'eta0': 0.001, 'max_iter': 10000}\n",
            "Best result:  0.7098898456144873\n",
            "Intercept β0:  [69.2238437]\n",
            "                  Features  Coefficients\n",
            "8                     BMI       1.641658\n",
            "12             Diphtheria       1.405106\n",
            "1                   Status      1.076826\n",
            "10                   Polio      1.035275\n",
            "5   percentage expenditure      0.910323\n",
            "4                  Alcohol      0.751676\n",
            "0                     Year      0.468173\n",
            "3            infant deaths      0.000000\n",
            "11       Total expenditure      0.000000\n",
            "15      thinness 5-9 years      0.000000\n",
            "9       under-five deaths      -0.185968\n",
            "7                 Measles      -0.219838\n",
            "6              Hepatitis B     -0.292896\n",
            "14    thinness  1-19 years     -0.486408\n",
            "13                HIV/AIDS     -2.314867\n",
            "2          Adult Mortality     -3.152406\n"
          ]
        }
      ]
    },
    {
      "cell_type": "code",
      "source": [
        "r, c=X_.shape\n",
        "print(X_.shape)\n",
        "print(r,c)\n",
        "print(4/5*r,c)\n",
        "best_result = grid_search1.best_score_\n",
        "print(\"r2: \", best_result)\n",
        "adjusted_r2 = 1-(1-best_result)*(4/5*r-1)/(4/5*r-c-1)# 4/5*r is number of rows in training set, c is number of columns\n",
        "print(\"adjusted_r2: \", adjusted_r2)"
      ],
      "metadata": {
        "colab": {
          "base_uri": "https://localhost:8080/"
        },
        "id": "cWYhj63M0n5q",
        "outputId": "e01bff79-db23-4355-d2cd-d70c676d1d3f"
      },
      "execution_count": null,
      "outputs": [
        {
          "output_type": "stream",
          "name": "stdout",
          "text": [
            "(2938, 16)\n",
            "2938 16\n",
            "2350.4 16\n",
            "r2:  0.7098898456144873\n",
            "adjusted_r2:  0.707900575677842\n"
          ]
        }
      ]
    },
    {
      "cell_type": "markdown",
      "source": [
        "## Using Ridge (L2) Penalty"
      ],
      "metadata": {
        "id": "EbOR_6uitlu8"
      }
    },
    {
      "cell_type": "code",
      "source": [
        "LinearRegression2 = SGDRegressor(random_state = 1, penalty = 'l2') # building the model\n",
        "Hparameter2 = {'eta0': [.0001, .001, .01, .1, 1], 'max_iter':[10000, 15000, 20000, 30000],'alpha': [.001, .01, .1, 1,10, 100]}\n",
        "grid_search2 = GridSearchCV(estimator=LinearRegression2, param_grid=Hparameter2, scoring='r2', cv=5)\n",
        "grid_search2.fit(X_, Y)"
      ],
      "metadata": {
        "colab": {
          "base_uri": "https://localhost:8080/",
          "height": 118
        },
        "id": "FhCCwT16ypYY",
        "outputId": "05350b34-c517-426b-b77d-d5a6c6581b13"
      },
      "execution_count": null,
      "outputs": [
        {
          "output_type": "execute_result",
          "data": {
            "text/plain": [
              "GridSearchCV(cv=5, estimator=SGDRegressor(random_state=1),\n",
              "             param_grid={'alpha': [0.001, 0.01, 0.1, 1, 10, 100],\n",
              "                         'eta0': [0.0001, 0.001, 0.01, 0.1, 1],\n",
              "                         'max_iter': [10000, 15000, 20000, 30000]},\n",
              "             scoring='r2')"
            ],
            "text/html": [
              "<style>#sk-container-id-8 {color: black;background-color: white;}#sk-container-id-8 pre{padding: 0;}#sk-container-id-8 div.sk-toggleable {background-color: white;}#sk-container-id-8 label.sk-toggleable__label {cursor: pointer;display: block;width: 100%;margin-bottom: 0;padding: 0.3em;box-sizing: border-box;text-align: center;}#sk-container-id-8 label.sk-toggleable__label-arrow:before {content: \"▸\";float: left;margin-right: 0.25em;color: #696969;}#sk-container-id-8 label.sk-toggleable__label-arrow:hover:before {color: black;}#sk-container-id-8 div.sk-estimator:hover label.sk-toggleable__label-arrow:before {color: black;}#sk-container-id-8 div.sk-toggleable__content {max-height: 0;max-width: 0;overflow: hidden;text-align: left;background-color: #f0f8ff;}#sk-container-id-8 div.sk-toggleable__content pre {margin: 0.2em;color: black;border-radius: 0.25em;background-color: #f0f8ff;}#sk-container-id-8 input.sk-toggleable__control:checked~div.sk-toggleable__content {max-height: 200px;max-width: 100%;overflow: auto;}#sk-container-id-8 input.sk-toggleable__control:checked~label.sk-toggleable__label-arrow:before {content: \"▾\";}#sk-container-id-8 div.sk-estimator input.sk-toggleable__control:checked~label.sk-toggleable__label {background-color: #d4ebff;}#sk-container-id-8 div.sk-label input.sk-toggleable__control:checked~label.sk-toggleable__label {background-color: #d4ebff;}#sk-container-id-8 input.sk-hidden--visually {border: 0;clip: rect(1px 1px 1px 1px);clip: rect(1px, 1px, 1px, 1px);height: 1px;margin: -1px;overflow: hidden;padding: 0;position: absolute;width: 1px;}#sk-container-id-8 div.sk-estimator {font-family: monospace;background-color: #f0f8ff;border: 1px dotted black;border-radius: 0.25em;box-sizing: border-box;margin-bottom: 0.5em;}#sk-container-id-8 div.sk-estimator:hover {background-color: #d4ebff;}#sk-container-id-8 div.sk-parallel-item::after {content: \"\";width: 100%;border-bottom: 1px solid gray;flex-grow: 1;}#sk-container-id-8 div.sk-label:hover label.sk-toggleable__label {background-color: #d4ebff;}#sk-container-id-8 div.sk-serial::before {content: \"\";position: absolute;border-left: 1px solid gray;box-sizing: border-box;top: 0;bottom: 0;left: 50%;z-index: 0;}#sk-container-id-8 div.sk-serial {display: flex;flex-direction: column;align-items: center;background-color: white;padding-right: 0.2em;padding-left: 0.2em;position: relative;}#sk-container-id-8 div.sk-item {position: relative;z-index: 1;}#sk-container-id-8 div.sk-parallel {display: flex;align-items: stretch;justify-content: center;background-color: white;position: relative;}#sk-container-id-8 div.sk-item::before, #sk-container-id-8 div.sk-parallel-item::before {content: \"\";position: absolute;border-left: 1px solid gray;box-sizing: border-box;top: 0;bottom: 0;left: 50%;z-index: -1;}#sk-container-id-8 div.sk-parallel-item {display: flex;flex-direction: column;z-index: 1;position: relative;background-color: white;}#sk-container-id-8 div.sk-parallel-item:first-child::after {align-self: flex-end;width: 50%;}#sk-container-id-8 div.sk-parallel-item:last-child::after {align-self: flex-start;width: 50%;}#sk-container-id-8 div.sk-parallel-item:only-child::after {width: 0;}#sk-container-id-8 div.sk-dashed-wrapped {border: 1px dashed gray;margin: 0 0.4em 0.5em 0.4em;box-sizing: border-box;padding-bottom: 0.4em;background-color: white;}#sk-container-id-8 div.sk-label label {font-family: monospace;font-weight: bold;display: inline-block;line-height: 1.2em;}#sk-container-id-8 div.sk-label-container {text-align: center;}#sk-container-id-8 div.sk-container {/* jupyter's `normalize.less` sets `[hidden] { display: none; }` but bootstrap.min.css set `[hidden] { display: none !important; }` so we also need the `!important` here to be able to override the default hidden behavior on the sphinx rendered scikit-learn.org. See: https://github.com/scikit-learn/scikit-learn/issues/21755 */display: inline-block !important;position: relative;}#sk-container-id-8 div.sk-text-repr-fallback {display: none;}</style><div id=\"sk-container-id-8\" class=\"sk-top-container\"><div class=\"sk-text-repr-fallback\"><pre>GridSearchCV(cv=5, estimator=SGDRegressor(random_state=1),\n",
              "             param_grid={&#x27;alpha&#x27;: [0.001, 0.01, 0.1, 1, 10, 100],\n",
              "                         &#x27;eta0&#x27;: [0.0001, 0.001, 0.01, 0.1, 1],\n",
              "                         &#x27;max_iter&#x27;: [10000, 15000, 20000, 30000]},\n",
              "             scoring=&#x27;r2&#x27;)</pre><b>In a Jupyter environment, please rerun this cell to show the HTML representation or trust the notebook. <br />On GitHub, the HTML representation is unable to render, please try loading this page with nbviewer.org.</b></div><div class=\"sk-container\" hidden><div class=\"sk-item sk-dashed-wrapped\"><div class=\"sk-label-container\"><div class=\"sk-label sk-toggleable\"><input class=\"sk-toggleable__control sk-hidden--visually\" id=\"sk-estimator-id-22\" type=\"checkbox\" ><label for=\"sk-estimator-id-22\" class=\"sk-toggleable__label sk-toggleable__label-arrow\">GridSearchCV</label><div class=\"sk-toggleable__content\"><pre>GridSearchCV(cv=5, estimator=SGDRegressor(random_state=1),\n",
              "             param_grid={&#x27;alpha&#x27;: [0.001, 0.01, 0.1, 1, 10, 100],\n",
              "                         &#x27;eta0&#x27;: [0.0001, 0.001, 0.01, 0.1, 1],\n",
              "                         &#x27;max_iter&#x27;: [10000, 15000, 20000, 30000]},\n",
              "             scoring=&#x27;r2&#x27;)</pre></div></div></div><div class=\"sk-parallel\"><div class=\"sk-parallel-item\"><div class=\"sk-item\"><div class=\"sk-label-container\"><div class=\"sk-label sk-toggleable\"><input class=\"sk-toggleable__control sk-hidden--visually\" id=\"sk-estimator-id-23\" type=\"checkbox\" ><label for=\"sk-estimator-id-23\" class=\"sk-toggleable__label sk-toggleable__label-arrow\">estimator: SGDRegressor</label><div class=\"sk-toggleable__content\"><pre>SGDRegressor(random_state=1)</pre></div></div></div><div class=\"sk-serial\"><div class=\"sk-item\"><div class=\"sk-estimator sk-toggleable\"><input class=\"sk-toggleable__control sk-hidden--visually\" id=\"sk-estimator-id-24\" type=\"checkbox\" ><label for=\"sk-estimator-id-24\" class=\"sk-toggleable__label sk-toggleable__label-arrow\">SGDRegressor</label><div class=\"sk-toggleable__content\"><pre>SGDRegressor(random_state=1)</pre></div></div></div></div></div></div></div></div></div></div>"
            ]
          },
          "metadata": {},
          "execution_count": 74
        }
      ]
    },
    {
      "cell_type": "code",
      "source": [
        "best_parameters = grid_search2.best_params_\n",
        "print(\"Best parameters: \", best_parameters)\n",
        "best_result = grid_search2.best_score_\n",
        "print(\"Best result: \", best_result)\n",
        "best_model = grid_search2.best_estimator_\n",
        "print(\"Intercept β0: \", best_model.intercept_)\n",
        "#print(DataFrame(zip(X.columns, best_model.coef_), columns=['Features','Coefficients']))\n",
        "print(DataFrame(zip(X.columns, best_model.coef_), columns=['Features','Coefficients']).sort_values(by=['Coefficients'],ascending=False))"
      ],
      "metadata": {
        "colab": {
          "base_uri": "https://localhost:8080/"
        },
        "id": "WYITGZxgt0Bb",
        "outputId": "bec922cb-a38f-4165-d136-89c18dd6d7c6"
      },
      "execution_count": null,
      "outputs": [
        {
          "output_type": "stream",
          "name": "stdout",
          "text": [
            "Best parameters:  {'alpha': 0.001, 'eta0': 0.01, 'max_iter': 10000}\n",
            "Best result:  0.7106613275860516\n",
            "Intercept β0:  [69.26355141]\n",
            "                  Features  Coefficients\n",
            "3            infant deaths      3.885590\n",
            "8                     BMI       1.595892\n",
            "12             Diphtheria       1.444844\n",
            "1                   Status      1.070333\n",
            "10                   Polio      1.062907\n",
            "5   percentage expenditure      0.892804\n",
            "4                  Alcohol      0.799341\n",
            "0                     Year      0.563864\n",
            "15      thinness 5-9 years      0.318594\n",
            "11       Total expenditure     -0.110258\n",
            "7                 Measles      -0.271811\n",
            "6              Hepatitis B     -0.478217\n",
            "14    thinness  1-19 years     -0.743610\n",
            "13                HIV/AIDS     -2.391126\n",
            "2          Adult Mortality     -3.166811\n",
            "9       under-five deaths      -4.018741\n"
          ]
        }
      ]
    },
    {
      "cell_type": "code",
      "source": [
        "best_result = grid_search2.best_score_\n",
        "print(\"r2: \", best_result)\n",
        "adjusted_r2 = 1-(1-best_result)*(4/5*r-1)/(4/5*r-c-1)# 4/5*r is number of rows in training set, c is number of columns\n",
        "print(\"adjusted_r2: \", adjusted_r2)"
      ],
      "metadata": {
        "colab": {
          "base_uri": "https://localhost:8080/"
        },
        "id": "XGwNu4KI111U",
        "outputId": "16b5bf33-cfce-4bd5-fd32-4938d305455c"
      },
      "execution_count": null,
      "outputs": [
        {
          "output_type": "stream",
          "name": "stdout",
          "text": [
            "r2:  0.7106613275860516\n",
            "adjusted_r2:  0.7086773476603538\n"
          ]
        }
      ]
    },
    {
      "cell_type": "markdown",
      "source": [
        "## Using 'Elastic net' Penalty"
      ],
      "metadata": {
        "id": "wFyhrvFHvyl0"
      }
    },
    {
      "cell_type": "code",
      "source": [
        "LinearRegression3 = SGDRegressor(random_state = 1, penalty = 'elasticnet') # building the model\n",
        "Hparameter3 = {'eta0': [.0001, .001, .01, .1, 1], 'max_iter':[10000, 15000, 20000, 30000],'alpha': [.001, .01, .1, 1,10, 100], 'l1_ratio': [0,0.25,0.5,0.75,1]}\n",
        "grid_search3 = GridSearchCV(estimator=LinearRegression3, param_grid=Hparameter3, scoring='r2', cv=5)\n",
        "grid_search3.fit(X_, Y)"
      ],
      "metadata": {
        "colab": {
          "base_uri": "https://localhost:8080/",
          "height": 118
        },
        "id": "g2Bq6NV5zoLh",
        "outputId": "c08e2cf8-1318-4368-a12c-cd6f732ef25c"
      },
      "execution_count": null,
      "outputs": [
        {
          "output_type": "execute_result",
          "data": {
            "text/plain": [
              "GridSearchCV(cv=5, estimator=SGDRegressor(penalty='elasticnet', random_state=1),\n",
              "             param_grid={'alpha': [0.001, 0.01, 0.1, 1, 10, 100],\n",
              "                         'eta0': [0.0001, 0.001, 0.01, 0.1, 1],\n",
              "                         'l1_ratio': [0, 0.25, 0.5, 0.75, 1],\n",
              "                         'max_iter': [10000, 15000, 20000, 30000]},\n",
              "             scoring='r2')"
            ],
            "text/html": [
              "<style>#sk-container-id-9 {color: black;background-color: white;}#sk-container-id-9 pre{padding: 0;}#sk-container-id-9 div.sk-toggleable {background-color: white;}#sk-container-id-9 label.sk-toggleable__label {cursor: pointer;display: block;width: 100%;margin-bottom: 0;padding: 0.3em;box-sizing: border-box;text-align: center;}#sk-container-id-9 label.sk-toggleable__label-arrow:before {content: \"▸\";float: left;margin-right: 0.25em;color: #696969;}#sk-container-id-9 label.sk-toggleable__label-arrow:hover:before {color: black;}#sk-container-id-9 div.sk-estimator:hover label.sk-toggleable__label-arrow:before {color: black;}#sk-container-id-9 div.sk-toggleable__content {max-height: 0;max-width: 0;overflow: hidden;text-align: left;background-color: #f0f8ff;}#sk-container-id-9 div.sk-toggleable__content pre {margin: 0.2em;color: black;border-radius: 0.25em;background-color: #f0f8ff;}#sk-container-id-9 input.sk-toggleable__control:checked~div.sk-toggleable__content {max-height: 200px;max-width: 100%;overflow: auto;}#sk-container-id-9 input.sk-toggleable__control:checked~label.sk-toggleable__label-arrow:before {content: \"▾\";}#sk-container-id-9 div.sk-estimator input.sk-toggleable__control:checked~label.sk-toggleable__label {background-color: #d4ebff;}#sk-container-id-9 div.sk-label input.sk-toggleable__control:checked~label.sk-toggleable__label {background-color: #d4ebff;}#sk-container-id-9 input.sk-hidden--visually {border: 0;clip: rect(1px 1px 1px 1px);clip: rect(1px, 1px, 1px, 1px);height: 1px;margin: -1px;overflow: hidden;padding: 0;position: absolute;width: 1px;}#sk-container-id-9 div.sk-estimator {font-family: monospace;background-color: #f0f8ff;border: 1px dotted black;border-radius: 0.25em;box-sizing: border-box;margin-bottom: 0.5em;}#sk-container-id-9 div.sk-estimator:hover {background-color: #d4ebff;}#sk-container-id-9 div.sk-parallel-item::after {content: \"\";width: 100%;border-bottom: 1px solid gray;flex-grow: 1;}#sk-container-id-9 div.sk-label:hover label.sk-toggleable__label {background-color: #d4ebff;}#sk-container-id-9 div.sk-serial::before {content: \"\";position: absolute;border-left: 1px solid gray;box-sizing: border-box;top: 0;bottom: 0;left: 50%;z-index: 0;}#sk-container-id-9 div.sk-serial {display: flex;flex-direction: column;align-items: center;background-color: white;padding-right: 0.2em;padding-left: 0.2em;position: relative;}#sk-container-id-9 div.sk-item {position: relative;z-index: 1;}#sk-container-id-9 div.sk-parallel {display: flex;align-items: stretch;justify-content: center;background-color: white;position: relative;}#sk-container-id-9 div.sk-item::before, #sk-container-id-9 div.sk-parallel-item::before {content: \"\";position: absolute;border-left: 1px solid gray;box-sizing: border-box;top: 0;bottom: 0;left: 50%;z-index: -1;}#sk-container-id-9 div.sk-parallel-item {display: flex;flex-direction: column;z-index: 1;position: relative;background-color: white;}#sk-container-id-9 div.sk-parallel-item:first-child::after {align-self: flex-end;width: 50%;}#sk-container-id-9 div.sk-parallel-item:last-child::after {align-self: flex-start;width: 50%;}#sk-container-id-9 div.sk-parallel-item:only-child::after {width: 0;}#sk-container-id-9 div.sk-dashed-wrapped {border: 1px dashed gray;margin: 0 0.4em 0.5em 0.4em;box-sizing: border-box;padding-bottom: 0.4em;background-color: white;}#sk-container-id-9 div.sk-label label {font-family: monospace;font-weight: bold;display: inline-block;line-height: 1.2em;}#sk-container-id-9 div.sk-label-container {text-align: center;}#sk-container-id-9 div.sk-container {/* jupyter's `normalize.less` sets `[hidden] { display: none; }` but bootstrap.min.css set `[hidden] { display: none !important; }` so we also need the `!important` here to be able to override the default hidden behavior on the sphinx rendered scikit-learn.org. See: https://github.com/scikit-learn/scikit-learn/issues/21755 */display: inline-block !important;position: relative;}#sk-container-id-9 div.sk-text-repr-fallback {display: none;}</style><div id=\"sk-container-id-9\" class=\"sk-top-container\"><div class=\"sk-text-repr-fallback\"><pre>GridSearchCV(cv=5, estimator=SGDRegressor(penalty=&#x27;elasticnet&#x27;, random_state=1),\n",
              "             param_grid={&#x27;alpha&#x27;: [0.001, 0.01, 0.1, 1, 10, 100],\n",
              "                         &#x27;eta0&#x27;: [0.0001, 0.001, 0.01, 0.1, 1],\n",
              "                         &#x27;l1_ratio&#x27;: [0, 0.25, 0.5, 0.75, 1],\n",
              "                         &#x27;max_iter&#x27;: [10000, 15000, 20000, 30000]},\n",
              "             scoring=&#x27;r2&#x27;)</pre><b>In a Jupyter environment, please rerun this cell to show the HTML representation or trust the notebook. <br />On GitHub, the HTML representation is unable to render, please try loading this page with nbviewer.org.</b></div><div class=\"sk-container\" hidden><div class=\"sk-item sk-dashed-wrapped\"><div class=\"sk-label-container\"><div class=\"sk-label sk-toggleable\"><input class=\"sk-toggleable__control sk-hidden--visually\" id=\"sk-estimator-id-25\" type=\"checkbox\" ><label for=\"sk-estimator-id-25\" class=\"sk-toggleable__label sk-toggleable__label-arrow\">GridSearchCV</label><div class=\"sk-toggleable__content\"><pre>GridSearchCV(cv=5, estimator=SGDRegressor(penalty=&#x27;elasticnet&#x27;, random_state=1),\n",
              "             param_grid={&#x27;alpha&#x27;: [0.001, 0.01, 0.1, 1, 10, 100],\n",
              "                         &#x27;eta0&#x27;: [0.0001, 0.001, 0.01, 0.1, 1],\n",
              "                         &#x27;l1_ratio&#x27;: [0, 0.25, 0.5, 0.75, 1],\n",
              "                         &#x27;max_iter&#x27;: [10000, 15000, 20000, 30000]},\n",
              "             scoring=&#x27;r2&#x27;)</pre></div></div></div><div class=\"sk-parallel\"><div class=\"sk-parallel-item\"><div class=\"sk-item\"><div class=\"sk-label-container\"><div class=\"sk-label sk-toggleable\"><input class=\"sk-toggleable__control sk-hidden--visually\" id=\"sk-estimator-id-26\" type=\"checkbox\" ><label for=\"sk-estimator-id-26\" class=\"sk-toggleable__label sk-toggleable__label-arrow\">estimator: SGDRegressor</label><div class=\"sk-toggleable__content\"><pre>SGDRegressor(penalty=&#x27;elasticnet&#x27;, random_state=1)</pre></div></div></div><div class=\"sk-serial\"><div class=\"sk-item\"><div class=\"sk-estimator sk-toggleable\"><input class=\"sk-toggleable__control sk-hidden--visually\" id=\"sk-estimator-id-27\" type=\"checkbox\" ><label for=\"sk-estimator-id-27\" class=\"sk-toggleable__label sk-toggleable__label-arrow\">SGDRegressor</label><div class=\"sk-toggleable__content\"><pre>SGDRegressor(penalty=&#x27;elasticnet&#x27;, random_state=1)</pre></div></div></div></div></div></div></div></div></div></div>"
            ]
          },
          "metadata": {},
          "execution_count": 77
        }
      ]
    },
    {
      "cell_type": "code",
      "source": [
        "best_parameters = grid_search3.best_params_\n",
        "print(\"Best parameters: \", best_parameters)\n",
        "best_result = grid_search3.best_score_\n",
        "print(\"Best result: \", best_result)\n",
        "best_model = grid_search3.best_estimator_\n",
        "print(\"Intercept β0: \", best_model.intercept_)\n",
        "#print(DataFrame(zip(X.columns, best_model.coef_), columns=['Features','Coefficients']))\n",
        "print(DataFrame(zip(X.columns, best_model.coef_), columns=['Features','Coefficients']).sort_values(by=['Coefficients'],ascending=False))"
      ],
      "metadata": {
        "colab": {
          "base_uri": "https://localhost:8080/"
        },
        "id": "E00_c01MwA2B",
        "outputId": "12cb1ea8-edce-4f86-b62b-2e394e6f19eb"
      },
      "execution_count": null,
      "outputs": [
        {
          "output_type": "stream",
          "name": "stdout",
          "text": [
            "Best parameters:  {'alpha': 0.1, 'eta0': 0.01, 'l1_ratio': 0.25, 'max_iter': 10000}\n",
            "Best result:  0.7130452940215314\n",
            "Intercept β0:  [69.3158726]\n",
            "                  Features  Coefficients\n",
            "8                     BMI       1.512867\n",
            "12             Diphtheria       1.380090\n",
            "1                   Status      1.095130\n",
            "10                   Polio      1.051849\n",
            "5   percentage expenditure      0.900447\n",
            "4                  Alcohol      0.759985\n",
            "0                     Year      0.502685\n",
            "3            infant deaths      0.335115\n",
            "11       Total expenditure      0.000000\n",
            "15      thinness 5-9 years      0.000000\n",
            "7                 Measles      -0.162332\n",
            "9       under-five deaths      -0.311215\n",
            "6              Hepatitis B     -0.362800\n",
            "14    thinness  1-19 years     -0.516708\n",
            "13                HIV/AIDS     -2.316159\n",
            "2          Adult Mortality     -3.020368\n"
          ]
        }
      ]
    },
    {
      "cell_type": "code",
      "source": [
        "best_result = grid_search3.best_score_\n",
        "print(\"r2: \", best_result)\n",
        "adjusted_r2 = 1-(1-best_result)*(4/5*r-1)/(4/5*r-c-1)# 4/5*r is number of rows in training set, c is number of columns\n",
        "print(\"adjusted_r2: \", adjusted_r2)"
      ],
      "metadata": {
        "colab": {
          "base_uri": "https://localhost:8080/"
        },
        "id": "QD_sQ4I621sP",
        "outputId": "d99f0f9b-410c-4028-b8ca-f12e39f47cb1"
      },
      "execution_count": null,
      "outputs": [
        {
          "output_type": "stream",
          "name": "stdout",
          "text": [
            "r2:  0.7130452940215314\n",
            "adjusted_r2:  0.7110776608271989\n"
          ]
        }
      ]
    },
    {
      "cell_type": "markdown",
      "source": [
        "#Support Vector Regression"
      ],
      "metadata": {
        "id": "Wt8tzulv5Fgj"
      }
    },
    {
      "cell_type": "code",
      "source": [
        "from sklearn.svm import SVR # importing the library\n",
        "SVRegressor = SVR()\n",
        "Hparameters = {'kernel': ['linear', 'poly', 'rbf', 'sigmoid'], 'C': [1,5,10,50,100], 'epsilon': [0.0001, 0.001,0.01,0.1,1]}\n",
        "grid_search4 = GridSearchCV(estimator=SVRegressor, param_grid=Hparameters, scoring='r2', cv = 5) # tuning the hyperparameters using gridsearch\n",
        "grid_search4.fit(X_, Y)"
      ],
      "metadata": {
        "colab": {
          "base_uri": "https://localhost:8080/",
          "height": 118
        },
        "id": "ceKTaSLi5EWy",
        "outputId": "50df1683-df21-46d4-d967-6e67746695e6"
      },
      "execution_count": null,
      "outputs": [
        {
          "output_type": "execute_result",
          "data": {
            "text/plain": [
              "GridSearchCV(cv=5, estimator=SVR(),\n",
              "             param_grid={'C': [1, 5, 10, 50, 100],\n",
              "                         'epsilon': [0.0001, 0.001, 0.01, 0.1, 1],\n",
              "                         'kernel': ['linear', 'poly', 'rbf', 'sigmoid']},\n",
              "             scoring='r2')"
            ],
            "text/html": [
              "<style>#sk-container-id-10 {color: black;background-color: white;}#sk-container-id-10 pre{padding: 0;}#sk-container-id-10 div.sk-toggleable {background-color: white;}#sk-container-id-10 label.sk-toggleable__label {cursor: pointer;display: block;width: 100%;margin-bottom: 0;padding: 0.3em;box-sizing: border-box;text-align: center;}#sk-container-id-10 label.sk-toggleable__label-arrow:before {content: \"▸\";float: left;margin-right: 0.25em;color: #696969;}#sk-container-id-10 label.sk-toggleable__label-arrow:hover:before {color: black;}#sk-container-id-10 div.sk-estimator:hover label.sk-toggleable__label-arrow:before {color: black;}#sk-container-id-10 div.sk-toggleable__content {max-height: 0;max-width: 0;overflow: hidden;text-align: left;background-color: #f0f8ff;}#sk-container-id-10 div.sk-toggleable__content pre {margin: 0.2em;color: black;border-radius: 0.25em;background-color: #f0f8ff;}#sk-container-id-10 input.sk-toggleable__control:checked~div.sk-toggleable__content {max-height: 200px;max-width: 100%;overflow: auto;}#sk-container-id-10 input.sk-toggleable__control:checked~label.sk-toggleable__label-arrow:before {content: \"▾\";}#sk-container-id-10 div.sk-estimator input.sk-toggleable__control:checked~label.sk-toggleable__label {background-color: #d4ebff;}#sk-container-id-10 div.sk-label input.sk-toggleable__control:checked~label.sk-toggleable__label {background-color: #d4ebff;}#sk-container-id-10 input.sk-hidden--visually {border: 0;clip: rect(1px 1px 1px 1px);clip: rect(1px, 1px, 1px, 1px);height: 1px;margin: -1px;overflow: hidden;padding: 0;position: absolute;width: 1px;}#sk-container-id-10 div.sk-estimator {font-family: monospace;background-color: #f0f8ff;border: 1px dotted black;border-radius: 0.25em;box-sizing: border-box;margin-bottom: 0.5em;}#sk-container-id-10 div.sk-estimator:hover {background-color: #d4ebff;}#sk-container-id-10 div.sk-parallel-item::after {content: \"\";width: 100%;border-bottom: 1px solid gray;flex-grow: 1;}#sk-container-id-10 div.sk-label:hover label.sk-toggleable__label {background-color: #d4ebff;}#sk-container-id-10 div.sk-serial::before {content: \"\";position: absolute;border-left: 1px solid gray;box-sizing: border-box;top: 0;bottom: 0;left: 50%;z-index: 0;}#sk-container-id-10 div.sk-serial {display: flex;flex-direction: column;align-items: center;background-color: white;padding-right: 0.2em;padding-left: 0.2em;position: relative;}#sk-container-id-10 div.sk-item {position: relative;z-index: 1;}#sk-container-id-10 div.sk-parallel {display: flex;align-items: stretch;justify-content: center;background-color: white;position: relative;}#sk-container-id-10 div.sk-item::before, #sk-container-id-10 div.sk-parallel-item::before {content: \"\";position: absolute;border-left: 1px solid gray;box-sizing: border-box;top: 0;bottom: 0;left: 50%;z-index: -1;}#sk-container-id-10 div.sk-parallel-item {display: flex;flex-direction: column;z-index: 1;position: relative;background-color: white;}#sk-container-id-10 div.sk-parallel-item:first-child::after {align-self: flex-end;width: 50%;}#sk-container-id-10 div.sk-parallel-item:last-child::after {align-self: flex-start;width: 50%;}#sk-container-id-10 div.sk-parallel-item:only-child::after {width: 0;}#sk-container-id-10 div.sk-dashed-wrapped {border: 1px dashed gray;margin: 0 0.4em 0.5em 0.4em;box-sizing: border-box;padding-bottom: 0.4em;background-color: white;}#sk-container-id-10 div.sk-label label {font-family: monospace;font-weight: bold;display: inline-block;line-height: 1.2em;}#sk-container-id-10 div.sk-label-container {text-align: center;}#sk-container-id-10 div.sk-container {/* jupyter's `normalize.less` sets `[hidden] { display: none; }` but bootstrap.min.css set `[hidden] { display: none !important; }` so we also need the `!important` here to be able to override the default hidden behavior on the sphinx rendered scikit-learn.org. See: https://github.com/scikit-learn/scikit-learn/issues/21755 */display: inline-block !important;position: relative;}#sk-container-id-10 div.sk-text-repr-fallback {display: none;}</style><div id=\"sk-container-id-10\" class=\"sk-top-container\"><div class=\"sk-text-repr-fallback\"><pre>GridSearchCV(cv=5, estimator=SVR(),\n",
              "             param_grid={&#x27;C&#x27;: [1, 5, 10, 50, 100],\n",
              "                         &#x27;epsilon&#x27;: [0.0001, 0.001, 0.01, 0.1, 1],\n",
              "                         &#x27;kernel&#x27;: [&#x27;linear&#x27;, &#x27;poly&#x27;, &#x27;rbf&#x27;, &#x27;sigmoid&#x27;]},\n",
              "             scoring=&#x27;r2&#x27;)</pre><b>In a Jupyter environment, please rerun this cell to show the HTML representation or trust the notebook. <br />On GitHub, the HTML representation is unable to render, please try loading this page with nbviewer.org.</b></div><div class=\"sk-container\" hidden><div class=\"sk-item sk-dashed-wrapped\"><div class=\"sk-label-container\"><div class=\"sk-label sk-toggleable\"><input class=\"sk-toggleable__control sk-hidden--visually\" id=\"sk-estimator-id-28\" type=\"checkbox\" ><label for=\"sk-estimator-id-28\" class=\"sk-toggleable__label sk-toggleable__label-arrow\">GridSearchCV</label><div class=\"sk-toggleable__content\"><pre>GridSearchCV(cv=5, estimator=SVR(),\n",
              "             param_grid={&#x27;C&#x27;: [1, 5, 10, 50, 100],\n",
              "                         &#x27;epsilon&#x27;: [0.0001, 0.001, 0.01, 0.1, 1],\n",
              "                         &#x27;kernel&#x27;: [&#x27;linear&#x27;, &#x27;poly&#x27;, &#x27;rbf&#x27;, &#x27;sigmoid&#x27;]},\n",
              "             scoring=&#x27;r2&#x27;)</pre></div></div></div><div class=\"sk-parallel\"><div class=\"sk-parallel-item\"><div class=\"sk-item\"><div class=\"sk-label-container\"><div class=\"sk-label sk-toggleable\"><input class=\"sk-toggleable__control sk-hidden--visually\" id=\"sk-estimator-id-29\" type=\"checkbox\" ><label for=\"sk-estimator-id-29\" class=\"sk-toggleable__label sk-toggleable__label-arrow\">estimator: SVR</label><div class=\"sk-toggleable__content\"><pre>SVR()</pre></div></div></div><div class=\"sk-serial\"><div class=\"sk-item\"><div class=\"sk-estimator sk-toggleable\"><input class=\"sk-toggleable__control sk-hidden--visually\" id=\"sk-estimator-id-30\" type=\"checkbox\" ><label for=\"sk-estimator-id-30\" class=\"sk-toggleable__label sk-toggleable__label-arrow\">SVR</label><div class=\"sk-toggleable__content\"><pre>SVR()</pre></div></div></div></div></div></div></div></div></div></div>"
            ]
          },
          "metadata": {},
          "execution_count": 81
        }
      ]
    },
    {
      "cell_type": "code",
      "source": [
        "best_parameters = grid_search4.best_params_\n",
        "print(\"Best parameters: \", best_parameters)\n",
        "best_result = grid_search4.best_score_\n",
        "print(\"Best result: \", best_result)"
      ],
      "metadata": {
        "colab": {
          "base_uri": "https://localhost:8080/"
        },
        "id": "qhpJaEKtyI_M",
        "outputId": "9fa443c9-9152-4c0b-bb42-0e2c664b9661"
      },
      "execution_count": null,
      "outputs": [
        {
          "output_type": "stream",
          "name": "stdout",
          "text": [
            "Best parameters:  {'C': 50, 'epsilon': 1, 'kernel': 'rbf'}\n",
            "Best result:  0.8676638131642553\n"
          ]
        }
      ]
    },
    {
      "cell_type": "code",
      "source": [
        "best_result = grid_search4.best_score_\n",
        "print(\"r2: \", best_result)\n",
        "adjusted_r2 = 1-(1-best_result)*(4/5*r-1)/(4/5*r-c-1)# 4/5*r is number of rows in training set, c is number of columns\n",
        "print(\"adjusted_r2: \", adjusted_r2)"
      ],
      "metadata": {
        "colab": {
          "base_uri": "https://localhost:8080/"
        },
        "id": "kT9JEbo67tqv",
        "outputId": "4cb319a5-7449-40af-e8f9-7da797865dcd"
      },
      "execution_count": null,
      "outputs": [
        {
          "output_type": "stream",
          "name": "stdout",
          "text": [
            "r2:  0.8676638131642553\n",
            "adjusted_r2:  0.866756390952302\n"
          ]
        }
      ]
    },
    {
      "cell_type": "markdown",
      "source": [
        "# Random Forest Regression"
      ],
      "metadata": {
        "id": "kWg7S8f9ySxX"
      }
    },
    {
      "cell_type": "code",
      "source": [
        "from sklearn.ensemble import RandomForestRegressor #importing the library\n",
        "RF_Regressor5 = RandomForestRegressor(criterion='squared_error', max_features='sqrt', random_state=1)\n",
        "no_Trees = {'n_estimators': [10,50,100,200,500]}\n",
        "grid_search5 = GridSearchCV(estimator=RF_Regressor5, param_grid=no_Trees, scoring='r2', cv=5)\n",
        "grid_search5.fit(X_, Y)"
      ],
      "metadata": {
        "colab": {
          "base_uri": "https://localhost:8080/",
          "height": 118
        },
        "id": "72rqOUPOchVd",
        "outputId": "2d9910b1-43a0-4ca4-b5af-cacce30d63e7"
      },
      "execution_count": null,
      "outputs": [
        {
          "output_type": "execute_result",
          "data": {
            "text/plain": [
              "GridSearchCV(cv=5,\n",
              "             estimator=RandomForestRegressor(max_features='sqrt',\n",
              "                                             random_state=1),\n",
              "             param_grid={'n_estimators': [10, 50, 100, 200, 500]},\n",
              "             scoring='r2')"
            ],
            "text/html": [
              "<style>#sk-container-id-11 {color: black;background-color: white;}#sk-container-id-11 pre{padding: 0;}#sk-container-id-11 div.sk-toggleable {background-color: white;}#sk-container-id-11 label.sk-toggleable__label {cursor: pointer;display: block;width: 100%;margin-bottom: 0;padding: 0.3em;box-sizing: border-box;text-align: center;}#sk-container-id-11 label.sk-toggleable__label-arrow:before {content: \"▸\";float: left;margin-right: 0.25em;color: #696969;}#sk-container-id-11 label.sk-toggleable__label-arrow:hover:before {color: black;}#sk-container-id-11 div.sk-estimator:hover label.sk-toggleable__label-arrow:before {color: black;}#sk-container-id-11 div.sk-toggleable__content {max-height: 0;max-width: 0;overflow: hidden;text-align: left;background-color: #f0f8ff;}#sk-container-id-11 div.sk-toggleable__content pre {margin: 0.2em;color: black;border-radius: 0.25em;background-color: #f0f8ff;}#sk-container-id-11 input.sk-toggleable__control:checked~div.sk-toggleable__content {max-height: 200px;max-width: 100%;overflow: auto;}#sk-container-id-11 input.sk-toggleable__control:checked~label.sk-toggleable__label-arrow:before {content: \"▾\";}#sk-container-id-11 div.sk-estimator input.sk-toggleable__control:checked~label.sk-toggleable__label {background-color: #d4ebff;}#sk-container-id-11 div.sk-label input.sk-toggleable__control:checked~label.sk-toggleable__label {background-color: #d4ebff;}#sk-container-id-11 input.sk-hidden--visually {border: 0;clip: rect(1px 1px 1px 1px);clip: rect(1px, 1px, 1px, 1px);height: 1px;margin: -1px;overflow: hidden;padding: 0;position: absolute;width: 1px;}#sk-container-id-11 div.sk-estimator {font-family: monospace;background-color: #f0f8ff;border: 1px dotted black;border-radius: 0.25em;box-sizing: border-box;margin-bottom: 0.5em;}#sk-container-id-11 div.sk-estimator:hover {background-color: #d4ebff;}#sk-container-id-11 div.sk-parallel-item::after {content: \"\";width: 100%;border-bottom: 1px solid gray;flex-grow: 1;}#sk-container-id-11 div.sk-label:hover label.sk-toggleable__label {background-color: #d4ebff;}#sk-container-id-11 div.sk-serial::before {content: \"\";position: absolute;border-left: 1px solid gray;box-sizing: border-box;top: 0;bottom: 0;left: 50%;z-index: 0;}#sk-container-id-11 div.sk-serial {display: flex;flex-direction: column;align-items: center;background-color: white;padding-right: 0.2em;padding-left: 0.2em;position: relative;}#sk-container-id-11 div.sk-item {position: relative;z-index: 1;}#sk-container-id-11 div.sk-parallel {display: flex;align-items: stretch;justify-content: center;background-color: white;position: relative;}#sk-container-id-11 div.sk-item::before, #sk-container-id-11 div.sk-parallel-item::before {content: \"\";position: absolute;border-left: 1px solid gray;box-sizing: border-box;top: 0;bottom: 0;left: 50%;z-index: -1;}#sk-container-id-11 div.sk-parallel-item {display: flex;flex-direction: column;z-index: 1;position: relative;background-color: white;}#sk-container-id-11 div.sk-parallel-item:first-child::after {align-self: flex-end;width: 50%;}#sk-container-id-11 div.sk-parallel-item:last-child::after {align-self: flex-start;width: 50%;}#sk-container-id-11 div.sk-parallel-item:only-child::after {width: 0;}#sk-container-id-11 div.sk-dashed-wrapped {border: 1px dashed gray;margin: 0 0.4em 0.5em 0.4em;box-sizing: border-box;padding-bottom: 0.4em;background-color: white;}#sk-container-id-11 div.sk-label label {font-family: monospace;font-weight: bold;display: inline-block;line-height: 1.2em;}#sk-container-id-11 div.sk-label-container {text-align: center;}#sk-container-id-11 div.sk-container {/* jupyter's `normalize.less` sets `[hidden] { display: none; }` but bootstrap.min.css set `[hidden] { display: none !important; }` so we also need the `!important` here to be able to override the default hidden behavior on the sphinx rendered scikit-learn.org. See: https://github.com/scikit-learn/scikit-learn/issues/21755 */display: inline-block !important;position: relative;}#sk-container-id-11 div.sk-text-repr-fallback {display: none;}</style><div id=\"sk-container-id-11\" class=\"sk-top-container\"><div class=\"sk-text-repr-fallback\"><pre>GridSearchCV(cv=5,\n",
              "             estimator=RandomForestRegressor(max_features=&#x27;sqrt&#x27;,\n",
              "                                             random_state=1),\n",
              "             param_grid={&#x27;n_estimators&#x27;: [10, 50, 100, 200, 500]},\n",
              "             scoring=&#x27;r2&#x27;)</pre><b>In a Jupyter environment, please rerun this cell to show the HTML representation or trust the notebook. <br />On GitHub, the HTML representation is unable to render, please try loading this page with nbviewer.org.</b></div><div class=\"sk-container\" hidden><div class=\"sk-item sk-dashed-wrapped\"><div class=\"sk-label-container\"><div class=\"sk-label sk-toggleable\"><input class=\"sk-toggleable__control sk-hidden--visually\" id=\"sk-estimator-id-31\" type=\"checkbox\" ><label for=\"sk-estimator-id-31\" class=\"sk-toggleable__label sk-toggleable__label-arrow\">GridSearchCV</label><div class=\"sk-toggleable__content\"><pre>GridSearchCV(cv=5,\n",
              "             estimator=RandomForestRegressor(max_features=&#x27;sqrt&#x27;,\n",
              "                                             random_state=1),\n",
              "             param_grid={&#x27;n_estimators&#x27;: [10, 50, 100, 200, 500]},\n",
              "             scoring=&#x27;r2&#x27;)</pre></div></div></div><div class=\"sk-parallel\"><div class=\"sk-parallel-item\"><div class=\"sk-item\"><div class=\"sk-label-container\"><div class=\"sk-label sk-toggleable\"><input class=\"sk-toggleable__control sk-hidden--visually\" id=\"sk-estimator-id-32\" type=\"checkbox\" ><label for=\"sk-estimator-id-32\" class=\"sk-toggleable__label sk-toggleable__label-arrow\">estimator: RandomForestRegressor</label><div class=\"sk-toggleable__content\"><pre>RandomForestRegressor(max_features=&#x27;sqrt&#x27;, random_state=1)</pre></div></div></div><div class=\"sk-serial\"><div class=\"sk-item\"><div class=\"sk-estimator sk-toggleable\"><input class=\"sk-toggleable__control sk-hidden--visually\" id=\"sk-estimator-id-33\" type=\"checkbox\" ><label for=\"sk-estimator-id-33\" class=\"sk-toggleable__label sk-toggleable__label-arrow\">RandomForestRegressor</label><div class=\"sk-toggleable__content\"><pre>RandomForestRegressor(max_features=&#x27;sqrt&#x27;, random_state=1)</pre></div></div></div></div></div></div></div></div></div></div>"
            ]
          },
          "metadata": {},
          "execution_count": 84
        }
      ]
    },
    {
      "cell_type": "code",
      "source": [
        "best_parameters = grid_search5.best_params_\n",
        "print(\"Best parameters: \", best_parameters)\n",
        "best_result = grid_search5.best_score_\n",
        "print(\"best_score: \", best_result)\n",
        "adjusted_r2 = 1-(1-best_result)*(4/5*r-1)/(4/5*r-c-1)\n",
        "print(\"adjusted_r2: \", adjusted_r2)\n",
        "Important_feature = Series(grid_search5.best_estimator_.feature_importances_, index=list(X)).sort_values(ascending=False) # Getting important features list for the best model\n",
        "print(Important_feature)"
      ],
      "metadata": {
        "colab": {
          "base_uri": "https://localhost:8080/"
        },
        "id": "7BxfwMRjyhFq",
        "outputId": "b62b99f1-fe41-4815-e2d5-d0d8920c88e5"
      },
      "execution_count": null,
      "outputs": [
        {
          "output_type": "stream",
          "name": "stdout",
          "text": [
            "Best parameters:  {'n_estimators': 100}\n",
            "best_score:  0.8965509259861217\n",
            "adjusted_r2:  0.895841581174164\n",
            " HIV/AIDS                 0.283588\n",
            "Adult Mortality           0.247637\n",
            " BMI                      0.081405\n",
            "under-five deaths         0.079173\n",
            " thinness 5-9 years       0.051101\n",
            "Diphtheria                0.040731\n",
            "Polio                     0.040284\n",
            " thinness  1-19 years     0.034835\n",
            "Status                    0.030032\n",
            "infant deaths             0.025808\n",
            "Alcohol                   0.023650\n",
            "percentage expenditure    0.020418\n",
            "Hepatitis B               0.011978\n",
            "Total expenditure         0.011367\n",
            "Year                      0.010326\n",
            "Measles                   0.007665\n",
            "dtype: float64\n"
          ]
        }
      ]
    },
    {
      "cell_type": "code",
      "source": [
        "X = data1[[' HIV/AIDS','Adult Mortality',' BMI ','under-five deaths ',' thinness 5-9 years','Diphtheria ']]\n",
        "X_ = StandardScaler().fit_transform(X)\n",
        "\n",
        "RF_Regressor6 = RandomForestRegressor(criterion='squared_error', max_features='sqrt', random_state=1)\n",
        "no_Trees = {'n_estimators': [50,100,150,200,250]}\n",
        "grid_search6 = GridSearchCV(estimator=RF_Regressor6, param_grid=no_Trees, scoring='r2', cv=5)\n",
        "grid_search6.fit(X_, Y)"
      ],
      "metadata": {
        "colab": {
          "base_uri": "https://localhost:8080/",
          "height": 118
        },
        "id": "jey6_AP6dM9L",
        "outputId": "cc2f4c79-e5cc-448b-bf56-17ee28286fdb"
      },
      "execution_count": null,
      "outputs": [
        {
          "output_type": "execute_result",
          "data": {
            "text/plain": [
              "GridSearchCV(cv=5,\n",
              "             estimator=RandomForestRegressor(max_features='sqrt',\n",
              "                                             random_state=1),\n",
              "             param_grid={'n_estimators': [50, 100, 150, 200, 250]},\n",
              "             scoring='r2')"
            ],
            "text/html": [
              "<style>#sk-container-id-14 {color: black;background-color: white;}#sk-container-id-14 pre{padding: 0;}#sk-container-id-14 div.sk-toggleable {background-color: white;}#sk-container-id-14 label.sk-toggleable__label {cursor: pointer;display: block;width: 100%;margin-bottom: 0;padding: 0.3em;box-sizing: border-box;text-align: center;}#sk-container-id-14 label.sk-toggleable__label-arrow:before {content: \"▸\";float: left;margin-right: 0.25em;color: #696969;}#sk-container-id-14 label.sk-toggleable__label-arrow:hover:before {color: black;}#sk-container-id-14 div.sk-estimator:hover label.sk-toggleable__label-arrow:before {color: black;}#sk-container-id-14 div.sk-toggleable__content {max-height: 0;max-width: 0;overflow: hidden;text-align: left;background-color: #f0f8ff;}#sk-container-id-14 div.sk-toggleable__content pre {margin: 0.2em;color: black;border-radius: 0.25em;background-color: #f0f8ff;}#sk-container-id-14 input.sk-toggleable__control:checked~div.sk-toggleable__content {max-height: 200px;max-width: 100%;overflow: auto;}#sk-container-id-14 input.sk-toggleable__control:checked~label.sk-toggleable__label-arrow:before {content: \"▾\";}#sk-container-id-14 div.sk-estimator input.sk-toggleable__control:checked~label.sk-toggleable__label {background-color: #d4ebff;}#sk-container-id-14 div.sk-label input.sk-toggleable__control:checked~label.sk-toggleable__label {background-color: #d4ebff;}#sk-container-id-14 input.sk-hidden--visually {border: 0;clip: rect(1px 1px 1px 1px);clip: rect(1px, 1px, 1px, 1px);height: 1px;margin: -1px;overflow: hidden;padding: 0;position: absolute;width: 1px;}#sk-container-id-14 div.sk-estimator {font-family: monospace;background-color: #f0f8ff;border: 1px dotted black;border-radius: 0.25em;box-sizing: border-box;margin-bottom: 0.5em;}#sk-container-id-14 div.sk-estimator:hover {background-color: #d4ebff;}#sk-container-id-14 div.sk-parallel-item::after {content: \"\";width: 100%;border-bottom: 1px solid gray;flex-grow: 1;}#sk-container-id-14 div.sk-label:hover label.sk-toggleable__label {background-color: #d4ebff;}#sk-container-id-14 div.sk-serial::before {content: \"\";position: absolute;border-left: 1px solid gray;box-sizing: border-box;top: 0;bottom: 0;left: 50%;z-index: 0;}#sk-container-id-14 div.sk-serial {display: flex;flex-direction: column;align-items: center;background-color: white;padding-right: 0.2em;padding-left: 0.2em;position: relative;}#sk-container-id-14 div.sk-item {position: relative;z-index: 1;}#sk-container-id-14 div.sk-parallel {display: flex;align-items: stretch;justify-content: center;background-color: white;position: relative;}#sk-container-id-14 div.sk-item::before, #sk-container-id-14 div.sk-parallel-item::before {content: \"\";position: absolute;border-left: 1px solid gray;box-sizing: border-box;top: 0;bottom: 0;left: 50%;z-index: -1;}#sk-container-id-14 div.sk-parallel-item {display: flex;flex-direction: column;z-index: 1;position: relative;background-color: white;}#sk-container-id-14 div.sk-parallel-item:first-child::after {align-self: flex-end;width: 50%;}#sk-container-id-14 div.sk-parallel-item:last-child::after {align-self: flex-start;width: 50%;}#sk-container-id-14 div.sk-parallel-item:only-child::after {width: 0;}#sk-container-id-14 div.sk-dashed-wrapped {border: 1px dashed gray;margin: 0 0.4em 0.5em 0.4em;box-sizing: border-box;padding-bottom: 0.4em;background-color: white;}#sk-container-id-14 div.sk-label label {font-family: monospace;font-weight: bold;display: inline-block;line-height: 1.2em;}#sk-container-id-14 div.sk-label-container {text-align: center;}#sk-container-id-14 div.sk-container {/* jupyter's `normalize.less` sets `[hidden] { display: none; }` but bootstrap.min.css set `[hidden] { display: none !important; }` so we also need the `!important` here to be able to override the default hidden behavior on the sphinx rendered scikit-learn.org. See: https://github.com/scikit-learn/scikit-learn/issues/21755 */display: inline-block !important;position: relative;}#sk-container-id-14 div.sk-text-repr-fallback {display: none;}</style><div id=\"sk-container-id-14\" class=\"sk-top-container\"><div class=\"sk-text-repr-fallback\"><pre>GridSearchCV(cv=5,\n",
              "             estimator=RandomForestRegressor(max_features=&#x27;sqrt&#x27;,\n",
              "                                             random_state=1),\n",
              "             param_grid={&#x27;n_estimators&#x27;: [50, 100, 150, 200, 250]},\n",
              "             scoring=&#x27;r2&#x27;)</pre><b>In a Jupyter environment, please rerun this cell to show the HTML representation or trust the notebook. <br />On GitHub, the HTML representation is unable to render, please try loading this page with nbviewer.org.</b></div><div class=\"sk-container\" hidden><div class=\"sk-item sk-dashed-wrapped\"><div class=\"sk-label-container\"><div class=\"sk-label sk-toggleable\"><input class=\"sk-toggleable__control sk-hidden--visually\" id=\"sk-estimator-id-40\" type=\"checkbox\" ><label for=\"sk-estimator-id-40\" class=\"sk-toggleable__label sk-toggleable__label-arrow\">GridSearchCV</label><div class=\"sk-toggleable__content\"><pre>GridSearchCV(cv=5,\n",
              "             estimator=RandomForestRegressor(max_features=&#x27;sqrt&#x27;,\n",
              "                                             random_state=1),\n",
              "             param_grid={&#x27;n_estimators&#x27;: [50, 100, 150, 200, 250]},\n",
              "             scoring=&#x27;r2&#x27;)</pre></div></div></div><div class=\"sk-parallel\"><div class=\"sk-parallel-item\"><div class=\"sk-item\"><div class=\"sk-label-container\"><div class=\"sk-label sk-toggleable\"><input class=\"sk-toggleable__control sk-hidden--visually\" id=\"sk-estimator-id-41\" type=\"checkbox\" ><label for=\"sk-estimator-id-41\" class=\"sk-toggleable__label sk-toggleable__label-arrow\">estimator: RandomForestRegressor</label><div class=\"sk-toggleable__content\"><pre>RandomForestRegressor(max_features=&#x27;sqrt&#x27;, random_state=1)</pre></div></div></div><div class=\"sk-serial\"><div class=\"sk-item\"><div class=\"sk-estimator sk-toggleable\"><input class=\"sk-toggleable__control sk-hidden--visually\" id=\"sk-estimator-id-42\" type=\"checkbox\" ><label for=\"sk-estimator-id-42\" class=\"sk-toggleable__label sk-toggleable__label-arrow\">RandomForestRegressor</label><div class=\"sk-toggleable__content\"><pre>RandomForestRegressor(max_features=&#x27;sqrt&#x27;, random_state=1)</pre></div></div></div></div></div></div></div></div></div></div>"
            ]
          },
          "metadata": {},
          "execution_count": 92
        }
      ]
    },
    {
      "cell_type": "code",
      "source": [
        "best_parameters = grid_search6.best_params_\n",
        "print(\"Best parameters: \", best_parameters)\n",
        "best_result = grid_search6.best_score_\n",
        "print(\"r2: \", best_result)\n",
        "adjusted_r2 = 1-(1-best_result)*(4/5*r-1)/(4/5*r-c-1)\n",
        "print(\"adjusted_r2: \", adjusted_r2)\n",
        "best_model = grid_search6.best_estimator_"
      ],
      "metadata": {
        "colab": {
          "base_uri": "https://localhost:8080/"
        },
        "id": "5D4A9q5Gfno-",
        "outputId": "7057c055-3ef7-4718-db6a-2d3e6686c444"
      },
      "execution_count": null,
      "outputs": [
        {
          "output_type": "stream",
          "name": "stdout",
          "text": [
            "Best parameters:  {'n_estimators': 250}\n",
            "r2:  0.8977531861727073\n",
            "adjusted_r2:  0.8970520851950623\n"
          ]
        }
      ]
    },
    {
      "cell_type": "markdown",
      "source": [
        "# Predicting for Model"
      ],
      "metadata": {
        "id": "tEN3SLgmzNdl"
      }
    },
    {
      "cell_type": "code",
      "source": [
        "import joblib #importing the library\n",
        "\n",
        "joblib.dump(best_model, \"model.pkl\")\n",
        "print(best_model)"
      ],
      "metadata": {
        "colab": {
          "base_uri": "https://localhost:8080/"
        },
        "id": "A7RQ-rpx0Yhc",
        "outputId": "d8cf0a1b-f455-4a5e-d90f-e0685994f56c"
      },
      "execution_count": null,
      "outputs": [
        {
          "output_type": "stream",
          "name": "stdout",
          "text": [
            "RandomForestRegressor(max_features='sqrt', n_estimators=250, random_state=1)\n"
          ]
        }
      ]
    },
    {
      "cell_type": "code",
      "source": [
        "My_model = joblib.load(\"model.pkl\")\n",
        "x=[[0.1,271,18.6,86,17.5,82]] # inputs for columns -'HIV/AIDS','Adult Mortality',' BMI ','under-five deaths ',' thinness 5-9 years','Diphtheria\n",
        "predict=My_model.predict(x)[0]\n",
        "predict=round(My_model.predict(x)[0],2)\n",
        "print('The predicted Life expectancy: ',predict)"
      ],
      "metadata": {
        "id": "KFZrok5tCilV",
        "colab": {
          "base_uri": "https://localhost:8080/"
        },
        "outputId": "aacd5ec2-bca8-4731-e753-8b8c5beba2e4"
      },
      "execution_count": 99,
      "outputs": [
        {
          "output_type": "stream",
          "name": "stdout",
          "text": [
            "The predicted Life expectancy:  55.28\n"
          ]
        }
      ]
    }
  ]
}